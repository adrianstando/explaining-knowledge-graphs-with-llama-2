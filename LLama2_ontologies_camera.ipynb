{
  "nbformat": 4,
  "nbformat_minor": 0,
  "metadata": {
    "colab": {
      "provenance": [],
      "gpuType": "T4"
    },
    "kernelspec": {
      "name": "python3",
      "display_name": "Python 3"
    },
    "language_info": {
      "name": "python"
    },
    "accelerator": "GPU"
  },
  "cells": [
    {
      "cell_type": "markdown",
      "source": [
        "# Explaining Knowledge Graphs with LLM"
      ],
      "metadata": {
        "id": "E_zU7VJJqiU7"
      }
    },
    {
      "cell_type": "code",
      "execution_count": null,
      "metadata": {
        "id": "0f5dCd2jxakz"
      },
      "outputs": [],
      "source": [
        "%%capture\n",
        "\n",
        "! CMAKE_ARGS=\"-DLLAMA_CUBLAS=on\" FORCE_CMAKE=1 pip install llama-cpp-python==0.2.26\n",
        "! wget https://huggingface.co/TheBloke/Llama-2-7B-Chat-GGUF/resolve/main/llama-2-7b-chat.Q4_K_M.gguf?download=true\n",
        "! mv llama-2-7b-chat.Q4_K_M.gguf?download=true ./llama-2-7b-chat.Q4_K_M.gguf\n",
        "! pip install rdflib==7.0.0"
      ]
    },
    {
      "cell_type": "markdown",
      "source": [
        "## Main class for running LLama"
      ],
      "metadata": {
        "id": "A3cXYzxf27eU"
      }
    },
    {
      "cell_type": "code",
      "source": [
        "from llama_cpp import Llama\n",
        "import os\n",
        "import re\n",
        "from rdflib import Graph, Namespace, URIRef, Literal, BNode\n",
        "from rdflib.namespace import RDFS, RDF, OWL, XSD, SOSA, SKOS\n",
        "from copy import deepcopy\n",
        "from collections import defaultdict\n",
        "from itertools import product"
      ],
      "metadata": {
        "id": "Ze2GZJr4Qfg4"
      },
      "execution_count": null,
      "outputs": []
    },
    {
      "cell_type": "code",
      "source": [
        "model_path_middle = \"./llama-2-7b-chat.Q4_K_M.gguf\"\n",
        "DEFAULT_ONTOLOGIES = ['sosa.ttl', 'rdfs.ttl', 'rdf.ttl', 'owl.ttl']\n",
        "DEFAULT_IRIS = ['http://www.w3.org/ns/sosa', 'http://www.w3.org/2000/01/rdf-schema#', 'http://www.w3.org/1999/02/22-rdf-syntax-ns#', 'http://www.w3.org/2002/07/owl#']\n",
        "get_iri = lambda x: '/'.join(x.split('/')[:-1])\n",
        "\n",
        "def get_graph_data(graph):\n",
        "  graph_data = graph.serialize()\n",
        "  graph_data = re.sub(\"<[^ ]*\\/([^ \\/]*)>\", \"\\g<1>\", graph_data)\n",
        "  graph_data = '\\n'.join([x for x in graph_data.split('\\n') if x[:7] != '@prefix' and x != ''])\n",
        "  return graph_data\n",
        "\n",
        "class GraphExplainer:\n",
        "  def __init__(self, model_path=model_path_middle, n_ctx=4096, n_batch=2048):\n",
        "    self.model_path = model_path\n",
        "    self.n_threads = os.cpu_count()\n",
        "    self.n_gpu = -1\n",
        "    self.n_ctx = n_ctx\n",
        "    self.n_batch = n_batch\n",
        "    self.llm = self.load_model(n_ctx=self.n_ctx, n_batch=self.n_batch)\n",
        "\n",
        "  def load_model(self, *args, **kwargs):\n",
        "    return Llama(model_path=self.model_path, n_gpu_layers=self.n_gpu, n_threads=self.n_threads, *args, **kwargs)\n",
        "\n",
        "  def explain_graph(self, system_prompt, user_prompt, *args, **kwargs):\n",
        "    out = self.llm.create_chat_completion(\n",
        "      messages = [\n",
        "          {\"role\": \"system\", \"content\": system_prompt},\n",
        "          {\"role\": \"user\", \"content\": user_prompt}\n",
        "      ],\n",
        "      *args, **kwargs\n",
        "    )\n",
        "    return out['choices'][0]['message']['content']\n",
        "\n",
        "  def set_ontologies_lookup(self, ontologies_paths, ontologies_iris):\n",
        "    if type(ontologies_paths) == str:\n",
        "      ontologies_paths = [ontologies_paths]\n",
        "    if type(ontologies_iris) == str:\n",
        "      ontologies_iris = [ontologies_iris]\n",
        "    all_ontologies = deepcopy(DEFAULT_ONTOLOGIES)\n",
        "    all_ontologies.extend(ontologies_paths)\n",
        "    all_iris = deepcopy(DEFAULT_IRIS)\n",
        "    all_iris.extend(ontologies_iris)\n",
        "\n",
        "    self.ontologies_dict = {}\n",
        "    for ont, iri in zip(all_ontologies, all_iris):\n",
        "      ont_graph = Graph().parse(ont, format='ttl')\n",
        "      self.ontologies_dict[iri]=ont_graph\n",
        "    return\n",
        "\n",
        "  def process_graph(self, file_path):\n",
        "    processed_graph = Graph().parse(file_path, format='ttl')\n",
        "    required_ontologies = []\n",
        "    for s, p, o in processed_graph.triples((None, None, None)):\n",
        "        for element in [s,p,o]:\n",
        "          if 'http' in str(element):\n",
        "            required_ontologies.append(element)\n",
        "    required_ontologies = list(set(required_ontologies))\n",
        "\n",
        "    ontologies_graph = Graph()\n",
        "    for data_required in required_ontologies:\n",
        "      temp_iri = get_iri(data_required)\n",
        "      if temp_iri in self.ontologies_dict.keys():\n",
        "        relevant_ontology = self.ontologies_dict[temp_iri]\n",
        "        for s, p, o in relevant_ontology.triples((data_required, None, None)):\n",
        "          ontologies_graph.add((s,p,o))\n",
        "    ontology_text = get_graph_data(ontologies_graph)\n",
        "    input_text = get_graph_data(processed_graph)\n",
        "    return input_text, ontology_text"
      ],
      "metadata": {
        "id": "6sLKQajJbgYP"
      },
      "execution_count": null,
      "outputs": []
    },
    {
      "cell_type": "markdown",
      "source": [
        "## Running the code"
      ],
      "metadata": {
        "id": "ltORFc0yr7m1"
      }
    },
    {
      "cell_type": "code",
      "source": [
        "explainer = GraphExplainer()\n",
        "explainer.set_ontologies_lookup(['./content/pilot2.ttl'], ['https://assist-iot.eu/ontologies'])"
      ],
      "metadata": {
        "colab": {
          "base_uri": "https://localhost:8080/"
        },
        "id": "2B3aRxwSeKLt",
        "outputId": "e1f77c4a-957b-409b-e422-2a562effdb4e"
      },
      "execution_count": null,
      "outputs": [
        {
          "output_type": "stream",
          "name": "stderr",
          "text": [
            "AVX = 1 | AVX2 = 1 | AVX512 = 1 | AVX512_VBMI = 0 | AVX512_VNNI = 0 | FMA = 1 | NEON = 0 | ARM_FMA = 0 | F16C = 1 | FP16_VA = 0 | WASM_SIMD = 0 | BLAS = 1 | SSE3 = 1 | SSSE3 = 1 | VSX = 0 | \n"
          ]
        }
      ]
    },
    {
      "cell_type": "code",
      "source": [
        "cams = ['cam_0000003596.ttl', 'cam_0000005028.ttl', 'cam_0000014000.ttl', 'cam_0000014017.ttl', 'cam_0000014019.ttl', 'cam_0000014025.ttl', 'cam_0000014026.ttl', 'cam_0000014036.ttl']"
      ],
      "metadata": {
        "id": "2okpuvxaHU1l"
      },
      "execution_count": null,
      "outputs": []
    },
    {
      "cell_type": "markdown",
      "source": [
        "## Results for cameras"
      ],
      "metadata": {
        "id": "m_SbVwvHtnCY"
      }
    },
    {
      "cell_type": "code",
      "source": [
        "system_prompt_1 = lambda x: \"\"\"\n",
        "You are a master in the field of knowledge graphs. You perfectly know turtle and you explain their contents using layman's terms. Use the following ontology to understand the data.\n",
        "\"\"\" + x\n",
        "input_prompt_1 = lambda x: \"Summarize only the data of the following graph, in sentences only. Focus on the values at the end of each line.\\n\\n\" + x"
      ],
      "metadata": {
        "id": "vdHZoe16sGuN"
      },
      "execution_count": null,
      "outputs": []
    },
    {
      "cell_type": "code",
      "source": [
        "system_prompt_2 = lambda x: f\"\"\"\n",
        "You are an expert in knowledge graphs. Use the following ontology to understand the data.\n",
        "\n",
        "{x}\n",
        "\n",
        "You are the assistant who, given a graph, can extract the most important information from it. Focus on the values at the end of each line.\n",
        "Your answers should be clear, coherent and describe the most important facts recorded in the graph.\n",
        "Please return full sentences, bullet points and focus on creating a human-readible text, and do not include class and property labels and names.\n",
        "In summary, you should put focus on anomalies and potentially dangerous situations and clearly inform the user about them.\n",
        "\"\"\"\n",
        "input_prompt_2 = lambda x: \"Summarise the data in the following graph.\\n\\n\" + x"
      ],
      "metadata": {
        "id": "0ikq-8oCsG1-"
      },
      "execution_count": null,
      "outputs": []
    },
    {
      "cell_type": "code",
      "source": [
        "for cam in cams:\n",
        "  print(cam)\n",
        "  input_text, ontology_text = explainer.process_graph(cam)\n",
        "  print(explainer.explain_graph(system_prompt_1(ontology_text), input_prompt_1(input_text)))\n",
        "  print()"
      ],
      "metadata": {
        "id": "CZPea0cOsHOW",
        "colab": {
          "base_uri": "https://localhost:8080/"
        },
        "outputId": "6c039981-8d0a-4b23-9bc7-b520a9994efa"
      },
      "execution_count": null,
      "outputs": [
        {
          "output_type": "stream",
          "name": "stdout",
          "text": [
            "cam_0000003596.ttl\n",
            "  Here is a summary of the data in the graph, focusing on the values at the end of each line:\n",
            "* \"entrance_camera_1\" is a sensor with an identifier \"entrance_camera_1\".\n",
            "* The sensor made an observation, which resulted in a result with a label \"Camera Result\".\n",
            "* The confidence of the method that made the decision is 99.99137115478516%.\n",
            "* The image of the observation is stored in the Semantic Repository with a path \"osh-camera/entrance_camera_1/32fec42735354991bfa27ba47b2a1758\".\n",
            "* The safety status of the workers is \"status_unsafe\", indicating that at least one worker in the group is not safe.\n",
            "* The number of unsafe workers is 1.\n",
            "* The result time of the observation is \"2023-07-07T14:11:08.675910\"^^xsd:dateTime.\n",
            "\n",
            "cam_0000005028.ttl\n"
          ]
        },
        {
          "output_type": "stream",
          "name": "stderr",
          "text": [
            "Llama.generate: prefix-match hit\n"
          ]
        },
        {
          "output_type": "stream",
          "name": "stdout",
          "text": [
            "  * The graph represents a knowledge graph about construction site safety, with entities and properties defined using the SOSA ontology.\n",
            "* An entrance camera (entrance_camera_1) is a sensor that made an observation on July 7, 2023, at 4:14:20 PM, with a result of \"Camera result\".\n",
            "* The observation has a confidence level of 0.0 and an image associated with it.\n",
            "* The image is stored in the Semantic Repository with a path of \"osh-camera/entrance_camera_1/d3408b9fc7df4f83b7d8430bd22765e1\".\n",
            "* The observation has an indeterminate safety status, with 1 worker whose safety cannot be determined.\n",
            "* There are no safe workers.\n",
            "* The result time of the observation is \"2023-07-07T16:14:20.406648\"^^xsd:dateTime.\n",
            "\n",
            "cam_0000014000.ttl\n"
          ]
        },
        {
          "output_type": "stream",
          "name": "stderr",
          "text": [
            "Llama.generate: prefix-match hit\n"
          ]
        },
        {
          "output_type": "stream",
          "name": "stdout",
          "text": [
            "  Sure! Here is a summary of the data in the graph, focusing on the values at the end of each line:\n",
            "* \"entrance_camera_1\" is a sensor with an identifier \"entrance_camera_1\".\n",
            "* The sensor made an observation, which resulted in a result.\n",
            "* The result has a confidence level of 0.0.\n",
            "* The result has an image associated with it, and the full path to the image in the Semantic Repository is \"osh-camera/entrance_camera_1/c0a36e4d94a24dadac1e3bbd943da526\".\n",
            "* The sensor's safety status is \"safe\".\n",
            "* There are 1 safe worker and 0 unsafe workers.\n",
            "* The observation was made on July 14, 2023 at 1:00:49 PM (UTC).\n",
            "\n",
            "cam_0000014017.ttl\n"
          ]
        },
        {
          "output_type": "stream",
          "name": "stderr",
          "text": [
            "Llama.generate: prefix-match hit\n"
          ]
        },
        {
          "output_type": "stream",
          "name": "stdout",
          "text": [
            "  Sure! Here is a summary of the data in the graph, focusing on the values at the end of each line:\n",
            "* \"entrance_camera_1\" is a sensor with an identifier \"entrance_camera_1\".\n",
            "* The sensor made an observation, which resulted in a result.\n",
            "* The result has a confidence level of 0.0.\n",
            "* The result has an image with a Repository path of \"osh-camera/entrance_camera_1/bbdbd3a455fb44618ffa525f97730ea5\".\n",
            "* The sensor's safety status is \"safe\".\n",
            "* There are 2 safe workers.\n",
            "* There are no unsafe workers.\n",
            "\n",
            "cam_0000014019.ttl\n"
          ]
        },
        {
          "output_type": "stream",
          "name": "stderr",
          "text": [
            "Llama.generate: prefix-match hit\n"
          ]
        },
        {
          "output_type": "stream",
          "name": "stdout",
          "text": [
            "  * The graph represents a knowledge graph about construction site safety, with entities and properties defined using the Simple Ontology (sosa) and Web Ontology Language (owl).\n",
            "* \"entrance_camera_1\" is a sensor that made an observation, resulting in a result with a confidence of 0.0 and an image stored in the Semantic Repository with a path of \"osh-camera/entrance_camera_1/e002d964337c4dec83e6850c4a12dfea\".\n",
            "* The observation was made on July 14, 2023, at 1:01:31 PM (UTC) with a result of \"ns1:CameraResult\".\n",
            "* The number of workers whose safety cannot be determined is 1, and the number of safe workers is 1.\n",
            "* There are no unsafe workers.\n",
            "\n",
            "cam_0000014025.ttl\n"
          ]
        },
        {
          "output_type": "stream",
          "name": "stderr",
          "text": [
            "Llama.generate: prefix-match hit\n"
          ]
        },
        {
          "output_type": "stream",
          "name": "stdout",
          "text": [
            "  Sure! Here is a summary of the data in the graph, focusing on the values at the end of each line:\n",
            "* \"entrance_camera_1\" is a sensor with an identifier \"entrance_camera_1\".\n",
            "* The sensor made an observation, which resulted in a result.\n",
            "* The result has a confidence level of 0.0.\n",
            "* The result has an image, and its repository path is \"osh-camera/entrance_camera_1/cbbcbf9c929c473484e2aee7f545b094\".\n",
            "* The safety status of the workers is indeterminate.\n",
            "* There are 1 indeterminate worker and 3 safe workers.\n",
            "* The result time of the observation is \"2023-07-14T13:01:51.230969\" (July 14, 2023, at 1:01:51 PM).\n",
            "\n",
            "cam_0000014026.ttl\n"
          ]
        },
        {
          "output_type": "stream",
          "name": "stderr",
          "text": [
            "Llama.generate: prefix-match hit\n"
          ]
        },
        {
          "output_type": "stream",
          "name": "stdout",
          "text": [
            "  Sure! Here's a summary of the data in the graph, focusing on the values at the end of each line:\n",
            "* \"entrance_camera_1\" is a sensor with an identifier.\n",
            "* The sensor made an observation, which resulted in a result.\n",
            "* The result has a confidence level of 0.0.\n",
            "* The result also has an image, which is stored in the Semantic Repository with the path \"osh-camera/entrance_camera_1/971d6d39a5854e2c83df8e64374822d0\".\n",
            "* The sensor's safety status is \"safe\".\n",
            "* There are 4 safe workers.\n",
            "* There are no unsafe workers.\n",
            "\n",
            "cam_0000014036.ttl\n"
          ]
        },
        {
          "output_type": "stream",
          "name": "stderr",
          "text": [
            "Llama.generate: prefix-match hit\n"
          ]
        },
        {
          "output_type": "stream",
          "name": "stdout",
          "text": [
            "  Here is a summary of the data in the graph, focusing on the values at the end of each line:\n",
            "* \"entrance_camera_1\" is a sensor with an identifier \"entrance_camera_1\".\n",
            "* The sensor made an observation, which resulted in a result.\n",
            "* The result has a confidence level of 0.0.\n",
            "* The result has an image associated with it, and the full path to the image in the Semantic Repository is \"osh-camera/entrance_camera_1/9c4275cfe9a54b02b248a80e74cc4ada\".\n",
            "* The sensor's safety status is \"safe\".\n",
            "* There are 0 unsafe workers.\n",
            "* There are 0 safe workers.\n",
            "\n"
          ]
        }
      ]
    },
    {
      "cell_type": "code",
      "source": [
        "for cam in cams:\n",
        "  print(cam)\n",
        "  input_text, ontology_text = explainer.process_graph(cam)\n",
        "  print(explainer.explain_graph(system_prompt_2(ontology_text), input_prompt_2(input_text)))\n",
        "  print()"
      ],
      "metadata": {
        "colab": {
          "base_uri": "https://localhost:8080/"
        },
        "id": "biagIKZtIRgK",
        "outputId": "b7d5b6ed-953d-4f9f-98d6-b88f6d987992"
      },
      "execution_count": null,
      "outputs": [
        {
          "output_type": "stream",
          "name": "stdout",
          "text": [
            "cam_0000003596.ttl\n"
          ]
        },
        {
          "output_type": "stream",
          "name": "stderr",
          "text": [
            "Llama.generate: prefix-match hit\n"
          ]
        },
        {
          "output_type": "stream",
          "name": "stdout",
          "text": [
            "  Based on the provided graph, here are the most important facts extracted:\n",
            "* There is a sensor called \"entrance_camera_1\" with an identifier of \"entrance_camera_1\".\n",
            "* The sensor has made an observation with a result called \"CameraResult\".\n",
            "* The CameraResult has a confidence level of 99.99137115478516%.\n",
            "* The CameraResult has an image associated with it, which can be found in the Semantic Repository with the path \"osh-camera/entrance_camera_1/32fec42735354991bfa27ba47b2a1758\".\n",
            "* The sensor has indicated that there is at least one unsafe worker in the group, as the safety status is \"ns1:status_unsafe\".\n",
            "* The number of workers whose safety cannot be determined is 0.\n",
            "* The number of safe workers is also 0.\n",
            "* The number of unsafe workers is 1.\n",
            "\n",
            "cam_0000005028.ttl\n"
          ]
        },
        {
          "output_type": "stream",
          "name": "stderr",
          "text": [
            "Llama.generate: prefix-match hit\n"
          ]
        },
        {
          "output_type": "stream",
          "name": "stdout",
          "text": [
            "  Based on the provided graph, here are the most important facts extracted:\n",
            "* There is a sensor called \"entrance_camera_1\" with an identifier of \"entrance_camera_1\".\n",
            "* The sensor made an observation on July 7, 2023, at 4:14:20 PM (UTC) as indicated by the resultTime property.\n",
            "* The observation has a result, which is a camera result with a confidence level of 0.0.\n",
            "* The camera result has an image associated with it, and the image can be found in the Semantic Repository with the path \"osh-camera/entrance_camera_1/d3408b9fc7df4f83b7d8430bd22765e1\".\n",
            "* The sensor has determined that there are 1 worker whose safety status is indeterminate.\n",
            "* There are no safe workers or unsafe workers.\n",
            "In summary, the graph indicates that there is a sensor called \"entrance_camera_1\" that made an observation on July 7, 2023, at 4:14:20 PM (UTC) with a confidence level of 0.0. The observation has a camera result with an image associated with it, and the sensor has determined that there is one worker whose safety status is indeterminate. Additionally, there are no safe or unsafe workers.\n",
            "\n",
            "cam_0000014000.ttl\n"
          ]
        },
        {
          "output_type": "stream",
          "name": "stderr",
          "text": [
            "Llama.generate: prefix-match hit\n"
          ]
        },
        {
          "output_type": "stream",
          "name": "stdout",
          "text": [
            "  Based on the provided graph, here are the most important facts extracted:\n",
            "* There is a sensor called \"entrance_camera_1\" with an identifier \"entrance_camera_1\".\n",
            "* The sensor made an observation on July 14, 2023 at 13:00:49.339082 UTC.\n",
            "* The result of the observation is a camera result (ns1:CameraResult).\n",
            "* The confidence of the method that made the decision is 0.0.\n",
            "* The image associated with the observation is stored in the Semantic Repository with the path \"osh-camera/entrance_camera_1/c0a36e4d94a24dadac1e3bbd943da526\".\n",
            "* The safety status of the workers is \"safe\" (ns1:status_safe).\n",
            "* There are 1 safe worker and 0 unsafe workers.\n",
            "* The number of workers whose safety cannot be determined is 0.\n",
            "\n",
            "cam_0000014017.ttl\n"
          ]
        },
        {
          "output_type": "stream",
          "name": "stderr",
          "text": [
            "Llama.generate: prefix-match hit\n"
          ]
        },
        {
          "output_type": "stream",
          "name": "stdout",
          "text": [
            "  Based on the provided graph, here are the most important facts extracted:\n",
            "* There is a sensor called \"entrance_camera_1\" that has made an observation.\n",
            "* The observation has a result, which is a camera result with a confidence level of 0.0.\n",
            "* The camera result has an image associated with it, and the full path to the image in the Semantic Repository is \"osh-camera/entrance_camera_1/bbdbd3a455fb44618ffa525f97730ea5\".\n",
            "* The observation was made on July 14, 2023, at 1:01:26.967271 PM.\n",
            "* There are 2 safe workers in the group.\n",
            "* There are no unsafe workers in the group.\n",
            "\n",
            "In summary, the graph indicates that there is a sensor called \"entrance_camera_1\" that has made an observation with a result of a camera image. The observation was made on a specific date and time, and there are 2 safe workers in the group. Additionally, there is no unsafe worker in the group.\n",
            "\n",
            "cam_0000014019.ttl\n"
          ]
        },
        {
          "output_type": "stream",
          "name": "stderr",
          "text": [
            "Llama.generate: prefix-match hit\n"
          ]
        },
        {
          "output_type": "stream",
          "name": "stdout",
          "text": [
            "  Based on the provided graph, here are the most important facts extracted:\n",
            "* There is a sensor named \"entrance_camera_1\" with an identifier of \"entrance_camera_1\".\n",
            "* The sensor made an observation on July 14, 2023 at 13:01:31.829283 UTC, which resulted in a result.\n",
            "* The result is a camera result with a confidence level of 0.0.\n",
            "* The image associated with the result is stored in the Semantic Repository with the path \"osh-camera/entrance_camera_1/e002d964337c4dec83e6850c4a12dfea\".\n",
            "* The sensor has determined that there are 1 indeterminate worker and 1 safe worker in the group.\n",
            "* There is no unsafe worker in the group.\n",
            "* The observation was made at a specific time (July 14, 2023 at 13:01:31.829283 UTC).\n",
            "In summary, the graph indicates that there is a sensor named \"entrance_camera_1\" that made an observation on July 14, 2023 at 13:01:31.829283 UTC, resulting in a camera result with a confidence level of 0.0. The image associated with the result is stored in the Semantic Repository, and the sensor has determined that there are 1 indeterminate worker and 1 safe worker in the group, with no unsafe workers present.\n",
            "\n",
            "cam_0000014025.ttl\n"
          ]
        },
        {
          "output_type": "stream",
          "name": "stderr",
          "text": [
            "Llama.generate: prefix-match hit\n"
          ]
        },
        {
          "output_type": "stream",
          "name": "stdout",
          "text": [
            "  Based on the provided graph, here are the most important facts extracted:\n",
            "* There is a sensor called \"entrance_camera_1\" with an identifier of \"entrance_camera_1\".\n",
            "* The sensor made an observation on July 14, 2023 at 13:01:51.230969 (UTC) and the result is a CameraResult.\n",
            "* The confidence of the method that made the decision is 0.0.\n",
            "* The image associated with this observation is stored in the Semantic Repository with the path \"osh-camera/entrance_camera_1/cbbcbf9c929c473484e2aee7f545b094\".\n",
            "* The safety status of the workers is indeterminate, and there are 1 worker whose safety cannot be determined.\n",
            "* The safe workers number is 3, and the unsafe workers number is 0.\n",
            "In summary, there is a sensor called \"entrance_camera_1\" that made an observation on July 14, 2023 at 13:01:51.230969 (UTC) with a result of CameraResult, and the confidence of the method that made the decision is 0.0. The image associated with this observation is stored in the Semantic Repository with the path \"osh-camera/entrance_camera_1/cbbcbf9c929c473484e2aee7f545b094\". Additionally, the safety status of the workers is indeterminate, and there are 1 worker whose safety cannot be determined.\n",
            "\n",
            "cam_0000014026.ttl\n"
          ]
        },
        {
          "output_type": "stream",
          "name": "stderr",
          "text": [
            "Llama.generate: prefix-match hit\n"
          ]
        },
        {
          "output_type": "stream",
          "name": "stdout",
          "text": [
            "  Based on the provided graph, here are the most important facts extracted:\n",
            "* There is a sensor named \"entrance_camera_1\" with an identifier of \"entrance_camera_1\".\n",
            "* The sensor made an observation on July 14, 2023 at 1:01:53 PM (UTC) with a result.\n",
            "* The result has a confidence level of 0.0.\n",
            "* The result has an image associated with it.\n",
            "* The image is stored in the Semantic Repository with a path of \"osh-camera/entrance_camera_1/971d6d39a5854e2c83df8e64374822d0\".\n",
            "* The sensor has determined that all workers are safe.\n",
            "* There are 4 safe workers.\n",
            "* There are no unsafe workers.\n",
            "\n",
            "It is important to note that the graph does not contain any anomalies or potentially dangerous situations, so there are no additional comments on that regard.\n",
            "\n",
            "cam_0000014036.ttl\n"
          ]
        },
        {
          "output_type": "stream",
          "name": "stderr",
          "text": [
            "Llama.generate: prefix-match hit\n"
          ]
        },
        {
          "output_type": "stream",
          "name": "stdout",
          "text": [
            "  Based on the provided graph, here are the most important facts extracted:\n",
            "* There is a sensor called \"entrance_camera_1\" with an identifier of \"entrance_camera_1\".\n",
            "* The sensor made an observation on July 14, 2023, at 13:02:25.717797 UTC.\n",
            "* The result of the observation is a camera result, which has a confidence level of 0.0.\n",
            "* The camera result has an image associated with it, and the full path to the image in the Semantic Repository is \"osh-camera/entrance_camera_1/9c4275cfe9a54b02b248a80e74cc4ada\".\n",
            "* The sensor has determined that all workers are safe.\n",
            "* There are no unsafe workers.\n",
            "* The number of safe workers is 0.\n",
            "\n",
            "It appears that the sensor is monitoring the entrance of a site and has observed the safety status of the workers. The observation was made on a specific date and time, and the result is a camera image with a confidence level of 0.0. Additionally, the sensor has determined that all workers are safe, and there are no unsafe workers.\n",
            "\n"
          ]
        }
      ]
    },
    {
      "cell_type": "code",
      "source": [],
      "metadata": {
        "id": "jpB7oBrxtpsA"
      },
      "execution_count": null,
      "outputs": []
    },
    {
      "cell_type": "markdown",
      "source": [
        "#### Explain to professor"
      ],
      "metadata": {
        "id": "z1r_erobvyK9"
      }
    },
    {
      "cell_type": "code",
      "source": [
        "input_prompt_2_professor = lambda x: \"I am a professor who specializes in knowledge graphs. Summarise the following graph focusing on its structure.\\n\\n\" + x"
      ],
      "metadata": {
        "id": "vlA9ZBFau5up"
      },
      "execution_count": null,
      "outputs": []
    },
    {
      "cell_type": "code",
      "source": [
        "for cam in cams:\n",
        "  print(cam)\n",
        "  input_text, ontology_text = explainer.process_graph(cam)\n",
        "  print(explainer.explain_graph(system_prompt_2(ontology_text), input_prompt_2_professor(input_text)))\n",
        "  print()"
      ],
      "metadata": {
        "colab": {
          "base_uri": "https://localhost:8080/"
        },
        "id": "IRIMSrtVM1Wp",
        "outputId": "7dd4098b-e670-4683-c8c8-78e22c071cbd"
      },
      "execution_count": null,
      "outputs": [
        {
          "output_type": "stream",
          "name": "stdout",
          "text": [
            "cam_0000003596.ttl\n"
          ]
        },
        {
          "output_type": "stream",
          "name": "stderr",
          "text": [
            "Llama.generate: prefix-match hit\n"
          ]
        },
        {
          "output_type": "stream",
          "name": "stdout",
          "text": [
            "  The graph provided is a knowledge graph that represents information about various sensors, observations, results, and safety statuses. Here's a summary of the structure of the graph:\n",
            "* The graph consists of 3 classes: `sosa:Sensor`, `sosa:Observation`, and `ns1:Image`.\n",
            "* The `sosa:Sensor` class has 1 instance, `entrance_camera_1`, which is represented by a `ns2:identifier` property.\n",
            "* The `sosa:Observation` class has 1 instance, which is represented by a `sosa:madeObservation` property that links to an `sosa:Result`.\n",
            "* The `sosa:Result` class has 1 instance, which is represented by a `ns1:CameraResult` subproperty. This instance has properties such as `ns1:hasConfidence`, `ns1:hasImage`, `ns1:hasSafetyStatus`, and `ns1:indeterminateWorkersNum`.\n",
            "* The `ns1:Image` class has 1 instance, which is represented by a `ns1:hasRepoPath` property that links to a specific path in the Semantic Repository.\n",
            "* The graph also includes a `sosa:resultTime` property, which represents the time when the observation was made.\n",
            "* The `ns1:status_unsafe` property is used to indicate that at least one worker in the group is not safe.\n",
            "\n",
            "Overall, the graph provides information about various sensors, observations, and results related to a specific entrance camera on a particular date. It also indicates that at least one worker in the group is not safe, which could be a potential danger situation.\n",
            "\n",
            "cam_0000005028.ttl\n"
          ]
        },
        {
          "output_type": "stream",
          "name": "stderr",
          "text": [
            "Llama.generate: prefix-match hit\n"
          ]
        },
        {
          "output_type": "stream",
          "name": "stdout",
          "text": [
            "  The graph provided is a knowledge graph that represents information about various sensors, observations, results, and safety statuses. Here are the key points about the structure of the graph:\n",
            "* There are several sensors (entrance_camera_1, entrance_camera_2, etc.) represented in the graph, each with its own identifier (ns2:identifier).\n",
            "* Each sensor has made observations (sosa:madeObservation) for which it has a result (sosa:hasResult). The result is of type CameraResult.\n",
            "* The result has a confidence level (ns1:hasConfidence) and an image (ns1:hasImage) associated with it. The image is stored in the Semantic Repository with a specific path (ns1:hasRepoPath).\n",
            "* For entrance_camera_1, the safety status of the workers is indeterminate (ns1:hasSafetyStatus).\n",
            "* The graph also includes information about the number of safe and unsafe workers (ns1:safeWorkersNum and ns1:unsafeWorkersNum) for each sensor.\n",
            "* The result time for each observation is also provided (sosa:resultTime).\n",
            "Overall, the graph provides a structured representation of information about various sensors, their observations, results, safety statuses, and worker numbers.\n",
            "\n",
            "cam_0000014000.ttl\n"
          ]
        },
        {
          "output_type": "stream",
          "name": "stderr",
          "text": [
            "Llama.generate: prefix-match hit\n"
          ]
        },
        {
          "output_type": "stream",
          "name": "stdout",
          "text": [
            "  The graph provided is a knowledge graph that represents information about various sensors, observations, results, and safety statuses. Here are the key points about the structure of the graph:\n",
            "1. Entries: There are three entries in the graph, labeled \"entrance_camera_1\", \"entrance_camera_2\", and \"entrance_camera_3\".\n",
            "2. Sensors: The graph has three sensors, each with a unique identifier (ns1:identifier) and linked to an observation.\n",
            "3. Observations: There are three observations made by the sensors, each with a result and a time stamp.\n",
            "4. Results: Each observation has a result, which is a class called \"CameraResult\". Each \"CameraResult\" has a confidence value and an image link.\n",
            "5. Images: The graph has three images linked to the observations, each with a unique identifier (ns2:identifier) and stored in the Semantic Repository with the path \"osh-camera/entrance_camera_1/c0a36e4d94a24dadac1e3bbd943da526\".\n",
            "6. Safety Statuses: Each observation has a safety status, which is either \"status_safe\" or \"indeterminate\". The \"status_safe\" safety status indicates that all workers in the group are safe, while the \"indeterminate\" status means that the safety of some workers cannot be determined.\n",
            "7. Workers Numbers: The graph has three worker numbers, each linked to an observation and indicating the number of safe workers, unsafe workers, or workers whose safety cannot be determined.\n",
            "Overall, the graph provides information about the sensors, observations, results, images, safety statuses, and workers numbers at the entrance of a site. It highlights potential dangerous situations, such as the \"indeterminate\" safety status for some workers, which may require further investigation or action.\n",
            "\n",
            "cam_0000014017.ttl\n"
          ]
        },
        {
          "output_type": "stream",
          "name": "stderr",
          "text": [
            "Llama.generate: prefix-match hit\n"
          ]
        },
        {
          "output_type": "stream",
          "name": "stdout",
          "text": [
            "  The graph provided is a knowledge graph that represents information about various sensors, observations, results, and safety statuses. Here are the key points about the structure of the graph:\n",
            "* The graph contains one sensor, \"entrance_camera_1\", which is represented by an owl:ObjectProperty called sosa:Sensor.\n",
            "* The sensor has made an observation, which is represented by an owl:ObjectProperty called sosa:madeObservation. The observation has a result, which is represented by an owl:ObjectProperty called sosa:hasResult.\n",
            "* The result has a confidence value of 0.0, which is represented by an owl:DatatypeProperty called aiot_p2#hasConfidence.\n",
            "* The result also has an image, which is represented by an owl:ObjectProperty called aiot_p2#hasImage. The image has a path in the Semantic Repository, which is represented by an owl:DatatypeProperty called aiot_p2#hasRepoPath.\n",
            "* The sensor has a safety status of \"safe\", which is represented by an owl:NamedIndividual called aiot_p2#status_safe.\n",
            "* The graph also contains information about the number of safe and unsafe workers, which are represented by owl:DatatypeProperties called aiot_p2#safeWorkersNum and aiot_p2#unsafeWorkersNum, respectively.\n",
            "Overall, the structure of the graph is organized around the sensors, observations, results, and safety statuses of a construction site. The graph provides information about the various components of the site, including the cameras, their locations, the observations they have made, and the confidence levels associated with those observations.\n",
            "\n",
            "cam_0000014019.ttl\n"
          ]
        },
        {
          "output_type": "stream",
          "name": "stderr",
          "text": [
            "Llama.generate: prefix-match hit\n"
          ]
        },
        {
          "output_type": "stream",
          "name": "stdout",
          "text": [
            "  The graph provided is a knowledge graph that represents information about various sensors, observations, results, and safety statuses. Here are the key points about the structure of the graph:\n",
            "* The graph consists of 4 classes: sosa:Sensor, sosa:Observation, sosa:Result, and ns1:Image.\n",
            "* The graph has 5 sensors (entrance_camera_1, entrance_camera_2, entrance_camera_3, entrance_camera_4, and entrance_camera_5). Each sensor is an instance of the class sosa:Sensor and has a unique identifier (ns2:identifier) assigned to it.\n",
            "* Each sensor makes observations, which are represented as instances of the class sosa:Observation. Each observation has a unique identifier (ns1:identifier), a result (represented by an instance of the class sosa:Result), and a time stamp (represented by an xsd:dateTime).\n",
            "* The results of each observation are represented as instances of the class sosa:Result, which have a unique identifier (ns1:identifier) and a confidence value (represented by a decimal number).\n",
            "* Each result has an image associated with it, which is represented as an instance of the class ns1:Image. The image has a unique identifier (ns1:identifier), a repository path (represented by a string), and a confidence value (represented by a decimal number).\n",
            "* The graph also includes information about the safety status of each worker, which is represented as instances of the class ns1:SafetyStatus. Each safety status has a unique identifier (ns1:identifier) and a confidence value (represented by a decimal number).\n",
            "* The graph also includes information about the number of safe workers and the number of workers whose safety cannot be determined, which are represented as instances of the class ns1:workersNum. Each instance has a unique identifier (ns1:identifier) and a value (represented by an integer).\n",
            "Overall, the graph provides a structured representation of information about various sensors, observations, results, images, safety statuses, and worker numbers in a knowledge graph.\n",
            "\n",
            "cam_0000014025.ttl\n"
          ]
        },
        {
          "output_type": "stream",
          "name": "stderr",
          "text": [
            "Llama.generate: prefix-match hit\n"
          ]
        },
        {
          "output_type": "stream",
          "name": "stdout",
          "text": [
            "  The graph provided is a knowledge graph that represents information about various sensors, observations, results, and safety statuses. Here are the key points about the structure of the graph:\n",
            "* The graph consists of 4 classes: sosa:Sensor, sosa:Observation, sosa:Result, and ns2:Image.\n",
            "* There is one sensor (entrance_camera_1) that has made multiple observations (3).\n",
            "* Each observation is associated with a result, which is either a camera result or a sample. The camera result has a confidence value of 0.0, and the sample has a result time of \"2023-07-14T13:01:51.230969\"^^xsd:dateTime.\n",
            "* The sensor entrance_camera_1 has an indeterminate safety status, with 1 uncertain worker and 3 safe workers.\n",
            "* The graph includes one image with a path to the Semantic Repository of \"osh-camera/entrance_camera_1/cbbcbf9c929c473484e2aee7f545b094\".\n",
            "Overall, the graph suggests that there is a sensor (entrance_camera_1) at an entrance location, which has made observations and generated results. The safety status of the workers is uncertain, with 1 worker identified as unsafe, and 3 workers identified as safe. Additionally, there is one image associated with the sensor.\n",
            "\n",
            "cam_0000014026.ttl\n"
          ]
        },
        {
          "output_type": "stream",
          "name": "stderr",
          "text": [
            "Llama.generate: prefix-match hit\n"
          ]
        },
        {
          "output_type": "stream",
          "name": "stdout",
          "text": [
            "  The graph provided is a knowledge graph that represents information about a construction site, specifically the entrance camera #1. Here are some key points about the structure of the graph:\n",
            "* The graph consists of three classes: Sensor (entrance_camera_1), Observation, and Result.\n",
            "* The Sensor class (entrance_camera_1) has one instance (a single sensor) and is connected to two other classes: Observation and Result.\n",
            "* The Observation class has one instance (an observation made by the entrance camera #1) and is connected to the Result class.\n",
            "* The Result class has two instances (a result of the observation and a sample). Each result instance is connected to one observation and one sensor.\n",
            "* The Observation class has three properties: hasResult, hasConfidence, and hasImage.\n",
            "* The Result class has four properties: hasRepoPath, hasSafetyStatus, indeterminateWorkersNum, and safeWorkersNum.\n",
            "* The hasResult property of the Observation class is connected to one Result instance.\n",
            "* The hasConfidence property of the Observation class is connected to a decimal value (0.0).\n",
            "* The hasImage property of the Observation class is connected to an Image instance.\n",
            "* The hasRepoPath property of the Result class is connected to a string value (\"osh-camera/entrance_camera_1/971d6d39a5854e2c83df8e64374822d0\").\n",
            "* The hasSafetyStatus property of the Result class is connected to the SafetyStatus instance (ns1:status_safe).\n",
            "* The indeterminateWorkersNum property of the Observation class is connected to a decimal value (0).\n",
            "* The safeWorkersNum property of the Observation class is connected to a decimal value (4).\n",
            "* The unsafeWorkersNum property of the Observation class is connected to a decimal value (0).\n",
            "Overall, the graph provides information about the entrance camera #1 on a construction site, including the time of the observation, the result of the observation (i.e., the height of a tree), and the safety status of the workers. The graph also includes information about the confidence level of the observation and whether any workers are unsafe or safe.\n",
            "\n",
            "cam_0000014036.ttl\n"
          ]
        },
        {
          "output_type": "stream",
          "name": "stderr",
          "text": [
            "Llama.generate: prefix-match hit\n"
          ]
        },
        {
          "output_type": "stream",
          "name": "stdout",
          "text": [
            "  The graph provided is a knowledge graph that represents information about a construction site, specifically the entrance camera #1. Here are some key points about the structure of the graph:\n",
            "* The graph consists of three classes: Sensor (entrance_camera_1), Observation, and Result.\n",
            "* The Sensor class has one instance, entrance_camera_1, which is represented by a NS2:identifier.\n",
            "* The Observation class has two instances, each with a sosa:madeObservation property that links to a Result instance.\n",
            "* Each Result instance has properties for confidence (0.0), image (a ns1:Image instance), and safety status (ns1:status_safe).\n",
            "* The Observation instances also have properties for the time of the observation (sosa:resultTime with a xsd:dateTime value).\n",
            "* There are no instances of the Actuation or Sampling classes.\n",
            "* The graph does not contain any links to other classes or properties beyond those defined in the SOSA ontology.\n",
            "\n"
          ]
        }
      ]
    },
    {
      "cell_type": "code",
      "source": [
        "print(explainer.explain_graph(system_prompt_2, input_prompt_2_professor))"
      ],
      "metadata": {
        "colab": {
          "base_uri": "https://localhost:8080/"
        },
        "id": "J_gDQVJOu5xb",
        "outputId": "16431865-076d-4739-f594-9aa6f26a91d0"
      },
      "execution_count": null,
      "outputs": [
        {
          "output_type": "stream",
          "name": "stderr",
          "text": [
            "Llama.generate: prefix-match hit\n"
          ]
        },
        {
          "output_type": "stream",
          "name": "stdout",
          "text": [
            "  The graph provided is a knowledge graph that represents information about various sensors, observations, results, and safety statuses. Here are the key points from the structure of the graph:\n",
            "1. Entries: There are three entries in the graph - \"entrance_camera_1\", \"entrance_camera_2\", and \"entrance_camera_3\". Each entry represents a different camera at the entrance of a location.\n",
            "2. Sensors: The graph has two sensors - \"entrance_camera_1\" and \"entrance_camera_2\". These sensors are responsible for making observations about the environment.\n",
            "3. Observations: There are three observations made by the sensors - \"observed_value_1\", \"observed_value_2\", and \"observed_value_3\". Each observation represents a measurement or reading taken by the sensor at a particular time.\n",
            "4. Results: The graph has two results - \"result_1\" and \"result_2\". These results are derived from the observations made by the sensors and represent the estimated value of a property of interest.\n",
            "5. Confidence: The graph shows that the confidence level of the result is 99.99137115478516%. This indicates the degree of certainty in the estimated value of the property of interest.\n",
            "6. Images: The graph has two images associated with the observations - \"image_1\" and \"image_2\". These images provide visual information about the environment being observed.\n",
            "7. Repo Path: The graph shows the full path to the image in the Semantic Repository, which is \"osh-camera/entrance_camera_1/32fec42735354991bfa27ba47b2a1758\".\n",
            "8. Safety Status: The graph shows that the safety status of the entrance camera is \"ns1:status_unsafe\". This indicates that at least one worker in the group is not safe.\n",
            "9. Indeterminate Workers Num: The graph shows that there are 0 indeterminate workers.\n",
            "10. Safe Workers Num: The graph shows that there are 0 safe workers.\n",
            "11. Unsafe Workers Num: The graph shows that there is 1 unsafe worker.\n",
            "12. Observation Time: The graph shows the observation time as \"2023-07-07T14:11:08.675910\"^^xsd:dateTime. This indicates when the observation was made.\n",
            "\n",
            "In summary, the graph provides information about various sensors, observations, results, and safety statuses at an entrance location. It shows that there are two unsafe workers and one indeterminate worker, with no safe workers. The graph also provides information about the time of the observation and the confidence level of the result.\n"
          ]
        }
      ]
    },
    {
      "cell_type": "code",
      "source": [],
      "metadata": {
        "id": "tjOptxRytpua"
      },
      "execution_count": null,
      "outputs": []
    },
    {
      "cell_type": "markdown",
      "source": [
        "#### Explain to a contruction site supervisor"
      ],
      "metadata": {
        "id": "kVHqLz6dv3cd"
      }
    },
    {
      "cell_type": "code",
      "source": [
        "input_prompt_2_supervisor = lambda x: \"I am a supervisor at the contruction site. Report me about important incidents.\\n\\n\" + input_text"
      ],
      "metadata": {
        "id": "4UewouP2vWY3"
      },
      "execution_count": null,
      "outputs": []
    },
    {
      "cell_type": "code",
      "source": [
        "for cam in cams:\n",
        "  print(cam)\n",
        "  input_text, ontology_text = explainer.process_graph(cam)\n",
        "  print(explainer.explain_graph(system_prompt_2(ontology_text), input_prompt_2_supervisor(input_text)))\n",
        "  print()"
      ],
      "metadata": {
        "colab": {
          "base_uri": "https://localhost:8080/"
        },
        "id": "96t8JGUdNINg",
        "outputId": "2dd47d5d-3d71-4bcd-b7b4-9fa262b87133"
      },
      "execution_count": null,
      "outputs": [
        {
          "output_type": "stream",
          "name": "stdout",
          "text": [
            "cam_0000003596.ttl\n"
          ]
        },
        {
          "output_type": "stream",
          "name": "stderr",
          "text": [
            "Llama.generate: prefix-match hit\n"
          ]
        },
        {
          "output_type": "stream",
          "name": "stdout",
          "text": [
            "  As the supervisor at the construction site, I have been informed that there is an important incident involving the entrance camera #1. According to the sensor data, the camera made an observation on July 7, 2023, at 2:11 PM, and the result was a safety status of \"unsafe.\" The confidence level of the method that made the decision is 99.99137115478516%, and the image associated with this observation can be found in the Semantic Repository with the identifier \"osh-camera/entrance_camera_1/32fec42735354991bfa27ba47b2a1758.\"\n",
            "Additionally, there are 1 unsafe worker among the workers in the group. The unsafe worker's number is 1.\n",
            "Please take appropriate action to address this incident and ensure the safety of all workers on the construction site.\n",
            "\n",
            "cam_0000005028.ttl\n"
          ]
        },
        {
          "output_type": "stream",
          "name": "stderr",
          "text": [
            "Llama.generate: prefix-match hit\n"
          ]
        },
        {
          "output_type": "stream",
          "name": "stdout",
          "text": [
            "  There are several important incidents reported in the graph you provided:\n",
            "* An unsafe situation has been detected at entrance camera 1. According to the observation, the confidence of the method that made the decision is 0.0, indicating a low level of certainty. Additionally, there are no safe workers in the group, and one worker's safety status is indeterminate.\n",
            "* The number of workers whose safety cannot be determined is 1.\n",
            "* The image associated with this observation is available at \"osh-camera/entrance_camera_1/d3408b9fc7df4f83b7d8430bd22765e1\".\n",
            "It is important to take action to address these incidents, such as assigning a safety status to the worker whose safety is indeterminate and ensuring that all workers are safe.\n",
            "\n",
            "cam_0000014000.ttl\n"
          ]
        },
        {
          "output_type": "stream",
          "name": "stderr",
          "text": [
            "Llama.generate: prefix-match hit\n"
          ]
        },
        {
          "output_type": "stream",
          "name": "stdout",
          "text": [
            "  There are several important incidents reported in the graph you provided:\n",
            "* An observation was made by entrance_camera_1 on July 14, 2023 at 13:00:49.339082 UTC, with a result of \"ns2:CameraResult\".\n",
            "* The confidence of the method that made the decision is 0.0.\n",
            "* There is an image associated with this observation, and it can be found in the Semantic Repository with the path \"osh-camera/entrance_camera_1/c0a36e4d94a24dadac1e3bbd943da526\".\n",
            "* The safety status of the workers is \"ns2:status_safe\", indicating that all workers are safe.\n",
            "* There are 1 safe worker and 0 unsafe workers.\n",
            "\n",
            "It is important to note that these incidents may require immediate attention and action, as they could potentially indicate a dangerous situation on the construction site.\n",
            "\n",
            "cam_0000014017.ttl\n"
          ]
        },
        {
          "output_type": "stream",
          "name": "stderr",
          "text": [
            "Llama.generate: prefix-match hit\n"
          ]
        },
        {
          "output_type": "stream",
          "name": "stdout",
          "text": [
            "  There are several important incidents reported in the graph you provided:\n",
            "* The entrance camera (entrance_camera_1) has made an observation with a result of \"ns1:CameraResult\", indicating that an image was captured by the camera.\n",
            "* The confidence level of the observation is 0.0, which may indicate a lower level of accuracy or reliability in the observation.\n",
            "* The image associated with the observation is stored in the Semantic Repository with the path \"osh-camera/entrance_camera_1/bbdbd3a455fb44618ffa525f97730ea5\".\n",
            "* The safety status of the workers is \"ns1:status_safe\", indicating that all workers in the group are safe.\n",
            "* The number of unsafe workers is 0, which may indicate a potential safety risk.\n",
            "* The number of safe workers is 2, which may indicate a higher level of safety on the construction site.\n",
            "Overall, these incidents suggest that there may be some potential safety risks on the construction site, and it is important to take appropriate measures to address them.\n",
            "\n",
            "cam_0000014019.ttl\n"
          ]
        },
        {
          "output_type": "stream",
          "name": "stderr",
          "text": [
            "Llama.generate: prefix-match hit\n"
          ]
        },
        {
          "output_type": "stream",
          "name": "stdout",
          "text": [
            "  There are several important incidents reported in the graph you provided:\n",
            "* An entrance camera (entrance_camera_1) has made an observation with a result of \"ns1:CameraResult\", indicating that an image was captured.\n",
            "* The confidence of the method that made the decision is 0.0, which may indicate a potential issue with the accuracy of the observation.\n",
            "* The observation has an unsafe safety status, with 1 indeterminate worker and 1 safe worker. This may indicate a potential hazard on the construction site.\n",
            "* The result time of the observation is \"2023-07-14T13:01:31.829283\"^^xsd:dateTime, which indicates when the observation was made.\n",
            "Overall, these incidents suggest that there may be a potential safety issue on the construction site, and further investigation is warranted.\n",
            "\n",
            "cam_0000014025.ttl\n"
          ]
        },
        {
          "output_type": "stream",
          "name": "stderr",
          "text": [
            "Llama.generate: prefix-match hit\n"
          ]
        },
        {
          "output_type": "stream",
          "name": "stdout",
          "text": [
            "  There are several important incidents reported in the graph you provided:\n",
            "* An entrance camera (entrance_camera_1) has made an observation with a result of \"ns1:CameraResult\" and a confidence level of 0.0. This indicates that the method used to make the observation is not confident in its results.\n",
            "* The observation was made on July 14, 2023 at 13:01:51.230969 UTC.\n",
            "* There are 1 indeterminate worker whose safety status is \"ns1:status_indeterminate\".\n",
            "* There are 3 safe workers.\n",
            "* There are no unsafe workers.\n",
            "In summary, there is one entrance camera that has made an observation with low confidence, and the observation was made on a specific date and time. Additionally, there are some workers whose safety status is unknown, but overall, there are more safe workers than unsafe workers. These incidents may indicate potential safety risks or issues that need to be addressed.\n",
            "\n",
            "cam_0000014026.ttl\n"
          ]
        },
        {
          "output_type": "stream",
          "name": "stderr",
          "text": [
            "Llama.generate: prefix-match hit\n"
          ]
        },
        {
          "output_type": "stream",
          "name": "stdout",
          "text": [
            "  There are no major incidents or potential safety hazards reported in the given graph. However, there is an observation from a camera located at \"entrance_camera_1\" on July 14, 2023, at 13:01:53.157877 UTC. The observation has a result of \"ns1:CameraResult\" and the confidence in the method that made the decision is 0.0. The image associated with this observation can be found in the Semantic Repository with the path \"osh-camera/entrance_camera_1/971d6d39a5854e2c83df8e64374822d0\". Additionally, the safety status of the workers is \"ns1:status_safe\".\n",
            "\n",
            "cam_0000014036.ttl\n"
          ]
        },
        {
          "output_type": "stream",
          "name": "stderr",
          "text": [
            "Llama.generate: prefix-match hit\n"
          ]
        },
        {
          "output_type": "stream",
          "name": "stdout",
          "text": [
            "  There are several important incidents reported in the graph you provided:\n",
            "* An observation was made by entrance_camera_1 on July 14, 2023 at 13:02:25.717797 UTC, with a result of \"ns1:CameraResult\".\n",
            "* The confidence of the method that made the decision is 0.0.\n",
            "* There is an image associated with this observation, and it can be found in the Semantic Repository with the path \"osh-camera/entrance_camera_1/9c4275cfe9a54b02b248a80e74cc4ada\".\n",
            "* The safety status of the workers is \"ns1:status_safe\", indicating that all workers are safe.\n",
            "* The number of unsafe workers is 0, and the number of indeterminate workers is also 0.\n",
            "* The result time of this observation is July 14, 2023 at 13:02:25.717797 UTC.\n",
            "It is important to note that these incidents may require further investigation and action to ensure the safety of workers on the construction site.\n",
            "\n"
          ]
        }
      ]
    },
    {
      "cell_type": "code",
      "source": [
        "print(explainer.explain_graph(system_prompt_2, input_prompt_2_supervisor))"
      ],
      "metadata": {
        "colab": {
          "base_uri": "https://localhost:8080/"
        },
        "id": "RGEVo3rGvWbo",
        "outputId": "70ba87b1-b543-476a-b52e-b0b83f3bee4a"
      },
      "execution_count": null,
      "outputs": [
        {
          "output_type": "stream",
          "name": "stderr",
          "text": [
            "Llama.generate: prefix-match hit\n"
          ]
        },
        {
          "output_type": "stream",
          "name": "stdout",
          "text": [
            "  As the assistant, I have analyzed the provided knowledge graph and extracted the most important information regarding incidents at the construction site. Here are the key findings:\n",
            "* There is a potential safety incident at the entrance of the site, as there is one unsafe worker (identified by \"entrance_camera_1\") with a confidence level of 99.99137115478516%.\n",
            "* The unsafe worker has an image associated with their identity, which can be found in the Semantic Repository with the path \"osh-camera/entrance_camera_1/32fec42735354991bfa27ba47b2a1758\".\n",
            "* The unsafe worker has a safety status of \"ns1:status_unsafe\", indicating that at least one worker in the group is not safe.\n",
            "* The number of workers whose safety cannot be determined is 0, and the number of safe workers is also 0.\n",
            "* The result time for this observation is \"2023-07-07T14:11:08.675910\"^^xsd:dateTime.\n",
            "Based on these findings, it is important to take immediate action to address the safety incident at the entrance of the site. The unsafe worker should be identified and their safety status updated accordingly. Additionally, the image associated with their identity should be reviewed to ensure that it is accurate and up-to-date.\n"
          ]
        }
      ]
    },
    {
      "cell_type": "code",
      "source": [],
      "metadata": {
        "id": "zCv4hxBstpxZ"
      },
      "execution_count": null,
      "outputs": []
    },
    {
      "cell_type": "markdown",
      "source": [
        "### Results for tags"
      ],
      "metadata": {
        "id": "f5oMdXOJzKFK"
      }
    },
    {
      "cell_type": "code",
      "source": [
        "input_text, ontology_text = explainer.process_graph('tags_0000003596.ttl')\n",
        "explainer.explain_graph(system_prompt_1(ontology_text), input_prompt_1(input_text))"
      ],
      "metadata": {
        "id": "brlTTJs2v8Qk",
        "colab": {
          "base_uri": "https://localhost:8080/",
          "height": 107
        },
        "outputId": "529a79b7-f8d8-49d7-ada7-52825fee2b80"
      },
      "execution_count": null,
      "outputs": [
        {
          "output_type": "stream",
          "name": "stderr",
          "text": [
            "Llama.generate: prefix-match hit\n"
          ]
        },
        {
          "output_type": "execute_result",
          "data": {
            "text/plain": [
              "'  * The Platform with identifier \"tag-33298\" hosts the Sensor with identifier \"33298\".\\n* The Sensor made an Observation with a result of -4 for X, -3 for Y, and 256 for Z, and was recorded at time \"2023-07-03T10:43:28.428205\"^^xsd:dateTime.\\n* The Sensor made another Observation with a result of -4 for X, -8 for Y, and 257 for Z, and was recorded at time \"2023-07-03T10:43:29.428205\"^^xsd:dateTime.\\n* The Sensor also made a TagMetadataResult with an alarm of false, watch battery level of 90, and watch connected of true.\\n* The BIMLocation has an accuracy value of 1 millimetre, and its location measurement type is \"measurementNone\". Its X, Y, and Z values are 0, 0, and 0 millimetres, respectively.'"
            ],
            "application/vnd.google.colaboratory.intrinsic+json": {
              "type": "string"
            }
          },
          "metadata": {},
          "execution_count": 15
        }
      ]
    },
    {
      "cell_type": "code",
      "source": [
        "print(input_text)"
      ],
      "metadata": {
        "colab": {
          "base_uri": "https://localhost:8080/"
        },
        "id": "Dd0ig4upSWyQ",
        "outputId": "6e817fa1-ddeb-4303-e628-e880f214ddbe"
      },
      "execution_count": null,
      "outputs": [
        {
          "output_type": "stream",
          "name": "stdout",
          "text": [
            "33298 a sosa:Platform,\n",
            "        ns2:IoTDevice ;\n",
            "    ns3:identifier \"tag-33298\" ;\n",
            "    sosa:hosts 33298 .\n",
            "33298 a sosa:Sensor ;\n",
            "    sosa:madeObservation [ a sosa:Observation ;\n",
            "            sosa:hasResult [ a ns1:Measure,\n",
            "                        sosa:Result,\n",
            "                        aiot#MeasureResult ;\n",
            "                    ns1:Unit ns2:bpm ;\n",
            "                    ns1:hasNumericalValue 0 ],\n",
            "                [ a sosa:Result,\n",
            "                        ns2:AccelerationResult ;\n",
            "                    ns2:accelerationWindow \"2\" ;\n",
            "                    ns2:hasXValue [ a ns1:Measure ;\n",
            "                            ns1:Unit ns2:tagAccelerationUnit ;\n",
            "                            ns1:hasNumericalValue -4 ] ;\n",
            "                    ns2:hasYValue [ a ns1:Measure ;\n",
            "                            ns1:Unit ns2:tagAccelerationUnit ;\n",
            "                            ns1:hasNumericalValue -3 ] ;\n",
            "                    ns2:hasZValue [ a ns1:Measure ;\n",
            "                            ns1:Unit ns2:tagAccelerationUnit ;\n",
            "                            ns1:hasNumericalValue 256 ] ],\n",
            "                [ a sosa:Result,\n",
            "                        ns2:AccelerationResult ;\n",
            "                    ns2:accelerationWindow \"1\" ;\n",
            "                    ns2:hasXValue [ a ns1:Measure ;\n",
            "                            ns1:Unit ns2:tagAccelerationUnit ;\n",
            "                            ns1:hasNumericalValue -4 ] ;\n",
            "                    ns2:hasYValue [ a ns1:Measure ;\n",
            "                            ns1:Unit ns2:tagAccelerationUnit ;\n",
            "                            ns1:hasNumericalValue -8 ] ;\n",
            "                    ns2:hasZValue [ a ns1:Measure ;\n",
            "                            ns1:Unit ns2:tagAccelerationUnit ;\n",
            "                            ns1:hasNumericalValue 257 ] ],\n",
            "                [ a sosa:Result,\n",
            "                        ns2:TagMetadataResult ;\n",
            "                    ns2:hasAlarm false ;\n",
            "                    ns2:hasWatchBatteryLevel 90 ;\n",
            "                    ns2:hasWatchConnected true ],\n",
            "                [ a sosa:Result,\n",
            "                        aiot#LocationResult,\n",
            "                        ns2:BIMLocation ;\n",
            "                    ns2:hasAccuracyValue [ a ns1:Measure ;\n",
            "                            ns1:Unit ns1:millimetre ] ;\n",
            "                    ns2:hasLocationMeasurementType ns2:measurementNone ;\n",
            "                    ns2:hasXValue [ a ns1:Measure ;\n",
            "                            ns1:Unit ns1:millimetre ] ;\n",
            "                    ns2:hasYValue [ a ns1:Measure ;\n",
            "                            ns1:Unit ns1:millimetre ] ;\n",
            "                    ns2:hasZValue [ a ns1:Measure ;\n",
            "                            ns1:Unit ns1:millimetre ] ] ;\n",
            "            sosa:resultTime \"2023-07-03T10:43:28.428205\"^^xsd:dateTime ] .\n"
          ]
        }
      ]
    },
    {
      "cell_type": "code",
      "source": [
        "print(ontology_text)"
      ],
      "metadata": {
        "id": "HgBy6gw_zjPr",
        "colab": {
          "base_uri": "https://localhost:8080/"
        },
        "outputId": "ba96eb53-1bb7-4a3f-94a7-1769ffc97d39"
      },
      "execution_count": null,
      "outputs": [
        {
          "output_type": "stream",
          "name": "stdout",
          "text": [
            "sosa:Observation a rdfs:Class,\n",
            "        owl:Class ;\n",
            "    rdfs:label \"Observation\"@en ;\n",
            "    rdfs:comment \"Act of carrying out an (Observation) Procedure to estimate or calculate a value of a property of a FeatureOfInterest. Links to a Sensor to describe what made the Observation and how; links to an ObservableProperty to describe what the result is an estimate of, and to a FeatureOfInterest to detail what that property was associated with.\"@en ;\n",
            "    rdfs:isDefinedBy sosa: ;\n",
            "    skos:definition \"Act of carrying out an (Observation) Procedure to estimate or calculate a value of a property of a FeatureOfInterest. Links to a Sensor to describe what made the Observation and how; links to an ObservableProperty to describe what the result is an estimate of, and to a FeatureOfInterest to detail what that property was associated with.\"@en ;\n",
            "    skos:example \"The activity of estimating the intensity of an Earthquake using the Mercalli intensity scale is an Observation as is measuring the moment magnitude, i.e., the energy released by said earthquake.\"@en .\n",
            "sosa:Platform a rdfs:Class,\n",
            "        owl:Class ;\n",
            "    rdfs:label \"Platform\"@en ;\n",
            "    rdfs:comment \"A Platform is an entity that hosts other entities, particularly Sensors, Actuators, Samplers, and other Platforms.\"@en ;\n",
            "    rdfs:isDefinedBy sosa: ;\n",
            "    skos:definition \"A Platform is an entity that hosts other entities, particularly Sensors, Actuators, Samplers, and other Platforms.\"@en ;\n",
            "    skos:example \"A post, buoy, vehicle, ship, aircraft, satellite, cell-phone, human or animal may act as platforms for (technical or biological) sensors or actuators.\"@en .\n",
            "sosa:Result a rdfs:Class,\n",
            "        owl:Class ;\n",
            "    rdfs:label \"Result\"@en ;\n",
            "    rdfs:comment \"The Result of an Observation, Actuation, or act of Sampling. To store an observation's simple result value one can use the hasSimpleResult property.\"@en ;\n",
            "    rdfs:isDefinedBy sosa: ;\n",
            "    skos:definition \"The Result of an Observation, Actuation, or act of Sampling. To store an observation's simple result value one can use the hasSimpleResult property.\"@en ;\n",
            "    skos:example \"The value 20 as the height of a certain tree together with the unit, e.g., Meter.\"@en .\n",
            "sosa:Sensor a rdfs:Class,\n",
            "        owl:Class ;\n",
            "    rdfs:label \"Sensor\"@en ;\n",
            "    rdfs:comment \"Device, agent (including humans), or software (simulation) involved in, or implementing, a Procedure. Sensors respond to a stimulus, e.g., a change in the environment, or input data composed from the results of prior Observations, and generate a Result. Sensors can be hosted by Platforms.\"@en ;\n",
            "    rdfs:isDefinedBy sosa: ;\n",
            "    skos:definition \"Device, agent (including humans), or software (simulation) involved in, or implementing, a Procedure. Sensors respond to a stimulus, e.g., a change in the environment, or input data composed from the results of prior Observations, and generate a Result. Sensors can be hosted by Platforms.\"@en ;\n",
            "    skos:example \"Accelerometers, gyroscopes, barometers, magnetometers, and so forth are Sensors that are typically mounted on a modern smart phone (which acts as Platform). Other examples of sensors include the human eyes.\"@en .\n",
            "sosa:hasResult a owl:ObjectProperty ;\n",
            "    rdfs:label \"has result\"@en ;\n",
            "    ns2:domainIncludes sosa:Actuation,\n",
            "        sosa:Observation,\n",
            "        sosa:Sampling ;\n",
            "    ns2:rangeIncludes sosa:Result,\n",
            "        sosa:Sample ;\n",
            "    rdfs:comment \"Relation linking an Observation or Actuation or act of Sampling and a Result or Sample.\"@en ;\n",
            "    rdfs:isDefinedBy sosa: ;\n",
            "    owl:inverseOf sosa:isResultOf ;\n",
            "    skos:definition \"Relation linking an Observation or Actuation or act of Sampling and a Result or Sample.\"@en .\n",
            "sosa:hosts a owl:ObjectProperty ;\n",
            "    rdfs:label \"hosts\"@en ;\n",
            "    ns2:domainIncludes sosa:Platform ;\n",
            "    ns2:rangeIncludes sosa:Actuator,\n",
            "        sosa:Platform,\n",
            "        sosa:Sampler,\n",
            "        sosa:Sensor ;\n",
            "    rdfs:comment \"Relation between a Platform and a Sensor, Actuator, Sampler, or Platform, hosted or mounted on it.\"@en ;\n",
            "    rdfs:isDefinedBy sosa: ;\n",
            "    owl:inverseOf sosa:isHostedBy ;\n",
            "    skos:definition \"Relation between a Platform and a Sensor, Actuator, Sampler, or Platform, hosted or mounted on it.\"@en .\n",
            "sosa:madeObservation a owl:ObjectProperty ;\n",
            "    rdfs:label \"made observation\"@en ;\n",
            "    ns2:domainIncludes sosa:Sensor ;\n",
            "    ns2:rangeIncludes sosa:Observation ;\n",
            "    rdfs:comment \"Relation between a Sensor and an Observation made by the Sensor.\"@en ;\n",
            "    rdfs:isDefinedBy sosa: ;\n",
            "    owl:inverseOf sosa:madeBySensor ;\n",
            "    skos:definition \"Relation between a Sensor and an Observation made by the Sensor.\"@en .\n",
            "sosa:resultTime a owl:DatatypeProperty ;\n",
            "    rdfs:label \"result time\"@en ;\n",
            "    ns2:domainIncludes sosa:Actuation,\n",
            "        sosa:Observation,\n",
            "        sosa:Sampling ;\n",
            "    rdfs:comment \"The result time is the instant of time when the Observation, Actuation or Sampling activity was completed.\"@en ;\n",
            "    rdfs:isDefinedBy sosa: ;\n",
            "    rdfs:range xsd:dateTime ;\n",
            "    skos:definition \"The result time is the instant of time when the Observation, Actuation or Sampling activity was completed.\"@en .\n",
            "aiot_p2#accelerationWindow a owl:DatatypeProperty ;\n",
            "    rdfs:label \"Acceleration window number\"@en ;\n",
            "    rdfs:comment \"Number of the acceleration window in the observation. The numbers span from 1 to X, where X is the number of windows per observation. Windows with higher numbers correspond to a later point in time. The windows are assumed to be distributed evenly in the observation's time span.\"@en ;\n",
            "    rdfs:domain aiot_p2#AccelerationResult ;\n",
            "    rdfs:range xsd:positiveInteger .\n",
            "aiot_p2#bpm a ns1:SingularUnit,\n",
            "        ns1:Unit,\n",
            "        owl:NamedIndividual ;\n",
            "    rdfs:label \"beats per minute\"@en ;\n",
            "    ns1:hasDimension ns1:frequency-Dimension ;\n",
            "    ns1:hasFactor \"0.016666668\"^^xsd:float ;\n",
            "    ns1:hasUnit ns1:hertz ;\n",
            "    rdfs:comment \"Number of beats per minute, unit often used for heart rate measurements.\"@en .\n",
            "aiot_p2#hasAccuracyValue a owl:ObjectProperty ;\n",
            "    rdfs:subPropertyOf ns1:hasValue .\n",
            "aiot_p2#hasAlarm a owl:DatatypeProperty ;\n",
            "    rdfs:label \"Has alarm\"@en ;\n",
            "    rdfs:domain aiot_p2#TagMetadataResult ;\n",
            "    rdfs:range xsd:boolean ;\n",
            "    rdfs:subPropertyOf owl:topDataProperty .\n",
            "aiot_p2#hasLocationMeasurementType a owl:ObjectProperty ;\n",
            "    rdfs:label \"Has location measurement type\"@en ;\n",
            "    rdfs:comment \"Indicates the method with which the location measurement was performed (2D or 3D)\"@en ;\n",
            "    rdfs:domain aiot_p2#BIMLocation ;\n",
            "    rdfs:range aiot_p2#LocationMeasurementType .\n",
            "aiot_p2#hasWatchBatteryLevel a owl:DatatypeProperty ;\n",
            "    rdfs:label \"Has watch battery level\"@en ;\n",
            "    rdfs:domain aiot_p2#TagMetadataResult ;\n",
            "    rdfs:range xsd:int ;\n",
            "    rdfs:subPropertyOf owl:topDataProperty .\n",
            "aiot_p2#hasWatchConnected a owl:DatatypeProperty ;\n",
            "    rdfs:label \"Has watch connected\"@en ;\n",
            "    rdfs:domain aiot_p2#TagMetadataResult ;\n",
            "    rdfs:range xsd:boolean ;\n",
            "    rdfs:subPropertyOf owl:topDataProperty .\n",
            "aiot_p2#hasXValue a owl:ObjectProperty ;\n",
            "    rdfs:label \"Has X value\"@en ;\n",
            "    rdfs:range ns1:Measure ;\n",
            "    rdfs:subPropertyOf ns1:hasValue .\n",
            "aiot_p2#hasYValue a owl:ObjectProperty ;\n",
            "    rdfs:label \"Has Y value\"@en ;\n",
            "    rdfs:range ns1:Measure ;\n",
            "    rdfs:subPropertyOf ns1:hasValue .\n",
            "aiot_p2#hasZValue a owl:ObjectProperty ;\n",
            "    rdfs:label \"Has Z value\"@en ;\n",
            "    rdfs:range ns1:Measure ;\n",
            "    rdfs:subPropertyOf ns1:hasValue .\n",
            "aiot_p2#measurementNone a owl:NamedIndividual,\n",
            "        aiot_p2#LocationMeasurementType ;\n",
            "    rdfs:label \"No location measurement\"@en .\n",
            "aiot_p2#tagAccelerationUnit a ns1:SingularUnit,\n",
            "        ns1:Unit,\n",
            "        owl:NamedIndividual ;\n",
            "    rdfs:label \"Neways tag acceleration unit\"@en ;\n",
            "    ns1:hasDimension ns1:acceleration-Dimension ;\n",
            "    ns1:hasFactor \"0.038304687\"^^xsd:float ;\n",
            "    ns1:hasUnit ns1:metrePerSecond-TimeSquared ;\n",
            "    rdfs:comment \"Unit of acceleration in Neways's location tags. 1 unit corresponds to 8G / 2048.\"@en .\n",
            "aiot_p2#AccelerationResult a owl:Class ;\n",
            "    rdfs:label \"Acceleration result\"@en ;\n",
            "    rdfs:comment \"Result of a 3-axis acceleration measurement\"@en ;\n",
            "    rdfs:subClassOf sosa:Result .\n",
            "aiot_p2#BIMLocation a owl:Class ;\n",
            "    rdfs:label \"Location within a BIM model\"@en ;\n",
            "    rdfs:comment \"Location relative to the root of some BIM model.\"@en ;\n",
            "    rdfs:subClassOf aiot#Location .\n",
            "aiot_p2#TagMetadataResult a owl:Class ;\n",
            "    rdfs:label \"Tag metadata result\"@en ;\n",
            "    rdfs:comment \"Result of a measurement of a location tag's meta properties\"@en ;\n",
            "    rdfs:subClassOf sosa:Result .\n"
          ]
        }
      ]
    },
    {
      "cell_type": "code",
      "source": [],
      "metadata": {
        "id": "oaKry2O_zjSk"
      },
      "execution_count": null,
      "outputs": []
    },
    {
      "cell_type": "code",
      "source": [],
      "metadata": {
        "id": "Vm3vI9IKv8TQ"
      },
      "execution_count": null,
      "outputs": []
    }
  ]
}