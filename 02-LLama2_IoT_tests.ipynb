{
  "nbformat": 4,
  "nbformat_minor": 0,
  "metadata": {
    "colab": {
      "provenance": [],
      "gpuType": "T4"
    },
    "kernelspec": {
      "name": "python3",
      "display_name": "Python 3"
    },
    "language_info": {
      "name": "python"
    },
    "accelerator": "GPU"
  },
  "cells": [
    {
      "cell_type": "code",
      "execution_count": 1,
      "metadata": {
        "colab": {
          "base_uri": "https://localhost:8080/"
        },
        "id": "0f5dCd2jxakz",
        "outputId": "003103da-170e-43cc-aaf2-9a67d5f42717"
      },
      "outputs": [
        {
          "output_type": "stream",
          "name": "stdout",
          "text": [
            "Requirement already satisfied: llama-cpp-python in /usr/local/lib/python3.10/dist-packages (0.2.24)\n",
            "Requirement already satisfied: typing-extensions>=4.5.0 in /usr/local/lib/python3.10/dist-packages (from llama-cpp-python) (4.5.0)\n",
            "Requirement already satisfied: numpy>=1.20.0 in /usr/local/lib/python3.10/dist-packages (from llama-cpp-python) (1.23.5)\n",
            "Requirement already satisfied: diskcache>=5.6.1 in /usr/local/lib/python3.10/dist-packages (from llama-cpp-python) (5.6.3)\n",
            "--2023-12-19 18:14:52--  https://huggingface.co/TheBloke/Llama-2-7B-Chat-GGUF/resolve/main/llama-2-7b-chat.Q4_K_M.gguf?download=true\n",
            "Resolving huggingface.co (huggingface.co)... 13.33.33.20, 13.33.33.110, 13.33.33.55, ...\n",
            "Connecting to huggingface.co (huggingface.co)|13.33.33.20|:443... connected.\n",
            "HTTP request sent, awaiting response... 302 Found\n",
            "Location: https://cdn-lfs.huggingface.co/repos/b0/ca/b0cae82fd4b3a362cab01d17953c45edac67d1c2dfb9fbb9e69c80c32dc2012e/08a5566d61d7cb6b420c3e4387a39e0078e1f2fe5f055f3a03887385304d4bfa?response-content-disposition=attachment%3B+filename*%3DUTF-8%27%27llama-2-7b-chat.Q4_K_M.gguf%3B+filename%3D%22llama-2-7b-chat.Q4_K_M.gguf%22%3B&Expires=1703268892&Policy=eyJTdGF0ZW1lbnQiOlt7IkNvbmRpdGlvbiI6eyJEYXRlTGVzc1RoYW4iOnsiQVdTOkVwb2NoVGltZSI6MTcwMzI2ODg5Mn19LCJSZXNvdXJjZSI6Imh0dHBzOi8vY2RuLWxmcy5odWdnaW5nZmFjZS5jby9yZXBvcy9iMC9jYS9iMGNhZTgyZmQ0YjNhMzYyY2FiMDFkMTc5NTNjNDVlZGFjNjdkMWMyZGZiOWZiYjllNjljODBjMzJkYzIwMTJlLzA4YTU1NjZkNjFkN2NiNmI0MjBjM2U0Mzg3YTM5ZTAwNzhlMWYyZmU1ZjA1NWYzYTAzODg3Mzg1MzA0ZDRiZmE%7EcmVzcG9uc2UtY29udGVudC1kaXNwb3NpdGlvbj0qIn1dfQ__&Signature=Q1wE2gZSDyAemRimegyK46EmPHqYWJzYhL6okmGKlA3TRAFCNGnNXhFweolLtxh3Va1yQPTNnioie6zI3JANtfraLkZhktJZiAL3x4KgVBqQbpP8IAO9L2W-4kfGW1GJob6r6mL7HjWBSx4CwSbJSBWsxV-9LYOEvrjSDWeMQIBv4xapSLD-msi4J%7EYto5nwAXWhkdSlsksSkV54DTdphHTRdA1CBwFJo5Fc7HsCc2L3qGLmRQsHfQFJuZ3YtQVXgarl55hrFjzJcV94T6N-E72PxCuDiIPTYNAntkVVx2knWH5qaiEGN2gnez%7EhFMUIqYGdH6TN0cqLTUik9qbOuQ__&Key-Pair-Id=KVTP0A1DKRTAX [following]\n",
            "--2023-12-19 18:14:53--  https://cdn-lfs.huggingface.co/repos/b0/ca/b0cae82fd4b3a362cab01d17953c45edac67d1c2dfb9fbb9e69c80c32dc2012e/08a5566d61d7cb6b420c3e4387a39e0078e1f2fe5f055f3a03887385304d4bfa?response-content-disposition=attachment%3B+filename*%3DUTF-8%27%27llama-2-7b-chat.Q4_K_M.gguf%3B+filename%3D%22llama-2-7b-chat.Q4_K_M.gguf%22%3B&Expires=1703268892&Policy=eyJTdGF0ZW1lbnQiOlt7IkNvbmRpdGlvbiI6eyJEYXRlTGVzc1RoYW4iOnsiQVdTOkVwb2NoVGltZSI6MTcwMzI2ODg5Mn19LCJSZXNvdXJjZSI6Imh0dHBzOi8vY2RuLWxmcy5odWdnaW5nZmFjZS5jby9yZXBvcy9iMC9jYS9iMGNhZTgyZmQ0YjNhMzYyY2FiMDFkMTc5NTNjNDVlZGFjNjdkMWMyZGZiOWZiYjllNjljODBjMzJkYzIwMTJlLzA4YTU1NjZkNjFkN2NiNmI0MjBjM2U0Mzg3YTM5ZTAwNzhlMWYyZmU1ZjA1NWYzYTAzODg3Mzg1MzA0ZDRiZmE%7EcmVzcG9uc2UtY29udGVudC1kaXNwb3NpdGlvbj0qIn1dfQ__&Signature=Q1wE2gZSDyAemRimegyK46EmPHqYWJzYhL6okmGKlA3TRAFCNGnNXhFweolLtxh3Va1yQPTNnioie6zI3JANtfraLkZhktJZiAL3x4KgVBqQbpP8IAO9L2W-4kfGW1GJob6r6mL7HjWBSx4CwSbJSBWsxV-9LYOEvrjSDWeMQIBv4xapSLD-msi4J%7EYto5nwAXWhkdSlsksSkV54DTdphHTRdA1CBwFJo5Fc7HsCc2L3qGLmRQsHfQFJuZ3YtQVXgarl55hrFjzJcV94T6N-E72PxCuDiIPTYNAntkVVx2knWH5qaiEGN2gnez%7EhFMUIqYGdH6TN0cqLTUik9qbOuQ__&Key-Pair-Id=KVTP0A1DKRTAX\n",
            "Resolving cdn-lfs.huggingface.co (cdn-lfs.huggingface.co)... 13.33.33.45, 13.33.33.93, 13.33.33.69, ...\n",
            "Connecting to cdn-lfs.huggingface.co (cdn-lfs.huggingface.co)|13.33.33.45|:443... connected.\n",
            "HTTP request sent, awaiting response... 200 OK\n",
            "Length: 4081004224 (3.8G) [binary/octet-stream]\n",
            "Saving to: ‘llama-2-7b-chat.Q4_K_M.gguf?download=true’\n",
            "\n",
            "llama-2-7b-chat.Q4_ 100%[===================>]   3.80G   218MB/s    in 21s     \n",
            "\n",
            "2023-12-19 18:15:13 (188 MB/s) - ‘llama-2-7b-chat.Q4_K_M.gguf?download=true’ saved [4081004224/4081004224]\n",
            "\n",
            "--2023-12-19 18:15:13--  https://huggingface.co/TheBloke/Llama-2-7B-Chat-GGUF/resolve/main/llama-2-7b-chat.Q8_0.gguf?download=true\n",
            "Resolving huggingface.co (huggingface.co)... 13.33.33.102, 13.33.33.110, 13.33.33.20, ...\n",
            "Connecting to huggingface.co (huggingface.co)|13.33.33.102|:443... connected.\n",
            "HTTP request sent, awaiting response... 302 Found\n",
            "Location: https://cdn-lfs.huggingface.co/repos/b0/ca/b0cae82fd4b3a362cab01d17953c45edac67d1c2dfb9fbb9e69c80c32dc2012e/f47dade5e86466edb66c5afe6f8e9fb1fbb2c292827b90bd46b7a1817d864bf2?response-content-disposition=attachment%3B+filename*%3DUTF-8%27%27llama-2-7b-chat.Q8_0.gguf%3B+filename%3D%22llama-2-7b-chat.Q8_0.gguf%22%3B&Expires=1703268913&Policy=eyJTdGF0ZW1lbnQiOlt7IkNvbmRpdGlvbiI6eyJEYXRlTGVzc1RoYW4iOnsiQVdTOkVwb2NoVGltZSI6MTcwMzI2ODkxM319LCJSZXNvdXJjZSI6Imh0dHBzOi8vY2RuLWxmcy5odWdnaW5nZmFjZS5jby9yZXBvcy9iMC9jYS9iMGNhZTgyZmQ0YjNhMzYyY2FiMDFkMTc5NTNjNDVlZGFjNjdkMWMyZGZiOWZiYjllNjljODBjMzJkYzIwMTJlL2Y0N2RhZGU1ZTg2NDY2ZWRiNjZjNWFmZTZmOGU5ZmIxZmJiMmMyOTI4MjdiOTBiZDQ2YjdhMTgxN2Q4NjRiZjI%7EcmVzcG9uc2UtY29udGVudC1kaXNwb3NpdGlvbj0qIn1dfQ__&Signature=HvgkVa3URhVW3Z4kcVHu8tZNSAy3Zsn0%7EOP-2RDfnZkjg4pn8IoFtXtiwasYXwbUOj4Hmas6gtrFDxHu7JeJqaVMNzmsKXcwjQGUf70worll01wporR-JfsLKt8bR9NSaQ2h3UAiQ12yf7n1bDpY4Ly7TWI%7E7fB7YqYCnc3KCtCNaQZ%7ExR%7ErGc%7ELZd6Yf9U1dQ%7Es6SKF5ldPVEul-9AffHpBNCQ66osZwt9PwzihweyrMJw7kXnEJeOhRSUCk-s2YiYJClbDGiZYk07bDtp8z5Kp23bwg9JOewP%7ECWUE0d-sS4EC2JZyziDqdrHv%7ECS5WBO0ukkF2QjaXIBjPPKyog__&Key-Pair-Id=KVTP0A1DKRTAX [following]\n",
            "--2023-12-19 18:15:14--  https://cdn-lfs.huggingface.co/repos/b0/ca/b0cae82fd4b3a362cab01d17953c45edac67d1c2dfb9fbb9e69c80c32dc2012e/f47dade5e86466edb66c5afe6f8e9fb1fbb2c292827b90bd46b7a1817d864bf2?response-content-disposition=attachment%3B+filename*%3DUTF-8%27%27llama-2-7b-chat.Q8_0.gguf%3B+filename%3D%22llama-2-7b-chat.Q8_0.gguf%22%3B&Expires=1703268913&Policy=eyJTdGF0ZW1lbnQiOlt7IkNvbmRpdGlvbiI6eyJEYXRlTGVzc1RoYW4iOnsiQVdTOkVwb2NoVGltZSI6MTcwMzI2ODkxM319LCJSZXNvdXJjZSI6Imh0dHBzOi8vY2RuLWxmcy5odWdnaW5nZmFjZS5jby9yZXBvcy9iMC9jYS9iMGNhZTgyZmQ0YjNhMzYyY2FiMDFkMTc5NTNjNDVlZGFjNjdkMWMyZGZiOWZiYjllNjljODBjMzJkYzIwMTJlL2Y0N2RhZGU1ZTg2NDY2ZWRiNjZjNWFmZTZmOGU5ZmIxZmJiMmMyOTI4MjdiOTBiZDQ2YjdhMTgxN2Q4NjRiZjI%7EcmVzcG9uc2UtY29udGVudC1kaXNwb3NpdGlvbj0qIn1dfQ__&Signature=HvgkVa3URhVW3Z4kcVHu8tZNSAy3Zsn0%7EOP-2RDfnZkjg4pn8IoFtXtiwasYXwbUOj4Hmas6gtrFDxHu7JeJqaVMNzmsKXcwjQGUf70worll01wporR-JfsLKt8bR9NSaQ2h3UAiQ12yf7n1bDpY4Ly7TWI%7E7fB7YqYCnc3KCtCNaQZ%7ExR%7ErGc%7ELZd6Yf9U1dQ%7Es6SKF5ldPVEul-9AffHpBNCQ66osZwt9PwzihweyrMJw7kXnEJeOhRSUCk-s2YiYJClbDGiZYk07bDtp8z5Kp23bwg9JOewP%7ECWUE0d-sS4EC2JZyziDqdrHv%7ECS5WBO0ukkF2QjaXIBjPPKyog__&Key-Pair-Id=KVTP0A1DKRTAX\n",
            "Resolving cdn-lfs.huggingface.co (cdn-lfs.huggingface.co)... 13.33.33.119, 13.33.33.45, 13.33.33.69, ...\n",
            "Connecting to cdn-lfs.huggingface.co (cdn-lfs.huggingface.co)|13.33.33.119|:443... connected.\n",
            "HTTP request sent, awaiting response... 200 OK\n",
            "Length: 7161089728 (6.7G) [binary/octet-stream]\n",
            "Saving to: ‘llama-2-7b-chat.Q8_0.gguf?download=true’\n",
            "\n",
            "llama-2-7b-chat.Q8_ 100%[===================>]   6.67G   236MB/s    in 34s     \n",
            "\n",
            "2023-12-19 18:15:48 (198 MB/s) - ‘llama-2-7b-chat.Q8_0.gguf?download=true’ saved [7161089728/7161089728]\n",
            "\n"
          ]
        }
      ],
      "source": [
        "! CMAKE_ARGS=\"-DLLAMA_CUBLAS=on\" FORCE_CMAKE=1 pip install llama-cpp-python\n",
        "! wget https://huggingface.co/TheBloke/Llama-2-7B-Chat-GGUF/resolve/main/llama-2-7b-chat.Q4_K_M.gguf?download=true\n",
        "! wget https://huggingface.co/TheBloke/Llama-2-7B-Chat-GGUF/resolve/main/llama-2-7b-chat.Q8_0.gguf?download=true\n",
        "! mv llama-2-7b-chat.Q4_K_M.gguf?download=true ./llama-2-7b-chat.Q4_K_M.gguf\n",
        "! mv llama-2-7b-chat.Q8_0.gguf?download=true ./llama-2-7b-chat.Q8_0.gguf"
      ]
    },
    {
      "cell_type": "code",
      "source": [
        "from llama_cpp import Llama\n",
        "import os\n",
        "import re"
      ],
      "metadata": {
        "id": "Ze2GZJr4Qfg4"
      },
      "execution_count": 2,
      "outputs": []
    },
    {
      "cell_type": "code",
      "source": [
        "model_path_middle = \"./llama-2-7b-chat.Q4_K_M.gguf\"\n",
        "model_path_big = \"./llama-2-7b-chat.Q8_0.gguf\"\n",
        "n_cpu = os.cpu_count()\n",
        "print(n_cpu)\n",
        "\n",
        "def load_model(path=model_path_middle, n_gpu_layers=-1, n_threads=os.cpu_count(), *args, **kwargs):\n",
        "    return Llama(model_path=path, n_gpu_layers=-1, n_threads=n_threads, *args, **kwargs)\n",
        "\n",
        "llm = load_model(n_ctx=2048, n_batch=2048)\n",
        "\n",
        "def chat_answer(llm, system_prompt, user_prompt, *args, **kwargs):\n",
        "    out = llm.create_chat_completion(\n",
        "      messages = [\n",
        "          {\"role\": \"system\", \"content\": system_prompt},\n",
        "          {\"role\": \"user\", \"content\": user_prompt}\n",
        "      ],\n",
        "      *args, **kwargs\n",
        "    )\n",
        "    return out['choices'][0]['message']['content']"
      ],
      "metadata": {
        "id": "tF7vv5pqVKRV",
        "colab": {
          "base_uri": "https://localhost:8080/"
        },
        "outputId": "3c7863d8-275a-415d-9154-60245089842c"
      },
      "execution_count": null,
      "outputs": [
        {
          "output_type": "stream",
          "name": "stdout",
          "text": [
            "2\n"
          ]
        },
        {
          "output_type": "stream",
          "name": "stderr",
          "text": [
            "AVX = 1 | AVX2 = 1 | AVX512 = 1 | AVX512_VBMI = 0 | AVX512_VNNI = 0 | FMA = 1 | NEON = 0 | ARM_FMA = 0 | F16C = 1 | FP16_VA = 0 | WASM_SIMD = 0 | BLAS = 1 | SSE3 = 1 | SSSE3 = 1 | VSX = 0 | \n"
          ]
        }
      ]
    },
    {
      "cell_type": "markdown",
      "source": [
        "# Real data tests"
      ],
      "metadata": {
        "id": "FXvONatF58iP"
      }
    },
    {
      "cell_type": "code",
      "source": [
        "id = '0000003596'\n",
        "cam = f'/content/cam_{id}.ttl'\n",
        "ws = f'/content/ws_{id}.ttl'\n",
        "tag = f'/content/tags_{id}.ttl'\n",
        "system_prompt = \"You are a master in the field of knowledge graphs. You perfectly know turtle and you know how to explain what is written in turtle format\"\n",
        "\n",
        "data = {}\n",
        "for path, name in zip([cam, ws, tag], ['cam', 'ws', 'tag']):\n",
        "  with open(path) as f:\n",
        "    data[name] = f.read()"
      ],
      "metadata": {
        "id": "8tD0ddq-418f"
      },
      "execution_count": 33,
      "outputs": []
    },
    {
      "cell_type": "code",
      "source": [
        "print(data['cam'])"
      ],
      "metadata": {
        "colab": {
          "base_uri": "https://localhost:8080/"
        },
        "id": "4-EuxyxTNi3y",
        "outputId": "45c3f00c-aec0-4346-8b70-a701f328272e"
      },
      "execution_count": 101,
      "outputs": [
        {
          "output_type": "stream",
          "name": "stdout",
          "text": [
            "\n",
            "<https://assist-iot.eu/pilot2_rdf/sensor/camera/entrance_camera_1> a <http://www.w3.org/ns/sosa/Sensor>;\n",
            "  <http://www.w3.org/ns/sosa/madeObservation> _:003;\n",
            "  <http://schema.org/identifier> \"entrance_camera_1\" .\n",
            "\n",
            "_:003 a <http://www.w3.org/ns/sosa/Observation>;\n",
            "  <http://www.w3.org/ns/sosa/hasResult> _:000;\n",
            "  <http://www.w3.org/ns/sosa/resultTime> \"2023-07-07T14:11:08.675910\"^^<http://www.w3.org/2001/XMLSchema#dateTime> .\n",
            "\n",
            "_:000 a <https://assist-iot.eu/ontologies/aiot_p2#CameraResult>, <http://www.w3.org/ns/sosa/Result>;\n",
            "  <https://assist-iot.eu/ontologies/aiot_p2#hasConfidence> 99.99137115478516;\n",
            "  <https://assist-iot.eu/ontologies/aiot_p2#hasImage> _:001;\n",
            "  <https://assist-iot.eu/ontologies/aiot_p2#unsafeWorkersNum> 1;\n",
            "  <https://assist-iot.eu/ontologies/aiot_p2#safeWorkersNum> 0;\n",
            "  <https://assist-iot.eu/ontologies/aiot_p2#indeterminateWorkersNum> 0;\n",
            "  <https://assist-iot.eu/ontologies/aiot_p2#hasSafetyStatus> <https://assist-iot.eu/ontologies/aiot_p2#status_unsafe> .\n",
            "\n",
            "_:001 a <https://assist-iot.eu/ontologies/aiot_p2#Image>;\n",
            "  <https://assist-iot.eu/ontologies/aiot_p2#hasRepoPath> \"osh-camera/entrance_camera_1/32fec42735354991bfa27ba47b2a1758\" .\n",
            "\n"
          ]
        }
      ]
    },
    {
      "cell_type": "code",
      "source": [
        "user_prompt = \"Explain this graph to me \\n \\n\" + data['cam']\n",
        "output = chat_answer(llm, system_prompt, user_prompt)\n",
        "print(output)"
      ],
      "metadata": {
        "colab": {
          "base_uri": "https://localhost:8080/"
        },
        "id": "mKCSkGZ26ClF",
        "outputId": "f4c0132d-276f-4b66-d4ae-d302edf9ef51"
      },
      "execution_count": 38,
      "outputs": [
        {
          "output_type": "stream",
          "name": "stderr",
          "text": [
            "Llama.generate: prefix-match hit\n"
          ]
        },
        {
          "output_type": "stream",
          "name": "stdout",
          "text": [
            "  Sure, I'd be happy to explain this Turtle graph to you!\n",
            "The graph is a representation of a knowledge graph in the Turtle format, which is a serialization of RDF (Resource Description Framework) data. It contains information about a sensor, specifically an entrance camera, and its observations. Here's a breakdown of the graph:\n",
            "1. The first line `<https://assist-iot.eu/pilot2_rdf/sensor/camera/entrance_camera_1> a <http://www.w3.org/ns/sosa/Sensor>` defines the sensor as an instance of the `Sensor` class from the SOSA (Smart Open Services for Agriculture) ontology.\n",
            "2. The next line `<http://www.w3.org/ns/sosa/madeObservation> _:003;` creates a new observation for the sensor, with an ID of `_:003`.\n",
            "3. The following line `<http://www.w3.org/ns/sosa/hasResult> _:000;` defines that the observation has a result, and the ID of the result is `_:000`.\n",
            "4. The `http://www.w3.org/ns/sosa/resultTime>` property sets the date and time of the observation to \"2023-07-07T14:11:08.675910\"^^<http://www.w3.org/2001/XMLSchema#dateTime>.\n",
            "5. The next line `<_:00 a https://assist-iot.eu/ontologies/aiot_p2#CameraResult>, <http://www.w3.org/ns/sosa/Result>;>` defines the type of the result as an instance of the `CameraResult` class from the AIoT (Assist IoT) ontology, and assigns it an ID of `_:00`.\n",
            "6. The following lines `<https://assist-iot.eu/ontologies/aiot_p2#hasConfidence> 99.99137115478516;` and `<https://assist-iot.eu/ontologies/aiot_p2#hasImage> _:001;` set the confidence level of the result to 99.99137115478516%, and assign an ID of `_:001` to the image associated with the observation.\n",
            "7. The lines `<https://assist-iot.eu/ontologies/aiot_p2#unsafeWorkersNum> 1;` and `<https://assist-iot.eu/ontologies/aiot_p2#safeWorkersNum> 0;` set the number of unsafe workers to 1, and the number of safe workers to 0.\n",
            "8. The line `<https://assist-iot.eu/ontologies/aiot_p2#indeterminateWorkersNum> 0;` sets the number of indeterminate workers to 0.\n",
            "9. The final line `<https://assist-iot.eu/ontologies/aiot_p2#hasSafetyStatus> <https://assist-iot.eu/ontologies/aiot_p2#status_unsafe>` sets the safety status of the observation to \"unsafe\".\n",
            "10. The final line `<https://assist-iot.eu/ontologies/aiot_p2#Image>; _:001;` defines an image associated with the observation, with an ID of `_:001`.\n",
            "In summary, this Turtle graph represents a sensor (entrance camera) making an observation with a result, confidence level, and image. The observation is classified as unsafe, and the graph provides information about the number of safe and indeterminate workers in the area.\n"
          ]
        }
      ]
    },
    {
      "cell_type": "code",
      "source": [
        "data_regexd = re.sub(\"<[^ ]*\\/([^ \\/]*)>\", \"\\g<1>\", data['cam'])\n",
        "print(data_regexd)"
      ],
      "metadata": {
        "colab": {
          "base_uri": "https://localhost:8080/"
        },
        "id": "D8MOLQgENoFC",
        "outputId": "999ba59f-026f-4c49-e727-f7139166c6aa"
      },
      "execution_count": 103,
      "outputs": [
        {
          "output_type": "stream",
          "name": "stdout",
          "text": [
            "\n",
            "entrance_camera_1 a Sensor;\n",
            "  madeObservation _:003;\n",
            "  identifier \"entrance_camera_1\" .\n",
            "\n",
            "_:003 a Observation;\n",
            "  hasResult _:000;\n",
            "  resultTime \"2023-07-07T14:11:08.675910\"^^XMLSchema#dateTime .\n",
            "\n",
            "_:000 a aiot_p2#CameraResult, Result;\n",
            "  aiot_p2#hasConfidence 99.99137115478516;\n",
            "  aiot_p2#hasImage _:001;\n",
            "  aiot_p2#unsafeWorkersNum 1;\n",
            "  aiot_p2#safeWorkersNum 0;\n",
            "  aiot_p2#indeterminateWorkersNum 0;\n",
            "  aiot_p2#hasSafetyStatus aiot_p2#status_unsafe .\n",
            "\n",
            "_:001 a aiot_p2#Image;\n",
            "  aiot_p2#hasRepoPath \"osh-camera/entrance_camera_1/32fec42735354991bfa27ba47b2a1758\" .\n",
            "\n"
          ]
        }
      ]
    },
    {
      "cell_type": "code",
      "source": [
        "user_prompt = \"Explain this graph to me \\n \\n\" + data_regexd\n",
        "output = chat_answer(llm, system_prompt, user_prompt)\n",
        "print(output)"
      ],
      "metadata": {
        "colab": {
          "base_uri": "https://localhost:8080/"
        },
        "id": "pZflZiEz7n-2",
        "outputId": "dd9d03cd-e6f4-44af-b0e8-38f2ad93e372"
      },
      "execution_count": 102,
      "outputs": [
        {
          "output_type": "stream",
          "name": "stderr",
          "text": [
            "Llama.generate: prefix-match hit\n"
          ]
        },
        {
          "output_type": "stream",
          "name": "stdout",
          "text": [
            "  Certainly! This Turtle file represents a knowledge graph that contains information about an entrance camera. Here's a breakdown of the graph:\n",
            "* `entrance_camera_1`: This is the subject of the graph, representing the entrance camera. It has an identifier (\"entrance_camera_1\") and is a sensor.\n",
            "* `_:003`: This is an observation made by the entrance camera. The `madeObservation` property specifies that this is the 3rd observation made by the camera.\n",
            "* `hasResult`: This property indicates that the observation has a result, which we'll explore next.\n",
            "* `resultTime`: This property specifies the date and time of the observation, in ISO 8601 format (`2023-07-07T14:11:08.675910`).\n",
            "* `_:00 a aiot_p2#CameraResult, Result`: This property links the observation to an instance of the `aiot_p2` ontology (`CameraResult`) and specifies that it is a result.\n",
            "* `aiot_p2#hasConfidence`: This property indicates the confidence level of the observation, which is 99.99137115478516%.\n",
            "* `aiot_p2#hasImage`: This property links the observation to an instance of the `aiot_p2` ontology (`Image`) and specifies that it has an image associated with it.\n",
            "* `_:001 a aiot_p2#Image`: This property links the observation to an instance of the `aiot_p2` ontology (`Image`) and specifies that it is the 1st image associated with the observation.\n",
            "* `aiot_p2#unsafeWorkersNum`: This property indicates the number of unsafe workers associated with the observation, which is 1.\n",
            "* `aiot_p2#safeWorkersNum`: This property indicates the number of safe workers associated with the observation, which is 0.\n",
            "* `aiot_p2#indeterminateWorkersNum`: This property indicates the number of indeterminate workers associated with the observation, which is 0.\n",
            "* `aiot_p2#hasSafetyStatus`: This property links the observation to an instance of the `aiot_p2` ontology (`status_unsafe`) and specifies that it has a safety status.\n",
            "* `_:01 a aiot_p2#Image`: This property links the observation to an instance of the `aiot_p2` ontology (`Image`) and specifies that it is the 1st image associated with the observation.\n",
            "* `aiot_p2#hasRepoPath`: This property links the observation to a repository path for the image, which is \"osh-camera/entrance_camera_1/32fec42735354991bfa27ba47b2a1758\".\n",
            "Overall, this Turtle file represents a single observation made by an entrance camera, including information about the confidence level of the observation, the number of unsafe and safe workers involved, and the image associated with the observation.\n"
          ]
        }
      ]
    },
    {
      "cell_type": "code",
      "source": [
        "user_prompt2 = \"Summarize only the data in the following graph. \\n \\n\" + data['cam']\n",
        "system_prompt2 = \"You are a master in the field of knowledge graphs. You perfectly know turtle and you explain their contents using layman's terms.\"\n",
        "output = chat_answer(llm, system_prompt2, user_prompt2)\n",
        "print(output)"
      ],
      "metadata": {
        "colab": {
          "base_uri": "https://localhost:8080/"
        },
        "id": "MMagIVEvAPTD",
        "outputId": "877ab4a8-f7ad-4a7c-a113-9e32f7c6a297"
      },
      "execution_count": 52,
      "outputs": [
        {
          "output_type": "stream",
          "name": "stderr",
          "text": [
            "Llama.generate: prefix-match hit\n"
          ]
        },
        {
          "output_type": "stream",
          "name": "stdout",
          "text": [
            "  Sure, here is a summary of the data in the provided Knowledge Graph:\n",
            "* The graph contains one node labeled \"entrance_camera_1\" which is classified as an instance of <http://www.w3.org/ns/sosa/Sensor>.\n",
            "* The node has two labels: <http://schema.org/identifier> \"entrance_camera_1\" and <https://assist-iot.eu/ontologies/aiot_p2#CameraResult>.\n",
            "* The node has three properties:\n",
            "\t+ <http://www.w3.org/ns/sosa/madeObservation> with value _:003, indicating that the sensor made an observation.\n",
            "\t+ <http://www.w3.org/ns/sosa/hasResult> with value _:000, indicating that the sensor has a result.\n",
            "\t+ <http://www.w3.org/ns/sosa/resultTime> with value \"2023-07-07T14:11:08.675910\"^^<http://www.w3.org/2001/XMLSchema#dateTime>, indicating the time of the observation.\n",
            "* The node also has five values associated with the <https://assist-iot.eu/ontologies/aiot_p2#CameraResult> label:\n",
            "\t+ <https://assist-iot.eu/ontologies/aiot_p2#hasConfidence> with value 99.99137115478516, indicating the confidence level of the observation.\n",
            "\t+ <https://assist-iot.eu/ontologies/aiot_p2#hasImage> with value _:001, indicating that an image is associated with the observation.\n",
            "\t+ <https://assist-iot.eu/ontologies/aiot_p2#unsafeWorkersNum> with value 1, indicating the number of unsafe workers in the area.\n",
            "\t+ <https://assist-iot.eu/ontologies/aiot_p2#safeWorkersNum> with value 0, indicating the number of safe workers in the area.\n",
            "\t+ <https://assist-iot.eu/ontologies/aiot_p2#indeterminateWorkersNum> with value 0, indicating the number of indeterminate workers in the area.\n",
            "* The graph also contains one edge connecting \"entrance_camera_1\" to a node labeled \"<https://assist-iot.eu/ontologies/aiot_p2#Image>\"; the edge has a label of <https://assist-iot.eu/ontologies/aiot_p2#hasRepoPath> with value \"osh-camera/entrance_camera_1/32fec42735354991bfa27ba47b2a1758\", indicating the path to the image associated with the observation.\n"
          ]
        }
      ]
    },
    {
      "cell_type": "code",
      "source": [
        "system_prompt2 = \"You are a master in the field of knowledge graphs. You perfectly know turtle and you explain their contents without knowledge graph specific linguistics.\"\n",
        "output = chat_answer(llm, system_prompt2, user_prompt)\n",
        "print(output)"
      ],
      "metadata": {
        "colab": {
          "base_uri": "https://localhost:8080/"
        },
        "id": "X0MrQLJS-h8P",
        "outputId": "0323d84a-f890-46e6-e260-854635760c2e"
      },
      "execution_count": 48,
      "outputs": [
        {
          "output_type": "stream",
          "name": "stderr",
          "text": [
            "Llama.generate: prefix-match hit\n"
          ]
        },
        {
          "output_type": "stream",
          "name": "stdout",
          "text": [
            "  Sure, I'd be happy to explain this knowledge graph to you!\n",
            "The graph represents a simple system for monitoring the entrance of a building using a camera. Here's a breakdown of each node and edge in the graph:\n",
            "* `entrance_camera_1`: This is the sensor node representing the entrance camera. It has an identifier (\"entrance_camera_1\") and is connected to other nodes through edges.\n",
            "* `_:003`: This is an observation made by the entrance camera. The edge connecting it to `entrance_camera_1` represents the fact that this observation was made by the camera.\n",
            "* `hasResult`: This edge connects the observation node (`_:003`) to a result node (`_:00`). It indicates that the observation has a result, which we'll discuss below.\n",
            "* `resultTime`: This edge connects the observation node to a date and time node (`_:003`). It represents the time at which the observation was made.\n",
            "* `_:00 a aiot_p2#CameraResult, Result;`: This is an instance of a class called `aiot_p2#CameraResult`, which is a subclass of `Result`. The `a` symbol indicates that this node is an instance of a class, rather than a simple node.\n",
            "* `aiot_p2#hasConfidence`: This edge connects the `aiot_p2#CameraResult` node to a confidence node (`_:001`). It represents the confidence level of the observation, which in this case is 99.99%.\n",
            "* `aiot_p2#hasImage`: This edge connects the `aiot_p2#CameraResult` node to an image node (`_:001`). It indicates that the observation has an associated image.\n",
            "* `aiot_p2#unsafeWorkersNum`: This edge connects the `aiot_p2#CameraResult` node to a worker node (`_:00`). It represents the number of unsafe workers in the system. In this case, there is one unsafe worker.\n",
            "* `aiot_p2#safeWorkersNum`: This edge connects the `aiot_p2#CameraResult` node to another worker node (`_:00`). It represents the number of safe workers in the system. In this case, there are no safe workers.\n",
            "* `aiot_p2#indeterminateWorkersNum`: This edge connects the `aiot_p2#CameraResult` node to another worker node (`_:00`). It represents the number of indeterminate workers in the system. In this case, there are no indeterminate workers.\n",
            "* `aiot_p2#hasSafetyStatus`: This edge connects the `aiot_p2#CameraResult` node to a safety status node (`_:00`). It represents the safety status of the observation, which in this case is \"unsafe\".\n",
            "* `_:001 a aiot_p2#Image;`: This is an instance of a class called `aiot_p2#Image`. The `a` symbol indicates that this node is an instance of a class, rather than a simple node.\n",
            "* `aiot_p2#hasRepoPath`: This edge connects the `aiot_p2#Image` node to a repository path node (`_:001`). It represents the path to the image in the repository. In this case, the path is \"osh-camera/entrance_camera_1/32fec42735354991bfa27ba47b2a1758\".\n",
            "I hope that helps! Let me know if you have any questions about the graph or its contents.\n"
          ]
        }
      ]
    },
    {
      "cell_type": "code",
      "source": [
        "user_prompt2 = \"Explain only the data in the following graph. \\n \\n\" + data_regexd\n",
        "system_prompt2 = \"You are a master in the field of knowledge graphs. You perfectly know turtle and you explain their contents without knowledge graph specific linguistics.\"\n",
        "output = chat_answer(llm, system_prompt2, user_prompt2)\n",
        "print(output)"
      ],
      "metadata": {
        "colab": {
          "base_uri": "https://localhost:8080/"
        },
        "id": "GFUr6VZi_SI6",
        "outputId": "089338bb-ed3d-4a1d-8429-27f3ee9a4bcc"
      },
      "execution_count": 50,
      "outputs": [
        {
          "output_type": "stream",
          "name": "stderr",
          "text": [
            "Llama.generate: prefix-match hit\n"
          ]
        },
        {
          "output_type": "stream",
          "name": "stdout",
          "text": [
            "  Sure, I'd be happy to explain the data in the knowledge graph!\n",
            "The graph contains three nodes: \"entrance_camera_1\", \" Observation\", and \"aiot_p2#Image\".\n",
            "* \"entrance_camera_1\" is a sensor node, which means it represents a device or object that can detect or sense something in the environment. In this case, it's a camera.\n",
            "* \"Observation\" is a node that represents an observation or measurement made by the sensor. It has two properties: \"madeObservation\" and \"resultTime\". \"madeObservation\" is a reference to the sensor that made the observation, in this case \"entrance_camera_1\". \"resultTime\" is the date and time when the observation was made, which is July 7, 2023 at 2:11 PM.\n",
            "* \"aiot_p2#Image\" is a node that represents an image. It has several properties: \"hasConfidence\", \"hasImage\", \"unsafeWorkersNum\", \"safeWorkersNum\", and \"indeterminateWorkersNum\". \"hasConfidence\" indicates the confidence level of the image, which is 99.99%. \"hasImage\" means that the image exists and can be retrieved. \"unsafeWorkersNum\", \"safeWorkersNum\", and \"indeterminateWorkersNum\" are related to the safety status of the image, but I'll explain those in more detail later.\n",
            "* Finally, there is a relationship between \"entrance_camera_1\" and \"aiot_p2#Image\". Specifically, \"entrance_camera_1\" made an observation that resulted in the image. This relationship is represented by the arrow pointing from \"entrance_camera_1\" to \"aiot_p2#Image\".\n",
            "Now, let's dive into the properties of \"aiot_p2#Image\":\n",
            "* \"hasRepoPath\" indicates the path to the repository where the image is stored. In this case, it points to a file named \"osh-camera/entrance_camera_1/32fec42735354991bfa27ba47b2a1758\".\n",
            "* \"unsafeWorkersNum\", \"safeWorkersNum\", and \"indeterminateWorkersNum\" are related to the safety status of the image. Here's how they work:\n",
            "\t+ \"unsafeWorkersNum\": This property indicates the number of workers who have identified the image as unsafe. In this case, it's 1.\n",
            "\t+ \"safeWorkersNum\": This property indicates the number of workers who have identified the image as safe. In this case, it's 0.\n",
            "\t+ \"indeterminateWorkersNum\": This property indicates the number of workers who have not yet made a decision about the safety of the image. In this case, it's also 0.\n",
            "So, to summarize, the graph represents an entrance camera that made an observation on July 7, 2023 at 2:11 PM, resulting in an image with a confidence level of 99.99%. The image is stored in a repository and has a safety status determined by a number of workers.\n"
          ]
        }
      ]
    },
    {
      "cell_type": "code",
      "source": [
        "user_prompt2 = \"Summarize only the data in the following graph. \\n \\n\" + data_regexd\n",
        "system_prompt2 = \"You are a master in the field of knowledge graphs. You perfectly know turtle and you explain their contents using layman's terms.\"\n",
        "output = chat_answer(llm, system_prompt2, user_prompt2)\n",
        "print(output)"
      ],
      "metadata": {
        "colab": {
          "base_uri": "https://localhost:8080/"
        },
        "id": "pLJfG-lj_3YB",
        "outputId": "c604aa54-3c0e-46a2-8383-a9414302f426"
      },
      "execution_count": 51,
      "outputs": [
        {
          "output_type": "stream",
          "name": "stderr",
          "text": [
            "Llama.generate: prefix-match hit\n"
          ]
        },
        {
          "output_type": "stream",
          "name": "stdout",
          "text": [
            "  Sure, I'd be happy to summarize the data in the knowledge graph for you!\n",
            "The graph contains information about an entrance camera at a location. Here are the key points:\n",
            "* The camera is labeled \"entrance_camera_1\" and has an identifier of \"entrance_camera_1\".\n",
            "* The camera made an observation on July 7, 2023 at 14:11:08 UTC.\n",
            "* The observation has a result, which is a measure of the confidence in the observation (99.99137115478516%).\n",
            "* The camera also has an image associated with the observation.\n",
            "* The camera has 1 unsafe worker, 0 safe workers, and 0 indeterminate workers.\n",
            "* The camera's safety status is \"unsafe\".\n",
            "* The image associated with the observation has a repository path of \"osh-camera/entrance_camera_1/32fec42735354991bfa27ba47b2a1758\".\n",
            "That's the basic information contained in the graph! Let me know if you have any further questions.\n"
          ]
        }
      ]
    },
    {
      "cell_type": "markdown",
      "source": [
        "# Replacement with label"
      ],
      "metadata": {
        "id": "imVHp3RhFh0A"
      }
    },
    {
      "cell_type": "code",
      "source": [
        "!pip install rdflib"
      ],
      "metadata": {
        "colab": {
          "base_uri": "https://localhost:8080/"
        },
        "id": "m4HsIYE_BbPk",
        "outputId": "e11bb271-c746-4d80-d096-a0a8036733a7"
      },
      "execution_count": 54,
      "outputs": [
        {
          "output_type": "stream",
          "name": "stdout",
          "text": [
            "Collecting rdflib\n",
            "  Downloading rdflib-7.0.0-py3-none-any.whl (531 kB)\n",
            "\u001b[?25l     \u001b[90m━━━━━━━━━━━━━━━━━━━━━━━━━━━━━━━━━━━━━━━━\u001b[0m \u001b[32m0.0/531.9 kB\u001b[0m \u001b[31m?\u001b[0m eta \u001b[36m-:--:--\u001b[0m\r\u001b[2K     \u001b[91m━━━━━━━━\u001b[0m\u001b[90m╺\u001b[0m\u001b[90m━━━━━━━━━━━━━━━━━━━━━━━━━━━━━━━\u001b[0m \u001b[32m112.6/531.9 kB\u001b[0m \u001b[31m3.1 MB/s\u001b[0m eta \u001b[36m0:00:01\u001b[0m\r\u001b[2K     \u001b[90m━━━━━━━━━━━━━━━━━━━━━━━━━━━━━━━━━━━━━━━━\u001b[0m \u001b[32m531.9/531.9 kB\u001b[0m \u001b[31m8.9 MB/s\u001b[0m eta \u001b[36m0:00:00\u001b[0m\n",
            "\u001b[?25hCollecting isodate<0.7.0,>=0.6.0 (from rdflib)\n",
            "  Downloading isodate-0.6.1-py2.py3-none-any.whl (41 kB)\n",
            "\u001b[2K     \u001b[90m━━━━━━━━━━━━━━━━━━━━━━━━━━━━━━━━━━━━━━━━\u001b[0m \u001b[32m41.7/41.7 kB\u001b[0m \u001b[31m5.6 MB/s\u001b[0m eta \u001b[36m0:00:00\u001b[0m\n",
            "\u001b[?25hRequirement already satisfied: pyparsing<4,>=2.1.0 in /usr/local/lib/python3.10/dist-packages (from rdflib) (3.1.1)\n",
            "Requirement already satisfied: six in /usr/local/lib/python3.10/dist-packages (from isodate<0.7.0,>=0.6.0->rdflib) (1.16.0)\n",
            "Installing collected packages: isodate, rdflib\n",
            "Successfully installed isodate-0.6.1 rdflib-7.0.0\n"
          ]
        }
      ]
    },
    {
      "cell_type": "code",
      "source": [
        "from rdflib import Graph, Namespace, URIRef, Literal, BNode\n",
        "from rdflib.namespace import RDFS, RDF, OWL, XSD, SOSA"
      ],
      "metadata": {
        "id": "4LD-Q_UWBXz8"
      },
      "execution_count": 57,
      "outputs": []
    },
    {
      "cell_type": "code",
      "source": [
        "ontology = Graph()\n",
        "ontology.parse('pilot2.ttl', format='ttl')\n",
        "sosa = Graph()\n",
        "sosa.parse('sosa.ttl', format='ttl')"
      ],
      "metadata": {
        "colab": {
          "base_uri": "https://localhost:8080/"
        },
        "id": "N75U4KCQDsni",
        "outputId": "5f55cdb7-ffeb-44ab-993d-0ac18c4ecf0e"
      },
      "execution_count": 81,
      "outputs": [
        {
          "output_type": "execute_result",
          "data": {
            "text/plain": [
              "<Graph identifier=Nec27677b5b9d4555860cf6ef61194ab8 (<class 'rdflib.graph.Graph'>)>"
            ]
          },
          "metadata": {},
          "execution_count": 81
        }
      ]
    },
    {
      "cell_type": "code",
      "source": [
        "preprocess_mapping = {}\n",
        "for s, _, o in ontology.triples((None, RDFS.label, None)):\n",
        "    s = str(s)\n",
        "    if s == 'https://assist-iot.eu/ontologies/aiot_p2#':\n",
        "      continue\n",
        "    preprocess_mapping['<'+s+'>']=o\n",
        "for s, _, o in sosa.triples((None, RDFS.label, None)):\n",
        "    s = str(s)\n",
        "    preprocess_mapping['<'+s+'>']=o"
      ],
      "metadata": {
        "id": "YQCb9Bm1EDRr"
      },
      "execution_count": 85,
      "outputs": []
    },
    {
      "cell_type": "code",
      "source": [
        "x = data['cam']\n",
        "for key, val in preprocess_mapping.items():\n",
        "  x = x.replace(key, val)\n",
        "x = re.sub(\"<[^ ]*\\/([^ \\/]*)>\", \"\\g<1>\", x)"
      ],
      "metadata": {
        "id": "Qdhg0pPMByTz"
      },
      "execution_count": 95,
      "outputs": []
    },
    {
      "cell_type": "code",
      "source": [
        "print(x)"
      ],
      "metadata": {
        "colab": {
          "base_uri": "https://localhost:8080/"
        },
        "id": "_ZzprAqyFyUS",
        "outputId": "bf6be77b-8d6b-453c-f345-424614f91bdb"
      },
      "execution_count": 90,
      "outputs": [
        {
          "output_type": "stream",
          "name": "stdout",
          "text": [
            "\n",
            "entrance_camera_1 a Sensor;\n",
            "  made observation _:003;\n",
            "  identifier \"entrance_camera_1\" .\n",
            "\n",
            "_:003 a Observation;\n",
            "  has result _:000;\n",
            "  result time \"2023-07-07T14:11:08.675910\"^^XMLSchema#dateTime .\n",
            "\n",
            "_:000 a Camera result, Result;\n",
            "  Has confidence 99.99137115478516;\n",
            "  Has image _:001;\n",
            "  Number of unsafe workers 1;\n",
            "  Number of safe workers 0;\n",
            "  Number of workers whose safety cannot be determined 0;\n",
            "  aiot_p2#hasSafetyStatus Safety status – unsafe .\n",
            "\n",
            "_:001 a Image;\n",
            "  Has Semantic Repository path \"osh-camera/entrance_camera_1/32fec42735354991bfa27ba47b2a1758\" .\n",
            "\n"
          ]
        }
      ]
    },
    {
      "cell_type": "code",
      "source": [
        "user_prompt2 = \"Explain only the data in the following graph. \\n \\n\" + x\n",
        "system_prompt2 = \"You are a master in the field of knowledge graphs. You perfectly know turtle and you explain their contents using layman's terms.\"\n",
        "output = chat_answer(llm, system_prompt2, user_prompt2)\n",
        "print(output)"
      ],
      "metadata": {
        "colab": {
          "base_uri": "https://localhost:8080/"
        },
        "id": "YlPsNZmPJm8A",
        "outputId": "d2b5e711-ff09-4225-e0f6-c666ba6d1de6"
      },
      "execution_count": 92,
      "outputs": [
        {
          "output_type": "stream",
          "name": "stderr",
          "text": [
            "Llama.generate: prefix-match hit\n"
          ]
        },
        {
          "output_type": "stream",
          "name": "stdout",
          "text": [
            "  Sure, I'd be happy to explain the data in the knowledge graph!\n",
            "The graph contains several entities and relationships between them. Here's a breakdown of what each entity and relationship represents:\n",
            "Entities:\n",
            "* `entrance_camera_1`: This is the entrance camera, which is a sensor that makes observations.\n",
            "* `_:003`: This is an observation made by the entrance camera on a particular date and time.\n",
            "* `result`: This is the result of the observation, which is a value that represents the safety status of the workers in front of the camera.\n",
            "* `image`: This is an image associated with the observation.\n",
            "* `Safety status`: This is a property of the observation that indicates whether the workers in front of the camera are safe or not.\n",
            "Relationships:\n",
            "* `made observation`: This relationship connects the entrance camera (`entrance_camera_1`) to the observation `_:003`. It indicates that the entrance camera made the observation.\n",
            "* `has result`: This relationship connects the observation `_:003` to the result `Has confidence 99.99137115478516; Has image _:001; Number of unsafe workers 1; Number of safe workers 0; Number of workers whose safety cannot be determined 0`. It indicates that the observation has a result, which is represented by this set of values.\n",
            "* `Has confidence`: This relationship connects the result to the confidence level of the observation, which is 99.99137115478516.\n",
            "* `Has image`: This relationship connects the result to the image associated with the observation.\n",
            "* `Number of unsafe workers`: This relationship connects the result to the number of workers in front of the camera who are considered unsafe.\n",
            "* `Number of safe workers`: This relationship connects the result to the number of workers in front of the camera who are considered safe.\n",
            "* `Number of workers whose safety cannot be determined`: This relationship connects the result to the number of workers in front of the camera whose safety cannot be determined.\n",
            "In summary, this knowledge graph represents a single observation made by an entrance camera on a particular date and time, along with the results of that observation, including the confidence level, image associated with the observation, and the number of unsafe and safe workers detected by the camera.\n"
          ]
        }
      ]
    },
    {
      "cell_type": "code",
      "source": [
        "user_prompt2 = \"Summarize only the data in the following graph. \\n \\n\" + x\n",
        "system_prompt2 = \"You are a master in the field of knowledge graphs. You perfectly know turtle and you explain their contents using layman's terms.\"\n",
        "output = chat_answer(llm, system_prompt2, user_prompt2)\n",
        "print(output)"
      ],
      "metadata": {
        "colab": {
          "base_uri": "https://localhost:8080/"
        },
        "id": "WShtyoN9KOvo",
        "outputId": "7a2a9e31-1c1e-4bdd-eeb9-6d7b4138681a"
      },
      "execution_count": 93,
      "outputs": [
        {
          "output_type": "stream",
          "name": "stderr",
          "text": [
            "Llama.generate: prefix-match hit\n"
          ]
        },
        {
          "output_type": "stream",
          "name": "stdout",
          "text": [
            "  Sure, I'd be happy to summarize the data in the knowledge graph for you!\n",
            "The graph contains three nodes: \"entrance_camera_1\", \"observation\", and \"image\".\n",
            "* \"entrance_camera_1\" is a sensor node, which means it represents a device that senses or observes something in the environment.\n",
            "* \"observation\" is a node that represents an observation made by the \"entrance_camera_1\" sensor. This observation has a time stamp of \"2023-07-07T14:11:08.675910\" and indicates that something (likely a person or object) was observed at the entrance of the camera's field of view.\n",
            "* \"image\" is a node that represents an image associated with the observation. The image has a Semantic Repository path of \"osh-camera/entrance_camera_1/32fec42735354991bfa27ba47b2a1758\", which means it is stored in a repository called \"osh-camera\" and has a unique identifier of \"32fec42735354991bfa27ba47b2a1758\".\n",
            "The graph also contains three edges:\n",
            "* From \"entrance_camera_1\" to \"observation\", indicating that the observation was made by the entrance camera.\n",
            "* From \"observation\" to \"result\", indicating that the observation has a result (i.e., whether something is safe or unsafe).\n",
            "* From \"result\" to \"confidence\", indicating the level of confidence in the result (in this case, 99.99137115478516).\n",
            "Overall, the graph represents a single observation made by an entrance camera at a specific time, along with the image associated with that observation and some metadata about the observation itself (such as the level of confidence in the result).\n"
          ]
        }
      ]
    },
    {
      "cell_type": "code",
      "source": [
        "user_prompt2 = \"Summarize only the data of the following graph, in sentences only. \\n \\n\" + x\n",
        "system_prompt2 = \"You are a master in the field of knowledge graphs. You perfectly know turtle and you explain their contents using layman's terms.\"\n",
        "output = chat_answer(llm, system_prompt2, user_prompt2)\n",
        "print(output)"
      ],
      "metadata": {
        "colab": {
          "base_uri": "https://localhost:8080/"
        },
        "id": "g9Yo41oaK7Pn",
        "outputId": "ef7c2e98-ac17-4e8c-ddce-fd0929ceb0a5"
      },
      "execution_count": 94,
      "outputs": [
        {
          "output_type": "stream",
          "name": "stderr",
          "text": [
            "Llama.generate: prefix-match hit\n"
          ]
        },
        {
          "output_type": "stream",
          "name": "stdout",
          "text": [
            "  Sure, here is a summary of the data in the knowledge graph:\n",
            "* There is a sensor called \"entrance_camera_1\".\n",
            "* The sensor made an observation on July 7, 2023 at 2:11 PM (UTC) with result time \"2023-07-07T14:11:08.675910\"^^XMLSchema#dateTime.\n",
            "* The camera result has a confidence level of 99.99137115478516%.\n",
            "* The camera result has an image with ID \"entrance_camera_1/32fec42735354991bfa27ba47b2a1758\".\n",
            "* There are 1 unsafe worker.\n",
            "* There are 0 safe worker.\n",
            "* There are 0 worker whose safety cannot be determined.\n",
            "* The camera has a Safety status - unsafe.\n"
          ]
        }
      ]
    },
    {
      "cell_type": "markdown",
      "source": [
        "# Same but with comments?"
      ],
      "metadata": {
        "id": "RXxRCFKvLy1K"
      }
    },
    {
      "cell_type": "code",
      "source": [
        "preprocess_mapping2 = {}\n",
        "for s, _, o in ontology.triples((None, RDFS.comment, None)):\n",
        "    s = str(s)\n",
        "    if s == 'https://assist-iot.eu/ontologies/aiot_p2#':\n",
        "      continue\n",
        "    preprocess_mapping2['<'+s+'>']=o\n",
        "for s, _, o in sosa.triples((None, RDFS.comment, None)):\n",
        "    s = str(s)\n",
        "    preprocess_mapping2['<'+s+'>']=o\n",
        "\n",
        "x = data['cam']\n",
        "for key, val in preprocess_mapping2.items():\n",
        "  x = x.replace(key, val)\n",
        "x = re.sub(\"<[^ ]*\\/([^ \\/]*)>\", \"\\g<1>\", x)\n",
        "print(x)"
      ],
      "metadata": {
        "colab": {
          "base_uri": "https://localhost:8080/"
        },
        "id": "6m6cZBLFLG4E",
        "outputId": "79b833e0-cb54-4a62-8ad4-fd6aa13139af"
      },
      "execution_count": 97,
      "outputs": [
        {
          "output_type": "stream",
          "name": "stdout",
          "text": [
            "\n",
            "entrance_camera_1 a Device, agent (including humans), or software (simulation) involved in, or implementing, a Procedure. Sensors respond to a stimulus, e.g., a change in the environment, or input data composed from the results of prior Observations, and generate a Result. Sensors can be hosted by Platforms.;\n",
            "  Relation between a Sensor and an Observation made by the Sensor. _:003;\n",
            "  identifier \"entrance_camera_1\" .\n",
            "\n",
            "_:003 a Act of carrying out an (Observation) Procedure to estimate or calculate a value of a property of a FeatureOfInterest. Links to a Sensor to describe what made the Observation and how; links to an ObservableProperty to describe what the result is an estimate of, and to a FeatureOfInterest to detail what that property was associated with.;\n",
            "  Relation linking an Observation or Actuation or act of Sampling and a Result or Sample. _:000;\n",
            "  The result time is the instant of time when the Observation, Actuation or Sampling activity was completed. \"2023-07-07T14:11:08.675910\"^^XMLSchema#dateTime .\n",
            "\n",
            "_:000 a Result of an observation from a camera on the construction site., The Result of an Observation, Actuation, or act of Sampling. To store an observation's simple result value one can use the hasSimpleResult property.;\n",
            "  Indicates the confidence of the method (e.g., a machine learning model) that made the decision 99.99137115478516;\n",
            "  aiot_p2#hasImage _:001;\n",
            "  aiot_p2#unsafeWorkersNum 1;\n",
            "  aiot_p2#safeWorkersNum 0;\n",
            "  aiot_p2#indeterminateWorkersNum 0;\n",
            "  aiot_p2#hasSafetyStatus At least one worker in the group is not safe. .\n",
            "\n",
            "_:001 a Image stored in the Semantic Repository. Use the hasRepoPath property to indicate where to find the image.;\n",
            "  Full path to the object in the Semantic Repository. Format should be \"namespace/model/version\". \"osh-camera/entrance_camera_1/32fec42735354991bfa27ba47b2a1758\" .\n",
            "\n"
          ]
        }
      ]
    },
    {
      "cell_type": "code",
      "source": [
        "user_prompt2 = \"Summarize only the data of the following graph, in sentences only. \\n \\n\" + x\n",
        "system_prompt2 = \"You are a master in the field of knowledge graphs. You perfectly know turtle and you explain their contents using layman's terms.\"\n",
        "output = chat_answer(llm, system_prompt2, user_prompt2)\n",
        "print(output)"
      ],
      "metadata": {
        "colab": {
          "base_uri": "https://localhost:8080/"
        },
        "id": "9dSIcoseMFCl",
        "outputId": "f257e2fc-908a-4b20-e1fd-2b98694cb046"
      },
      "execution_count": 98,
      "outputs": [
        {
          "output_type": "stream",
          "name": "stderr",
          "text": [
            "Llama.generate: prefix-match hit\n"
          ]
        },
        {
          "output_type": "stream",
          "name": "stdout",
          "text": [
            "  Sure, here's a summary of the knowledge graph in simple terms:\n",
            "* The graph describes a construction site with various devices, agents (including humans), and software involved in carrying out procedures.\n",
            "* Sensors respond to stimuli and generate results, which can be estimated or calculated values of properties of features of interest.\n",
            "* Observations, actuations, or sampling activities are linked to results or samples, and the result time is the instant when the activity was completed.\n",
            "* The graph also includes information about the confidence of the methods that made decisions, as well as the number of safe, unsafe, and indeterminate workers on the construction site.\n",
            "* An image stored in the Semantic Repository is also mentioned, with a full path format of \"namespace/model/version\".\n"
          ]
        }
      ]
    },
    {
      "cell_type": "code",
      "source": [
        "user_prompt2 = \"Summarize only the data of the following graph, in sentences only. Focus on the values at the end of each line. \\n \\n\" + x\n",
        "system_prompt2 = \"You are a master in the field of knowledge graphs. You perfectly know turtle and you explain their contents using layman's terms.\"\n",
        "output = chat_answer(llm, system_prompt2, user_prompt2)\n",
        "print(output)"
      ],
      "metadata": {
        "colab": {
          "base_uri": "https://localhost:8080/"
        },
        "id": "ow4PxSn3MTvq",
        "outputId": "857d71e4-d63e-4e02-d00f-b0af2f5c4167"
      },
      "execution_count": 99,
      "outputs": [
        {
          "output_type": "stream",
          "name": "stderr",
          "text": [
            "Llama.generate: prefix-match hit\n"
          ]
        },
        {
          "output_type": "stream",
          "name": "stdout",
          "text": [
            "  Sure! Here's a summary of the data in the graph:\n",
            "* The entrance camera 1 is a device, agent (including humans), or software involved in or implementing a procedure.\n",
            "* Sensors respond to stimuli and generate results, which can be hosted by platforms.\n",
            "* An observation is an act of carrying out a procedure to estimate or calculate a value of a property of a feature of interest. Observations are linked to sensors that made them and to observable properties that describe what the result is an estimate of.\n",
            "* The result time is the instant of time when the observation, actuation, or sampling activity was completed.\n",
            "* A result is a simple result value stored using the hasSimpleResult property.\n",
            "* The confidence of the method (e.g., a machine learning model) that made the decision is 99.99137115478516.\n",
            "* aiot_p2#hasImage indicates that there is an image stored in the semantic repository.\n",
            "* aiot_p2#unsafeWorkersNum, aiot_p2#safeWorkersNum, and aiot_p2#indeterminateWorkersNum indicate the number of workers in the group who are not safe, safe, or indeterminate, respectively.\n",
            "* aiot_p2#repoPath is a full path to the object in the semantic repository, format \"namespace/model/version\".\n"
          ]
        }
      ]
    },
    {
      "cell_type": "code",
      "source": [
        "user_prompt2 = \"Summarize only the data of the following graph, in sentences only. Focus as much as possible on the values at the end of each line. \\n \\n\" + x\n",
        "system_prompt2 = \"You are a master in the field of knowledge graphs. You perfectly know turtle and you explain their contents using layman's terms.\"\n",
        "output = chat_answer(llm, system_prompt2, user_prompt2)\n",
        "print(output)"
      ],
      "metadata": {
        "colab": {
          "base_uri": "https://localhost:8080/"
        },
        "id": "ICvZPAzKMvEC",
        "outputId": "1993e89d-3832-4294-f2ba-7f80a3770aff"
      },
      "execution_count": 122,
      "outputs": [
        {
          "output_type": "stream",
          "name": "stderr",
          "text": [
            "Llama.generate: prefix-match hit\n"
          ]
        },
        {
          "output_type": "stream",
          "name": "stdout",
          "text": [
            "  Sure, here is a summary of the data in the graph:\n",
            "* The entrance camera 1 is a device or software involved in a procedure.\n",
            "* Sensors respond to stimuli and generate results, which can be hosted by platforms.\n",
            "* An observation is made by carrying out a procedure to estimate or calculate a value of a property of a feature of interest. Links are made to sensors, observable properties, and features of interest.\n",
            "* The result time is the instant when the observation, actuation, or sampling activity was completed (July 7, 2023, at 14:11:08 UTC).\n",
            "* The result of an observation is a value stored using the hasSimpleResult property.\n",
            "* The confidence of the method that made the decision is 99.99137115478516%.\n",
            "* The aiot_p2#hasImage property indicates that there is an image associated with this object, and the aiot_p2#unsafeWorkersNum, aiot_p2#safeWorkersNum, and aiot_p2#indeterminateWorkersNum properties indicate the number of workers in the group who are not safe.\n",
            "* The full path to the image in the Semantic Repository is \"osh-camera/entrance_camera_1/32fec42735354991bfa27ba47b2a1758\".\n"
          ]
        }
      ]
    },
    {
      "cell_type": "code",
      "source": [
        "user_prompt2 = \"Summarize only the data of the following graph, in sentences only. Focus summary as much as possible on the values at the end of each line. \\n \\n\" + x\n",
        "system_prompt2 = \"You are a master in the field of knowledge graphs. You perfectly know turtle and you explain their contents using layman's terms.\"\n",
        "output = chat_answer(llm, system_prompt2, user_prompt2, temperature=0.8)\n",
        "print(output)"
      ],
      "metadata": {
        "colab": {
          "base_uri": "https://localhost:8080/"
        },
        "id": "LZwAYWc0Qme2",
        "outputId": "757a5823-d706-42bc-efb8-38ae44061653"
      },
      "execution_count": 123,
      "outputs": [
        {
          "output_type": "stream",
          "name": "stderr",
          "text": [
            "Llama.generate: prefix-match hit\n"
          ]
        },
        {
          "output_type": "stream",
          "name": "stdout",
          "text": [
            "  Sure, here is a summary of the data in the graph:\n",
            "* The entrance camera 1 is a device or software involved in a procedure.\n",
            "* Sensors respond to stimuli and generate results.\n",
            "* An observation was made by the sensor on July 7, 2023 at 14:11:08 UTC, with a result of a value associated with a feature of interest.\n",
            "* The result time is July 7, 2023 at 14:11:08 UTC.\n",
            "* The confidence of the method that made the decision is 99.99137115478516%.\n",
            "* An image associated with the observation is stored in the Semantic Repository with a full path of \"osh-camera/entrance_camera_1/32fec42735354991bfa27ba47b2a1758\".\n",
            "* The number of unsafe workers in the group is 1, and the number of safe workers is 0.\n",
            "* At least one worker in the group is not safe.\n"
          ]
        }
      ]
    },
    {
      "cell_type": "code",
      "source": [
        "user_prompt2 = \"Summarize only the data of the following graph, in sentences only. Focus summary as much as possible on the values at the end of each line. \\n \\n\" + x\n",
        "system_prompt2 = \"You are a master in the field of knowledge graphs. You perfectly know turtle and you explain their contents using layman's terms.\"\n",
        "output = chat_answer(llm, system_prompt2, user_prompt2, temperature=0.6)\n",
        "print(output)"
      ],
      "metadata": {
        "colab": {
          "base_uri": "https://localhost:8080/"
        },
        "id": "W9EQJnTrRU5g",
        "outputId": "6c897cfe-351b-464a-d24f-4a5264d02c00"
      },
      "execution_count": 126,
      "outputs": [
        {
          "output_type": "stream",
          "name": "stderr",
          "text": [
            "Llama.generate: prefix-match hit\n"
          ]
        },
        {
          "output_type": "stream",
          "name": "stdout",
          "text": [
            "  Sure! Here's a summary of the data in the Knowledge Graph, focusing on the values at the end of each line:\n",
            "* `entrance_camera_1` is an agent (including humans), device, or software involved in or implementing a procedure.\n",
            "* In `entrance_camera_1`, sensors respond to stimuli and generate results.\n",
            "* The result of an observation made by `entrance_camera_1` is a value estimated or calculated for a property of a feature of interest.\n",
            "* The result time of the observation is `2023-07-07T14:11:08.675910`.\n",
            "* `aiot_p2` has a hasImage property set to `_:001`.\n",
            "* `aiot_p2` has an unsafe workers number of 1, a safe workers number of 0, and an indeterminate workers number of 0.\n",
            "* `aiot_p2` has a hasSafetyStatus property set to \"At least one worker in the group is not safe\".\n",
            "* The image stored in the Semantic Repository for `aiot_p2` can be found at `osh-camera/entrance_camera_1/32fec42735354991bfa27ba47b2a1758`.\n"
          ]
        }
      ]
    },
    {
      "cell_type": "code",
      "source": [
        "user_prompt2 = \"Summarize only the data of the following graph, in sentences only. Focus summary as much as possible on the values at the end of each line. \\n \\n\" + x\n",
        "system_prompt2 = \"You are a master in the field of knowledge graphs. You perfectly know turtle and you explain their contents using layman's terms.\"\n",
        "output = chat_answer(llm, system_prompt2, user_prompt2, temperature=1.0)\n",
        "print(output)"
      ],
      "metadata": {
        "colab": {
          "base_uri": "https://localhost:8080/"
        },
        "id": "W71_8C7KRxMx",
        "outputId": "4b0e1219-9e55-4380-ed11-b737bdc22087"
      },
      "execution_count": 127,
      "outputs": [
        {
          "output_type": "stream",
          "name": "stderr",
          "text": [
            "Llama.generate: prefix-match hit\n"
          ]
        },
        {
          "output_type": "stream",
          "name": "stdout",
          "text": [
            "  Sure, here is a summary of the data in the provided Knowledge Graph:\n",
            "* There is an entrance camera called \"entrance_camera_1\" that is involved in or implementing a procedure.\n",
            "* The sensor associated with entrance camera 1 responds to stimuli and generates results.\n",
            "* An observation was made on July 7, 2023 at 14:11:08.675910 by the entrance camera, and the result is a value of 99.99137115478516 with a confidence level of 99.99137115478516.\n",
            "* The image associated with the observation is stored in the Semantic Repository under the path \"osh-camera/entrance_camera_1/32fec42735354991bfa27ba47b2a1758\".\n",
            "* There are 1 unsafe worker, 0 safe workers, and 0 indeterminate workers in the group associated with the entrance camera.\n",
            "* The hasRepoPath property is set to \"osh-camera/entrance_camera_1/32fec42735354991bfa27ba47b2a1758\" for the image associated with the observation.\n"
          ]
        }
      ]
    },
    {
      "cell_type": "markdown",
      "source": [
        "# triples"
      ],
      "metadata": {
        "id": "BW3xX0P2ODZC"
      }
    },
    {
      "cell_type": "code",
      "source": [
        "cam_3596 = Graph()\n",
        "cam_3596.parse(cam, format='ttl')\n",
        "ntriples = cam_3596.serialize(format=\"ntriples\")\n",
        "preprocess_mapping2 = {}\n",
        "\n",
        "for s, _, o in ontology.triples((None, RDFS.label, None)):\n",
        "    s = str(s)\n",
        "    if s == 'https://assist-iot.eu/ontologies/aiot_p2#':\n",
        "      continue\n",
        "    preprocess_mapping2['<'+s+'>']=o\n",
        "for s, _, o in sosa.triples((None, RDFS.label, None)):\n",
        "    s = str(s)\n",
        "    preprocess_mapping2['<'+s+'>']=o\n",
        "\n",
        "for key, val in preprocess_mapping2.items():\n",
        "  ntriples = ntriples.replace(key, val)\n",
        "ntriples = re.sub(\"<[^ ]*\\/([^ \\/]*)>\", \"\\g<1>\", ntriples)\n",
        "print(ntriples)"
      ],
      "metadata": {
        "colab": {
          "base_uri": "https://localhost:8080/"
        },
        "id": "N7x9haKhPBTI",
        "outputId": "2a96b33e-100f-4f96-fb57-e48697313c18"
      },
      "execution_count": 121,
      "outputs": [
        {
          "output_type": "stream",
          "name": "stdout",
          "text": [
            "_:n476e8a83c5e949e7913aa9b8eef5b307b1 has result _:n476e8a83c5e949e7913aa9b8eef5b307b2 .\n",
            "_:n476e8a83c5e949e7913aa9b8eef5b307b2 22-rdf-syntax-ns#type Camera result .\n",
            "_:n476e8a83c5e949e7913aa9b8eef5b307b2 Has image _:n476e8a83c5e949e7913aa9b8eef5b307b3 .\n",
            "_:n476e8a83c5e949e7913aa9b8eef5b307b2 Has confidence \"99.99137115478516\"^^XMLSchema#decimal .\n",
            "_:n476e8a83c5e949e7913aa9b8eef5b307b1 22-rdf-syntax-ns#type Observation .\n",
            "_:n476e8a83c5e949e7913aa9b8eef5b307b3 22-rdf-syntax-ns#type Image .\n",
            "_:n476e8a83c5e949e7913aa9b8eef5b307b1 result time \"2023-07-07T14:11:08.675910\"^^XMLSchema#dateTime .\n",
            "entrance_camera_1 22-rdf-syntax-ns#type Sensor .\n",
            "_:n476e8a83c5e949e7913aa9b8eef5b307b2 Number of safe workers \"0\"^^XMLSchema#integer .\n",
            "entrance_camera_1 identifier \"entrance_camera_1\" .\n",
            "entrance_camera_1 made observation _:n476e8a83c5e949e7913aa9b8eef5b307b1 .\n",
            "_:n476e8a83c5e949e7913aa9b8eef5b307b3 Has Semantic Repository path \"osh-camera/entrance_camera_1/32fec42735354991bfa27ba47b2a1758\" .\n",
            "_:n476e8a83c5e949e7913aa9b8eef5b307b2 22-rdf-syntax-ns#type Result .\n",
            "_:n476e8a83c5e949e7913aa9b8eef5b307b2 Number of unsafe workers \"1\"^^XMLSchema#integer .\n",
            "_:n476e8a83c5e949e7913aa9b8eef5b307b2 aiot_p2#hasSafetyStatus Safety status – unsafe .\n",
            "_:n476e8a83c5e949e7913aa9b8eef5b307b2 Number of workers whose safety cannot be determined \"0\"^^XMLSchema#integer .\n",
            "\n"
          ]
        }
      ]
    },
    {
      "cell_type": "code",
      "source": [
        "user_prompt2 = \"Summarize only the data of the following graph, in sentences only. Focus summary as much as possible on the values at the end of each line. \\n \\n\" + ntriples\n",
        "system_prompt2 = \"You are a master in the field of knowledge graphs. You perfectly know turtle and you explain their contents using layman's terms.\"\n",
        "output = chat_answer(llm, system_prompt2, user_prompt2)\n",
        "print(output)"
      ],
      "metadata": {
        "colab": {
          "base_uri": "https://localhost:8080/"
        },
        "id": "evvhUhreQrAP",
        "outputId": "a39a27b6-761c-44e7-8826-33ac5c6ee539"
      },
      "execution_count": 124,
      "outputs": [
        {
          "output_type": "stream",
          "name": "stderr",
          "text": [
            "Llama.generate: prefix-match hit\n"
          ]
        },
        {
          "output_type": "stream",
          "name": "stdout",
          "text": [
            "  Sure, here is a summary of the data in the graph:\n",
            "* _:n476e8a83c5e949e7913aa9b8eef5b307b1 has result _:n476e8a83c5e949e7913aa9b8eef5b307b2.\n",
            "* _:n476e8a83c5e949e7913aa9b8eef5b307b2 is a Camera with result type \"Result\".\n",
            "* _:n476e8a83c5e949e7913aa9b8eef5b307b3 is an Image with result type \"Image\".\n",
            "* _:n476e8a83c5e949e7913aa9b8eef5b307b1 has a time stamp of \"2023-07-07T14:11:08.675910\" and confidence level of \"99.99137115478516\".\n",
            "* Entrance camera 1 is a Sensor with no unsafe workers, made an observation of _:n476e8a83c5e949e7913aa9b8eef5b307b1.\n",
            "* _:n476e8a83c5e949e7913aa9b8eef5b307b2 has a Semantic Repository path of \"osh-camera/entrance_camera_1/32fec42735354991bfa27ba47b2a1758\".\n",
            "* _:n476e8a83c5e949e7913aa9b8eef5b307b2 has a number of unsafe workers of \"1\" and a number of workers whose safety cannot be determined of \"0\".\n"
          ]
        }
      ]
    }
  ]
}