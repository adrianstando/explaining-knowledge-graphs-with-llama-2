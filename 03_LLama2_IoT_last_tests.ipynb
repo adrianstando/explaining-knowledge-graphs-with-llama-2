{
  "nbformat": 4,
  "nbformat_minor": 0,
  "metadata": {
    "colab": {
      "provenance": [],
      "gpuType": "T4"
    },
    "kernelspec": {
      "name": "python3",
      "display_name": "Python 3"
    },
    "language_info": {
      "name": "python"
    },
    "accelerator": "GPU"
  },
  "cells": [
    {
      "cell_type": "code",
      "execution_count": 1,
      "metadata": {
        "id": "0f5dCd2jxakz",
        "colab": {
          "base_uri": "https://localhost:8080/"
        },
        "outputId": "e1457e1e-7758-4bbb-ed98-ff5f836bc2c9"
      },
      "outputs": [
        {
          "output_type": "stream",
          "name": "stdout",
          "text": [
            "Collecting llama-cpp-python\n",
            "  Downloading llama_cpp_python-0.2.28.tar.gz (9.4 MB)\n",
            "\u001b[2K     \u001b[90m━━━━━━━━━━━━━━━━━━━━━━━━━━━━━━━━━━━━━━━━\u001b[0m \u001b[32m9.4/9.4 MB\u001b[0m \u001b[31m40.0 MB/s\u001b[0m eta \u001b[36m0:00:00\u001b[0m\n",
            "\u001b[?25h  Installing build dependencies ... \u001b[?25l\u001b[?25hdone\n",
            "  Getting requirements to build wheel ... \u001b[?25l\u001b[?25hdone\n",
            "  Installing backend dependencies ... \u001b[?25l\u001b[?25hdone\n",
            "  Preparing metadata (pyproject.toml) ... \u001b[?25l\u001b[?25hdone\n",
            "Requirement already satisfied: typing-extensions>=4.5.0 in /usr/local/lib/python3.10/dist-packages (from llama-cpp-python) (4.5.0)\n",
            "Requirement already satisfied: numpy>=1.20.0 in /usr/local/lib/python3.10/dist-packages (from llama-cpp-python) (1.23.5)\n",
            "Requirement already satisfied: diskcache>=5.6.1 in /usr/local/lib/python3.10/dist-packages (from llama-cpp-python) (5.6.3)\n",
            "Building wheels for collected packages: llama-cpp-python\n",
            "  Building wheel for llama-cpp-python (pyproject.toml) ... \u001b[?25l\u001b[?25hdone\n",
            "  Created wheel for llama-cpp-python: filename=llama_cpp_python-0.2.28-cp310-cp310-manylinux_2_35_x86_64.whl size=8778922 sha256=a6730672dc83afe4fb48c72230d82f10b8f01c2ce770e747000f304e7939517c\n",
            "  Stored in directory: /root/.cache/pip/wheels/93/6e/a9/478cce089dc2a082bdcffe468a1c65465c91b25d911b30da82\n",
            "Successfully built llama-cpp-python\n",
            "Installing collected packages: llama-cpp-python\n",
            "Successfully installed llama-cpp-python-0.2.28\n",
            "--2024-01-12 09:28:33--  https://huggingface.co/TheBloke/Llama-2-7B-Chat-GGUF/resolve/main/llama-2-7b-chat.Q4_K_M.gguf?download=true\n",
            "Resolving huggingface.co (huggingface.co)... 13.224.250.95, 13.224.250.24, 13.224.250.70, ...\n",
            "Connecting to huggingface.co (huggingface.co)|13.224.250.95|:443... connected.\n",
            "HTTP request sent, awaiting response... 302 Found\n",
            "Location: https://cdn-lfs.huggingface.co/repos/b0/ca/b0cae82fd4b3a362cab01d17953c45edac67d1c2dfb9fbb9e69c80c32dc2012e/08a5566d61d7cb6b420c3e4387a39e0078e1f2fe5f055f3a03887385304d4bfa?response-content-disposition=attachment%3B+filename*%3DUTF-8%27%27llama-2-7b-chat.Q4_K_M.gguf%3B+filename%3D%22llama-2-7b-chat.Q4_K_M.gguf%22%3B&Expires=1705310913&Policy=eyJTdGF0ZW1lbnQiOlt7IkNvbmRpdGlvbiI6eyJEYXRlTGVzc1RoYW4iOnsiQVdTOkVwb2NoVGltZSI6MTcwNTMxMDkxM319LCJSZXNvdXJjZSI6Imh0dHBzOi8vY2RuLWxmcy5odWdnaW5nZmFjZS5jby9yZXBvcy9iMC9jYS9iMGNhZTgyZmQ0YjNhMzYyY2FiMDFkMTc5NTNjNDVlZGFjNjdkMWMyZGZiOWZiYjllNjljODBjMzJkYzIwMTJlLzA4YTU1NjZkNjFkN2NiNmI0MjBjM2U0Mzg3YTM5ZTAwNzhlMWYyZmU1ZjA1NWYzYTAzODg3Mzg1MzA0ZDRiZmE%7EcmVzcG9uc2UtY29udGVudC1kaXNwb3NpdGlvbj0qIn1dfQ__&Signature=g%7Ex7vqOy4SgsJRJqCLh0iTRDdCMStJnBByd20TMbbLteHuNXOC4qzGsUblj7OZ-P8xlK0G5XDigZjFqriXyPi%7EwFhe46Yp0-3TvphqOF0sGRbhVUOz35MD3loAts4ZgaPg3LBnK1J2-jIvnWpUBhThM-pNMyAOxweX112CsCjES95J-YBzYh23t7BIz0X2gffw1ALwbY4vLKBBtpYNyLRXxTENWGWfUZv1GDynjhG1k3qDXXxmfh2zWbhXoiJ07Pr8Lu%7EFwl2q%7EWTnVQfBcTzhiw9FeBojEuGfagugKAX5OKFrIx8LAjCZ2ZDFJsJgBJOzbG%7EsYnHuVrI0R5pV%7E1Mw__&Key-Pair-Id=KVTP0A1DKRTAX [following]\n",
            "--2024-01-12 09:28:33--  https://cdn-lfs.huggingface.co/repos/b0/ca/b0cae82fd4b3a362cab01d17953c45edac67d1c2dfb9fbb9e69c80c32dc2012e/08a5566d61d7cb6b420c3e4387a39e0078e1f2fe5f055f3a03887385304d4bfa?response-content-disposition=attachment%3B+filename*%3DUTF-8%27%27llama-2-7b-chat.Q4_K_M.gguf%3B+filename%3D%22llama-2-7b-chat.Q4_K_M.gguf%22%3B&Expires=1705310913&Policy=eyJTdGF0ZW1lbnQiOlt7IkNvbmRpdGlvbiI6eyJEYXRlTGVzc1RoYW4iOnsiQVdTOkVwb2NoVGltZSI6MTcwNTMxMDkxM319LCJSZXNvdXJjZSI6Imh0dHBzOi8vY2RuLWxmcy5odWdnaW5nZmFjZS5jby9yZXBvcy9iMC9jYS9iMGNhZTgyZmQ0YjNhMzYyY2FiMDFkMTc5NTNjNDVlZGFjNjdkMWMyZGZiOWZiYjllNjljODBjMzJkYzIwMTJlLzA4YTU1NjZkNjFkN2NiNmI0MjBjM2U0Mzg3YTM5ZTAwNzhlMWYyZmU1ZjA1NWYzYTAzODg3Mzg1MzA0ZDRiZmE%7EcmVzcG9uc2UtY29udGVudC1kaXNwb3NpdGlvbj0qIn1dfQ__&Signature=g%7Ex7vqOy4SgsJRJqCLh0iTRDdCMStJnBByd20TMbbLteHuNXOC4qzGsUblj7OZ-P8xlK0G5XDigZjFqriXyPi%7EwFhe46Yp0-3TvphqOF0sGRbhVUOz35MD3loAts4ZgaPg3LBnK1J2-jIvnWpUBhThM-pNMyAOxweX112CsCjES95J-YBzYh23t7BIz0X2gffw1ALwbY4vLKBBtpYNyLRXxTENWGWfUZv1GDynjhG1k3qDXXxmfh2zWbhXoiJ07Pr8Lu%7EFwl2q%7EWTnVQfBcTzhiw9FeBojEuGfagugKAX5OKFrIx8LAjCZ2ZDFJsJgBJOzbG%7EsYnHuVrI0R5pV%7E1Mw__&Key-Pair-Id=KVTP0A1DKRTAX\n",
            "Resolving cdn-lfs.huggingface.co (cdn-lfs.huggingface.co)... 18.155.68.128, 18.155.68.94, 18.155.68.73, ...\n",
            "Connecting to cdn-lfs.huggingface.co (cdn-lfs.huggingface.co)|18.155.68.128|:443... connected.\n",
            "HTTP request sent, awaiting response... 200 OK\n",
            "Length: 4081004224 (3.8G) [binary/octet-stream]\n",
            "Saving to: ‘llama-2-7b-chat.Q4_K_M.gguf?download=true’\n",
            "\n",
            "llama-2-7b-chat.Q4_ 100%[===================>]   3.80G   173MB/s    in 30s     \n",
            "\n",
            "2024-01-12 09:29:03 (131 MB/s) - ‘llama-2-7b-chat.Q4_K_M.gguf?download=true’ saved [4081004224/4081004224]\n",
            "\n",
            "--2024-01-12 09:29:03--  https://huggingface.co/TheBloke/Llama-2-7B-Chat-GGUF/resolve/main/llama-2-7b-chat.Q8_0.gguf?download=true\n",
            "Resolving huggingface.co (huggingface.co)... 13.224.250.123, 13.224.250.70, 13.224.250.24, ...\n",
            "Connecting to huggingface.co (huggingface.co)|13.224.250.123|:443... connected.\n",
            "HTTP request sent, awaiting response... 302 Found\n",
            "Location: https://cdn-lfs.huggingface.co/repos/b0/ca/b0cae82fd4b3a362cab01d17953c45edac67d1c2dfb9fbb9e69c80c32dc2012e/f47dade5e86466edb66c5afe6f8e9fb1fbb2c292827b90bd46b7a1817d864bf2?response-content-disposition=attachment%3B+filename*%3DUTF-8%27%27llama-2-7b-chat.Q8_0.gguf%3B+filename%3D%22llama-2-7b-chat.Q8_0.gguf%22%3B&Expires=1705310943&Policy=eyJTdGF0ZW1lbnQiOlt7IkNvbmRpdGlvbiI6eyJEYXRlTGVzc1RoYW4iOnsiQVdTOkVwb2NoVGltZSI6MTcwNTMxMDk0M319LCJSZXNvdXJjZSI6Imh0dHBzOi8vY2RuLWxmcy5odWdnaW5nZmFjZS5jby9yZXBvcy9iMC9jYS9iMGNhZTgyZmQ0YjNhMzYyY2FiMDFkMTc5NTNjNDVlZGFjNjdkMWMyZGZiOWZiYjllNjljODBjMzJkYzIwMTJlL2Y0N2RhZGU1ZTg2NDY2ZWRiNjZjNWFmZTZmOGU5ZmIxZmJiMmMyOTI4MjdiOTBiZDQ2YjdhMTgxN2Q4NjRiZjI%7EcmVzcG9uc2UtY29udGVudC1kaXNwb3NpdGlvbj0qIn1dfQ__&Signature=pWFXvAqLmAqvJorMfvO2--5RRWM4PQRIt0cnABuYx5OaRE0eeYjOkKSs%7E9z8RyxK6nsGhmtWFby30OCNTkFs5PYjZcGBTyF2Z5RJJhCf1gpLbmqd-7TEHs7JgLS-J7k6tMcX9YDaznDBx2wMzBcxVksdr7Pwsgyw9P8ycR6drG9jX6Hj3ejXKr-kmoDIbHxQA52Q1P4Xub%7EHNiR-7LXrfqoXreOgRbtgAiBbfw4mltXO4X-khiGkvunfwwb90wnh89kuiiHNwOj3plNLJvPxuOHTojo2ScB2Jns4P1we1Ua%7E7aAxyhcU2V4qQeLapkIYRt3f-nxgJ2l%7EWE4oyeDgag__&Key-Pair-Id=KVTP0A1DKRTAX [following]\n",
            "--2024-01-12 09:29:03--  https://cdn-lfs.huggingface.co/repos/b0/ca/b0cae82fd4b3a362cab01d17953c45edac67d1c2dfb9fbb9e69c80c32dc2012e/f47dade5e86466edb66c5afe6f8e9fb1fbb2c292827b90bd46b7a1817d864bf2?response-content-disposition=attachment%3B+filename*%3DUTF-8%27%27llama-2-7b-chat.Q8_0.gguf%3B+filename%3D%22llama-2-7b-chat.Q8_0.gguf%22%3B&Expires=1705310943&Policy=eyJTdGF0ZW1lbnQiOlt7IkNvbmRpdGlvbiI6eyJEYXRlTGVzc1RoYW4iOnsiQVdTOkVwb2NoVGltZSI6MTcwNTMxMDk0M319LCJSZXNvdXJjZSI6Imh0dHBzOi8vY2RuLWxmcy5odWdnaW5nZmFjZS5jby9yZXBvcy9iMC9jYS9iMGNhZTgyZmQ0YjNhMzYyY2FiMDFkMTc5NTNjNDVlZGFjNjdkMWMyZGZiOWZiYjllNjljODBjMzJkYzIwMTJlL2Y0N2RhZGU1ZTg2NDY2ZWRiNjZjNWFmZTZmOGU5ZmIxZmJiMmMyOTI4MjdiOTBiZDQ2YjdhMTgxN2Q4NjRiZjI%7EcmVzcG9uc2UtY29udGVudC1kaXNwb3NpdGlvbj0qIn1dfQ__&Signature=pWFXvAqLmAqvJorMfvO2--5RRWM4PQRIt0cnABuYx5OaRE0eeYjOkKSs%7E9z8RyxK6nsGhmtWFby30OCNTkFs5PYjZcGBTyF2Z5RJJhCf1gpLbmqd-7TEHs7JgLS-J7k6tMcX9YDaznDBx2wMzBcxVksdr7Pwsgyw9P8ycR6drG9jX6Hj3ejXKr-kmoDIbHxQA52Q1P4Xub%7EHNiR-7LXrfqoXreOgRbtgAiBbfw4mltXO4X-khiGkvunfwwb90wnh89kuiiHNwOj3plNLJvPxuOHTojo2ScB2Jns4P1we1Ua%7E7aAxyhcU2V4qQeLapkIYRt3f-nxgJ2l%7EWE4oyeDgag__&Key-Pair-Id=KVTP0A1DKRTAX\n",
            "Resolving cdn-lfs.huggingface.co (cdn-lfs.huggingface.co)... 18.155.68.98, 18.155.68.128, 18.155.68.73, ...\n",
            "Connecting to cdn-lfs.huggingface.co (cdn-lfs.huggingface.co)|18.155.68.98|:443... connected.\n",
            "HTTP request sent, awaiting response... 200 OK\n",
            "Length: 7161089728 (6.7G) [binary/octet-stream]\n",
            "Saving to: ‘llama-2-7b-chat.Q8_0.gguf?download=true’\n",
            "\n",
            "llama-2-7b-chat.Q8_ 100%[===================>]   6.67G   148MB/s    in 50s     \n",
            "\n",
            "2024-01-12 09:29:53 (138 MB/s) - ‘llama-2-7b-chat.Q8_0.gguf?download=true’ saved [7161089728/7161089728]\n",
            "\n"
          ]
        }
      ],
      "source": [
        "! CMAKE_ARGS=\"-DLLAMA_CUBLAS=on\" FORCE_CMAKE=1 pip install llama-cpp-python\n",
        "! wget https://huggingface.co/TheBloke/Llama-2-7B-Chat-GGUF/resolve/main/llama-2-7b-chat.Q4_K_M.gguf?download=true\n",
        "! wget https://huggingface.co/TheBloke/Llama-2-7B-Chat-GGUF/resolve/main/llama-2-7b-chat.Q8_0.gguf?download=true\n",
        "! mv llama-2-7b-chat.Q4_K_M.gguf?download=true ./llama-2-7b-chat.Q4_K_M.gguf\n",
        "! mv llama-2-7b-chat.Q8_0.gguf?download=true ./llama-2-7b-chat.Q8_0.gguf\n",
        "! pip install rdflib"
      ]
    },
    {
      "cell_type": "code",
      "source": [
        "from llama_cpp import Llama\n",
        "import os\n",
        "import re\n",
        "from rdflib import Graph, Namespace, URIRef, Literal, BNode\n",
        "from rdflib.namespace import RDFS, RDF, OWL, XSD, SOSA, SKOS"
      ],
      "metadata": {
        "id": "Ze2GZJr4Qfg4"
      },
      "execution_count": 21,
      "outputs": []
    },
    {
      "cell_type": "code",
      "source": [
        "model_path_middle = \"./llama-2-7b-chat.Q4_K_M.gguf\"\n",
        "model_path_big = \"./llama-2-7b-chat.Q8_0.gguf\"\n",
        "n_cpu = os.cpu_count()\n",
        "print(n_cpu)\n",
        "\n",
        "def load_model(path=model_path_middle, n_gpu_layers=-1, n_threads=os.cpu_count(), *args, **kwargs):\n",
        "    return Llama(model_path=path, n_gpu_layers=-1, n_threads=n_threads, *args, **kwargs)\n",
        "\n",
        "llm = load_model(n_ctx=4096, n_batch=2048)\n",
        "\n",
        "def chat_answer(llm, system_prompt, user_prompt, *args, **kwargs):\n",
        "    out = llm.create_chat_completion(\n",
        "      messages = [\n",
        "          {\"role\": \"system\", \"content\": system_prompt},\n",
        "          {\"role\": \"user\", \"content\": user_prompt}\n",
        "      ],\n",
        "      *args, **kwargs\n",
        "    )\n",
        "    return out['choices'][0]['message']['content']"
      ],
      "metadata": {
        "id": "tF7vv5pqVKRV",
        "colab": {
          "base_uri": "https://localhost:8080/"
        },
        "outputId": "4d544efe-71f7-4730-9f17-826f0181946b"
      },
      "execution_count": 73,
      "outputs": [
        {
          "output_type": "stream",
          "name": "stdout",
          "text": [
            "2\n"
          ]
        },
        {
          "output_type": "stream",
          "name": "stderr",
          "text": [
            "AVX = 1 | AVX_VNNI = 0 | AVX2 = 1 | AVX512 = 0 | AVX512_VBMI = 0 | AVX512_VNNI = 0 | FMA = 1 | NEON = 0 | ARM_FMA = 0 | F16C = 1 | FP16_VA = 0 | WASM_SIMD = 0 | BLAS = 1 | SSE3 = 1 | SSSE3 = 1 | VSX = 0 | \n"
          ]
        }
      ]
    },
    {
      "cell_type": "markdown",
      "source": [
        "# Real data tests"
      ],
      "metadata": {
        "id": "FXvONatF58iP"
      }
    },
    {
      "cell_type": "code",
      "source": [
        "id = '0000003596'\n",
        "cam = f'/content/cam_{id}.ttl'\n",
        "ws = f'/content/ws_{id}.ttl'\n",
        "tag = f'/content/tags_{id}.ttl'\n",
        "sosa = f'/content/sosa.ttl'\n",
        "pilot = f'/content/pilot2.ttl'\n",
        "system_prompt = \"You are a master in the field of knowledge graphs. You perfectly know turtle and you know how to explain what is written in turtle format\"\n",
        "\n",
        "data = {}\n",
        "for path, name in zip([cam, ws, tag, sosa, pilot], ['cam', 'ws', 'tag', 'sosa', 'pilot']):\n",
        "  with open(path) as f:\n",
        "    data[name] = f.read()"
      ],
      "metadata": {
        "id": "8tD0ddq-418f"
      },
      "execution_count": 5,
      "outputs": []
    },
    {
      "cell_type": "code",
      "source": [
        "print(data['cam'])"
      ],
      "metadata": {
        "colab": {
          "base_uri": "https://localhost:8080/"
        },
        "id": "4-EuxyxTNi3y",
        "outputId": "15f702c3-512d-4705-ba96-f827c0fc2d85"
      },
      "execution_count": null,
      "outputs": [
        {
          "output_type": "stream",
          "name": "stdout",
          "text": [
            "\n",
            "<https://assist-iot.eu/pilot2_rdf/sensor/camera/entrance_camera_1> a <http://www.w3.org/ns/sosa/Sensor>;\n",
            "  <http://www.w3.org/ns/sosa/madeObservation> _:003;\n",
            "  <http://schema.org/identifier> \"entrance_camera_1\" .\n",
            "\n",
            "_:003 a <http://www.w3.org/ns/sosa/Observation>;\n",
            "  <http://www.w3.org/ns/sosa/hasResult> _:000;\n",
            "  <http://www.w3.org/ns/sosa/resultTime> \"2023-07-07T14:11:08.675910\"^^<http://www.w3.org/2001/XMLSchema#dateTime> .\n",
            "\n",
            "_:000 a <https://assist-iot.eu/ontologies/aiot_p2#CameraResult>, <http://www.w3.org/ns/sosa/Result>;\n",
            "  <https://assist-iot.eu/ontologies/aiot_p2#hasConfidence> 99.99137115478516;\n",
            "  <https://assist-iot.eu/ontologies/aiot_p2#hasImage> _:001;\n",
            "  <https://assist-iot.eu/ontologies/aiot_p2#unsafeWorkersNum> 1;\n",
            "  <https://assist-iot.eu/ontologies/aiot_p2#safeWorkersNum> 0;\n",
            "  <https://assist-iot.eu/ontologies/aiot_p2#indeterminateWorkersNum> 0;\n",
            "  <https://assist-iot.eu/ontologies/aiot_p2#hasSafetyStatus> <https://assist-iot.eu/ontologies/aiot_p2#status_unsafe> .\n",
            "\n",
            "_:001 a <https://assist-iot.eu/ontologies/aiot_p2#Image>;\n",
            "  <https://assist-iot.eu/ontologies/aiot_p2#hasRepoPath> \"osh-camera/entrance_camera_1/32fec42735354991bfa27ba47b2a1758\" .\n",
            "\n"
          ]
        }
      ]
    },
    {
      "cell_type": "code",
      "source": [
        "user_prompt = \"Explain this graph to me \\n \\n\" + data['cam']\n",
        "output = chat_answer(llm, system_prompt, user_prompt)\n",
        "print(output)"
      ],
      "metadata": {
        "colab": {
          "base_uri": "https://localhost:8080/"
        },
        "id": "mKCSkGZ26ClF",
        "outputId": "0ab1751a-c80a-408d-c686-8ce031ceb9ee"
      },
      "execution_count": null,
      "outputs": [
        {
          "output_type": "stream",
          "name": "stdout",
          "text": [
            "  Sure, I'd be happy to explain this Turtle graph!\n",
            "The graph is a representation of a knowledge graph in the Turtle format, which is a serialization of RDF (Resource Description Framework) data. Here's a breakdown of what each line represents:\n",
            "1. `<https://assist-iot.eu/pilot2_rdf/sensor/camera/entrance_camera_1> a <http://www.w3.org/ns/sosa/Sensor>;`: This line defines a relationship between the sensor node \"entrance camera 1\" and the Sensor ontology (<http://www.w3.org/ns/sosa/>). The \"a\" symbol indicates that the sensor is an instance of the Sensor class.\n",
            "2. `<http://www.w3.org/ns/sosa/madeObservation> _:003;`: This line defines a relationship between the sensor node and an observation. The \"_:003\" part indicates the observation ID, which is a unique identifier for this particular observation.\n",
            "3. `<http://www.w3.org/ns/sosa/Observation> _:003 a <http://www.w3.org/ns/sosa/Result>;`: This line defines a relationship between the observation and a result. The \"a\" symbol indicates that the observation is an instance of the Result class.\n",
            "4. `<http://www.w3.org/ns/sosa/hasResult> _:000;`: This line defines a relationship between the observation and a result, with the ID \"_:000\".\n",
            "5. `<http://www.w3.org/ns/sosa/resultTime> \"2023-07-07T14:11:08.675910\"^^<http://www.w3.org/2001/XMLSchema#dateTime>`: This line defines the date and time of the observation, represented as a XML Schema dateTime value.\n",
            "6. `_:00 a <https://assist-iot.eu/ontologies/aiot_p2#CameraResult>, <http://www.w3.org/ns/sosa/Result>;`: This line defines a relationship between the observation and a camera result, with the ID \"_:00\".\n",
            "7. `<https://assist-iot.eu/ontologies/aiot_p2#hasConfidence> 99.99137115478516;`: This line defines a property of the camera result, with the ID \"hasConfidence\" and a value of 99.99137115478516 (a confidence level).\n",
            "8. `<https://assist-iot.eu/ontologies/aiot_p2#hasImage> _:001;`: This line defines a relationship between the camera result and an image, with the ID \"_:001\".\n",
            "9. `<https://assist-iot.eu/ontologies/aiot_p2#unsafeWorkersNum> 1;`: This line defines a property of the camera result, with the ID \"unsafeWorkersNum\" and a value of 1 (the number of unsafe workers).\n",
            "10. `<https://assist-iot.eu/ontologies/aiot_p2#safeWorkersNum> 0;`: This line defines a property of the camera result, with the ID \"safeWorkersNum\" and a value of 0 (the number of safe workers).\n",
            "11. `<https://assist-iot.eu/ontologies/aiot_p2#indeterminateWorkersNum> 0;`: This line defines a property of the camera result, with the ID \"indeterminateWorkersNum\" and a value of 0 (the number of indeterminate workers).\n",
            "12. `<https://assist-iot.eu/ontologies/aiot_p2#hasSafetyStatus> <https://assist-iot.eu/ontologies/aiot_p2#status_unsafe>`: This line defines a relationship between the camera result and a safety status, with the ID \"hasSafetyStatus\" and a value of \"<https://assist-iot.eu/ontologies/aiot_p2#status_unsafe>\" (the unsafe safety status).\n",
            "13. `_:001 a <https://assist-iot.eu/ontologies/aiot_p2#Image>;`: This line defines a relationship between the camera result and an image, with the ID \"_:001\" and the class \"Image\".\n",
            "14. `<https://assist-iot.eu/ontologies/aiot_p2#hasRepoPath> \"osh-camera/entrance_camera_1/32fec42735354991bfa27ba47b2a1758\"`: This line defines a property of the image, with the ID \"hasRepoPath\" and a value of \"osh-camera/entrance_camera_1/32fec42735354991bfa27ba47b2a1758\" (the path to the image repository).\n",
            "In summary, this Turtle graph represents a knowledge graph with a sensor node, an observation, a result, and various properties associated with the result, including confidence level, number of unsafe workers, safe workers, and indeterminate workers. The graph also includes a relationship between the result and an image, as well as a property for the image's repository path.\n"
          ]
        }
      ]
    },
    {
      "cell_type": "code",
      "source": [
        "data_regexd = re.sub(\"<[^ ]*\\/([^ \\/]*)>\", \"\\g<1>\", data['cam'])\n",
        "print(data_regexd)"
      ],
      "metadata": {
        "colab": {
          "base_uri": "https://localhost:8080/"
        },
        "id": "D8MOLQgENoFC",
        "outputId": "713fb222-aaf6-45ef-cfe1-952d0f4dad55"
      },
      "execution_count": null,
      "outputs": [
        {
          "output_type": "stream",
          "name": "stdout",
          "text": [
            "\n",
            "entrance_camera_1 a Sensor;\n",
            "  madeObservation _:003;\n",
            "  identifier \"entrance_camera_1\" .\n",
            "\n",
            "_:003 a Observation;\n",
            "  hasResult _:000;\n",
            "  resultTime \"2023-07-07T14:11:08.675910\"^^XMLSchema#dateTime .\n",
            "\n",
            "_:000 a aiot_p2#CameraResult, Result;\n",
            "  aiot_p2#hasConfidence 99.99137115478516;\n",
            "  aiot_p2#hasImage _:001;\n",
            "  aiot_p2#unsafeWorkersNum 1;\n",
            "  aiot_p2#safeWorkersNum 0;\n",
            "  aiot_p2#indeterminateWorkersNum 0;\n",
            "  aiot_p2#hasSafetyStatus aiot_p2#status_unsafe .\n",
            "\n",
            "_:001 a aiot_p2#Image;\n",
            "  aiot_p2#hasRepoPath \"osh-camera/entrance_camera_1/32fec42735354991bfa27ba47b2a1758\" .\n",
            "\n"
          ]
        }
      ]
    },
    {
      "cell_type": "code",
      "source": [
        "user_prompt = \"Explain this graph to me \\n \\n\" + data_regexd\n",
        "output = chat_answer(llm, system_prompt, user_prompt)\n",
        "print(output)"
      ],
      "metadata": {
        "colab": {
          "base_uri": "https://localhost:8080/"
        },
        "id": "pZflZiEz7n-2",
        "outputId": "dd9d03cd-e6f4-44af-b0e8-38f2ad93e372"
      },
      "execution_count": null,
      "outputs": [
        {
          "output_type": "stream",
          "name": "stderr",
          "text": [
            "Llama.generate: prefix-match hit\n"
          ]
        },
        {
          "output_type": "stream",
          "name": "stdout",
          "text": [
            "  Certainly! This Turtle file represents a knowledge graph that contains information about an entrance camera. Here's a breakdown of the graph:\n",
            "* `entrance_camera_1`: This is the subject of the graph, representing the entrance camera. It has an identifier (\"entrance_camera_1\") and is a sensor.\n",
            "* `_:003`: This is an observation made by the entrance camera. The `madeObservation` property specifies that this is the 3rd observation made by the camera.\n",
            "* `hasResult`: This property indicates that the observation has a result, which we'll explore next.\n",
            "* `resultTime`: This property specifies the date and time of the observation, in ISO 8601 format (`2023-07-07T14:11:08.675910`).\n",
            "* `_:00 a aiot_p2#CameraResult, Result`: This property links the observation to an instance of the `aiot_p2` ontology (`CameraResult`) and specifies that it is a result.\n",
            "* `aiot_p2#hasConfidence`: This property indicates the confidence level of the observation, which is 99.99137115478516%.\n",
            "* `aiot_p2#hasImage`: This property links the observation to an instance of the `aiot_p2` ontology (`Image`) and specifies that it has an image associated with it.\n",
            "* `_:001 a aiot_p2#Image`: This property links the observation to an instance of the `aiot_p2` ontology (`Image`) and specifies that it is the 1st image associated with the observation.\n",
            "* `aiot_p2#unsafeWorkersNum`: This property indicates the number of unsafe workers associated with the observation, which is 1.\n",
            "* `aiot_p2#safeWorkersNum`: This property indicates the number of safe workers associated with the observation, which is 0.\n",
            "* `aiot_p2#indeterminateWorkersNum`: This property indicates the number of indeterminate workers associated with the observation, which is 0.\n",
            "* `aiot_p2#hasSafetyStatus`: This property links the observation to an instance of the `aiot_p2` ontology (`status_unsafe`) and specifies that it has a safety status.\n",
            "* `_:01 a aiot_p2#Image`: This property links the observation to an instance of the `aiot_p2` ontology (`Image`) and specifies that it is the 1st image associated with the observation.\n",
            "* `aiot_p2#hasRepoPath`: This property links the observation to a repository path for the image, which is \"osh-camera/entrance_camera_1/32fec42735354991bfa27ba47b2a1758\".\n",
            "Overall, this Turtle file represents a single observation made by an entrance camera, including information about the confidence level of the observation, the number of unsafe and safe workers involved, and the image associated with the observation.\n"
          ]
        }
      ]
    },
    {
      "cell_type": "code",
      "source": [
        "user_prompt2 = \"Summarize only the data in the following graph. \\n \\n\" + data['cam']\n",
        "system_prompt2 = \"You are a master in the field of knowledge graphs. You perfectly know turtle and you explain their contents using layman's terms.\"\n",
        "output = chat_answer(llm, system_prompt2, user_prompt2)\n",
        "print(output)"
      ],
      "metadata": {
        "colab": {
          "base_uri": "https://localhost:8080/",
          "height": 233
        },
        "id": "MMagIVEvAPTD",
        "outputId": "13d64361-903a-41ff-ce5b-a77edc201efd"
      },
      "execution_count": null,
      "outputs": [
        {
          "output_type": "error",
          "ename": "NameError",
          "evalue": "ignored",
          "traceback": [
            "\u001b[0;31m---------------------------------------------------------------------------\u001b[0m",
            "\u001b[0;31mNameError\u001b[0m                                 Traceback (most recent call last)",
            "\u001b[0;32m<ipython-input-1-cc8a98e4cc00>\u001b[0m in \u001b[0;36m<cell line: 1>\u001b[0;34m()\u001b[0m\n\u001b[0;32m----> 1\u001b[0;31m \u001b[0muser_prompt2\u001b[0m \u001b[0;34m=\u001b[0m \u001b[0;34m\"Summarize only the data in the following graph. \\n \\n\"\u001b[0m \u001b[0;34m+\u001b[0m \u001b[0mdata\u001b[0m\u001b[0;34m[\u001b[0m\u001b[0;34m'cam'\u001b[0m\u001b[0;34m]\u001b[0m\u001b[0;34m\u001b[0m\u001b[0;34m\u001b[0m\u001b[0m\n\u001b[0m\u001b[1;32m      2\u001b[0m \u001b[0msystem_prompt2\u001b[0m \u001b[0;34m=\u001b[0m \u001b[0;34m\"You are a master in the field of knowledge graphs. You perfectly know turtle and you explain their contents using layman's terms.\"\u001b[0m\u001b[0;34m\u001b[0m\u001b[0;34m\u001b[0m\u001b[0m\n\u001b[1;32m      3\u001b[0m \u001b[0moutput\u001b[0m \u001b[0;34m=\u001b[0m \u001b[0mchat_answer\u001b[0m\u001b[0;34m(\u001b[0m\u001b[0mllm\u001b[0m\u001b[0;34m,\u001b[0m \u001b[0msystem_prompt2\u001b[0m\u001b[0;34m,\u001b[0m \u001b[0muser_prompt2\u001b[0m\u001b[0;34m)\u001b[0m\u001b[0;34m\u001b[0m\u001b[0;34m\u001b[0m\u001b[0m\n\u001b[1;32m      4\u001b[0m \u001b[0mprint\u001b[0m\u001b[0;34m(\u001b[0m\u001b[0moutput\u001b[0m\u001b[0;34m)\u001b[0m\u001b[0;34m\u001b[0m\u001b[0;34m\u001b[0m\u001b[0m\n",
            "\u001b[0;31mNameError\u001b[0m: name 'data' is not defined"
          ]
        }
      ]
    },
    {
      "cell_type": "code",
      "source": [
        "system_prompt2 = \"You are a master in the field of knowledge graphs. You perfectly know turtle and you explain their contents without knowledge graph specific linguistics.\"\n",
        "output = chat_answer(llm, system_prompt2, user_prompt)\n",
        "print(output)"
      ],
      "metadata": {
        "colab": {
          "base_uri": "https://localhost:8080/"
        },
        "id": "X0MrQLJS-h8P",
        "outputId": "0323d84a-f890-46e6-e260-854635760c2e"
      },
      "execution_count": null,
      "outputs": [
        {
          "output_type": "stream",
          "name": "stderr",
          "text": [
            "Llama.generate: prefix-match hit\n"
          ]
        },
        {
          "output_type": "stream",
          "name": "stdout",
          "text": [
            "  Sure, I'd be happy to explain this knowledge graph to you!\n",
            "The graph represents a simple system for monitoring the entrance of a building using a camera. Here's a breakdown of each node and edge in the graph:\n",
            "* `entrance_camera_1`: This is the sensor node representing the entrance camera. It has an identifier (\"entrance_camera_1\") and is connected to other nodes through edges.\n",
            "* `_:003`: This is an observation made by the entrance camera. The edge connecting it to `entrance_camera_1` represents the fact that this observation was made by the camera.\n",
            "* `hasResult`: This edge connects the observation node (`_:003`) to a result node (`_:00`). It indicates that the observation has a result, which we'll discuss below.\n",
            "* `resultTime`: This edge connects the observation node to a date and time node (`_:003`). It represents the time at which the observation was made.\n",
            "* `_:00 a aiot_p2#CameraResult, Result;`: This is an instance of a class called `aiot_p2#CameraResult`, which is a subclass of `Result`. The `a` symbol indicates that this node is an instance of a class, rather than a simple node.\n",
            "* `aiot_p2#hasConfidence`: This edge connects the `aiot_p2#CameraResult` node to a confidence node (`_:001`). It represents the confidence level of the observation, which in this case is 99.99%.\n",
            "* `aiot_p2#hasImage`: This edge connects the `aiot_p2#CameraResult` node to an image node (`_:001`). It indicates that the observation has an associated image.\n",
            "* `aiot_p2#unsafeWorkersNum`: This edge connects the `aiot_p2#CameraResult` node to a worker node (`_:00`). It represents the number of unsafe workers in the system. In this case, there is one unsafe worker.\n",
            "* `aiot_p2#safeWorkersNum`: This edge connects the `aiot_p2#CameraResult` node to another worker node (`_:00`). It represents the number of safe workers in the system. In this case, there are no safe workers.\n",
            "* `aiot_p2#indeterminateWorkersNum`: This edge connects the `aiot_p2#CameraResult` node to another worker node (`_:00`). It represents the number of indeterminate workers in the system. In this case, there are no indeterminate workers.\n",
            "* `aiot_p2#hasSafetyStatus`: This edge connects the `aiot_p2#CameraResult` node to a safety status node (`_:00`). It represents the safety status of the observation, which in this case is \"unsafe\".\n",
            "* `_:001 a aiot_p2#Image;`: This is an instance of a class called `aiot_p2#Image`. The `a` symbol indicates that this node is an instance of a class, rather than a simple node.\n",
            "* `aiot_p2#hasRepoPath`: This edge connects the `aiot_p2#Image` node to a repository path node (`_:001`). It represents the path to the image in the repository. In this case, the path is \"osh-camera/entrance_camera_1/32fec42735354991bfa27ba47b2a1758\".\n",
            "I hope that helps! Let me know if you have any questions about the graph or its contents.\n"
          ]
        }
      ]
    },
    {
      "cell_type": "code",
      "source": [
        "user_prompt2 = \"Explain only the data in the following graph. \\n \\n\" + data_regexd\n",
        "system_prompt2 = \"You are a master in the field of knowledge graphs. You perfectly know turtle and you explain their contents without knowledge graph specific linguistics.\"\n",
        "output = chat_answer(llm, system_prompt2, user_prompt2)\n",
        "print(output)"
      ],
      "metadata": {
        "colab": {
          "base_uri": "https://localhost:8080/"
        },
        "id": "GFUr6VZi_SI6",
        "outputId": "089338bb-ed3d-4a1d-8429-27f3ee9a4bcc"
      },
      "execution_count": null,
      "outputs": [
        {
          "output_type": "stream",
          "name": "stderr",
          "text": [
            "Llama.generate: prefix-match hit\n"
          ]
        },
        {
          "output_type": "stream",
          "name": "stdout",
          "text": [
            "  Sure, I'd be happy to explain the data in the knowledge graph!\n",
            "The graph contains three nodes: \"entrance_camera_1\", \" Observation\", and \"aiot_p2#Image\".\n",
            "* \"entrance_camera_1\" is a sensor node, which means it represents a device or object that can detect or sense something in the environment. In this case, it's a camera.\n",
            "* \"Observation\" is a node that represents an observation or measurement made by the sensor. It has two properties: \"madeObservation\" and \"resultTime\". \"madeObservation\" is a reference to the sensor that made the observation, in this case \"entrance_camera_1\". \"resultTime\" is the date and time when the observation was made, which is July 7, 2023 at 2:11 PM.\n",
            "* \"aiot_p2#Image\" is a node that represents an image. It has several properties: \"hasConfidence\", \"hasImage\", \"unsafeWorkersNum\", \"safeWorkersNum\", and \"indeterminateWorkersNum\". \"hasConfidence\" indicates the confidence level of the image, which is 99.99%. \"hasImage\" means that the image exists and can be retrieved. \"unsafeWorkersNum\", \"safeWorkersNum\", and \"indeterminateWorkersNum\" are related to the safety status of the image, but I'll explain those in more detail later.\n",
            "* Finally, there is a relationship between \"entrance_camera_1\" and \"aiot_p2#Image\". Specifically, \"entrance_camera_1\" made an observation that resulted in the image. This relationship is represented by the arrow pointing from \"entrance_camera_1\" to \"aiot_p2#Image\".\n",
            "Now, let's dive into the properties of \"aiot_p2#Image\":\n",
            "* \"hasRepoPath\" indicates the path to the repository where the image is stored. In this case, it points to a file named \"osh-camera/entrance_camera_1/32fec42735354991bfa27ba47b2a1758\".\n",
            "* \"unsafeWorkersNum\", \"safeWorkersNum\", and \"indeterminateWorkersNum\" are related to the safety status of the image. Here's how they work:\n",
            "\t+ \"unsafeWorkersNum\": This property indicates the number of workers who have identified the image as unsafe. In this case, it's 1.\n",
            "\t+ \"safeWorkersNum\": This property indicates the number of workers who have identified the image as safe. In this case, it's 0.\n",
            "\t+ \"indeterminateWorkersNum\": This property indicates the number of workers who have not yet made a decision about the safety of the image. In this case, it's also 0.\n",
            "So, to summarize, the graph represents an entrance camera that made an observation on July 7, 2023 at 2:11 PM, resulting in an image with a confidence level of 99.99%. The image is stored in a repository and has a safety status determined by a number of workers.\n"
          ]
        }
      ]
    },
    {
      "cell_type": "code",
      "source": [
        "user_prompt2 = \"Summarize only the data in the following graph. \\n \\n\" + data_regexd\n",
        "system_prompt2 = \"You are a master in the field of knowledge graphs. You perfectly know turtle and you explain their contents using layman's terms.\"\n",
        "output = chat_answer(llm, system_prompt2, user_prompt2)\n",
        "print(output)"
      ],
      "metadata": {
        "colab": {
          "base_uri": "https://localhost:8080/"
        },
        "id": "pLJfG-lj_3YB",
        "outputId": "c604aa54-3c0e-46a2-8383-a9414302f426"
      },
      "execution_count": null,
      "outputs": [
        {
          "output_type": "stream",
          "name": "stderr",
          "text": [
            "Llama.generate: prefix-match hit\n"
          ]
        },
        {
          "output_type": "stream",
          "name": "stdout",
          "text": [
            "  Sure, I'd be happy to summarize the data in the knowledge graph for you!\n",
            "The graph contains information about an entrance camera at a location. Here are the key points:\n",
            "* The camera is labeled \"entrance_camera_1\" and has an identifier of \"entrance_camera_1\".\n",
            "* The camera made an observation on July 7, 2023 at 14:11:08 UTC.\n",
            "* The observation has a result, which is a measure of the confidence in the observation (99.99137115478516%).\n",
            "* The camera also has an image associated with the observation.\n",
            "* The camera has 1 unsafe worker, 0 safe workers, and 0 indeterminate workers.\n",
            "* The camera's safety status is \"unsafe\".\n",
            "* The image associated with the observation has a repository path of \"osh-camera/entrance_camera_1/32fec42735354991bfa27ba47b2a1758\".\n",
            "That's the basic information contained in the graph! Let me know if you have any further questions.\n"
          ]
        }
      ]
    },
    {
      "cell_type": "markdown",
      "source": [
        "# Replacement with label"
      ],
      "metadata": {
        "id": "imVHp3RhFh0A"
      }
    },
    {
      "cell_type": "code",
      "source": [
        "ontology = Graph()\n",
        "ontology.parse('pilot2.ttl', format='ttl')\n",
        "pilot2 = Graph()\n",
        "pilot2.parse('pilot2.ttl', format='ttl')\n",
        "sosa = Graph()\n",
        "sosa.parse('sosa.ttl', format='ttl')\n",
        "cam_graph = Graph()\n",
        "cam_graph.parse(cam, format='ttl')"
      ],
      "metadata": {
        "colab": {
          "base_uri": "https://localhost:8080/"
        },
        "id": "N75U4KCQDsni",
        "outputId": "e66186ab-0479-4a4e-b4a7-08d12cabca25"
      },
      "execution_count": null,
      "outputs": [
        {
          "output_type": "execute_result",
          "data": {
            "text/plain": [
              "<Graph identifier=Nd9f09badd1044079b4c635e0e1f45e7a (<class 'rdflib.graph.Graph'>)>"
            ]
          },
          "metadata": {},
          "execution_count": 5
        }
      ]
    },
    {
      "cell_type": "code",
      "source": [
        "preprocess_mapping = {}\n",
        "for s, _, o in ontology.triples((None, RDFS.label, None)):\n",
        "    s = str(s)\n",
        "    if s == 'https://assist-iot.eu/ontologies/aiot_p2#':\n",
        "      continue\n",
        "    preprocess_mapping['<'+s+'>']=o\n",
        "for s, _, o in sosa.triples((None, RDFS.label, None)):\n",
        "    s = str(s)\n",
        "    preprocess_mapping['<'+s+'>']=o"
      ],
      "metadata": {
        "id": "YQCb9Bm1EDRr"
      },
      "execution_count": null,
      "outputs": []
    },
    {
      "cell_type": "code",
      "source": [
        "x = data['cam']\n",
        "for key, val in preprocess_mapping.items():\n",
        "  x = x.replace(key, val)\n",
        "x = re.sub(\"<[^ ]*\\/([^ \\/]*)>\", \"\\g<1>\", x)"
      ],
      "metadata": {
        "id": "Qdhg0pPMByTz"
      },
      "execution_count": null,
      "outputs": []
    },
    {
      "cell_type": "code",
      "source": [
        "print(x)"
      ],
      "metadata": {
        "colab": {
          "base_uri": "https://localhost:8080/"
        },
        "id": "_ZzprAqyFyUS",
        "outputId": "bf6be77b-8d6b-453c-f345-424614f91bdb"
      },
      "execution_count": null,
      "outputs": [
        {
          "output_type": "stream",
          "name": "stdout",
          "text": [
            "\n",
            "entrance_camera_1 a Sensor;\n",
            "  made observation _:003;\n",
            "  identifier \"entrance_camera_1\" .\n",
            "\n",
            "_:003 a Observation;\n",
            "  has result _:000;\n",
            "  result time \"2023-07-07T14:11:08.675910\"^^XMLSchema#dateTime .\n",
            "\n",
            "_:000 a Camera result, Result;\n",
            "  Has confidence 99.99137115478516;\n",
            "  Has image _:001;\n",
            "  Number of unsafe workers 1;\n",
            "  Number of safe workers 0;\n",
            "  Number of workers whose safety cannot be determined 0;\n",
            "  aiot_p2#hasSafetyStatus Safety status – unsafe .\n",
            "\n",
            "_:001 a Image;\n",
            "  Has Semantic Repository path \"osh-camera/entrance_camera_1/32fec42735354991bfa27ba47b2a1758\" .\n",
            "\n"
          ]
        }
      ]
    },
    {
      "cell_type": "code",
      "source": [
        "user_prompt2 = \"Explain only the data in the following graph. \\n \\n\" + x\n",
        "system_prompt2 = \"You are a master in the field of knowledge graphs. You perfectly know turtle and you explain their contents using layman's terms.\"\n",
        "output = chat_answer(llm, system_prompt2, user_prompt2)\n",
        "print(output)"
      ],
      "metadata": {
        "colab": {
          "base_uri": "https://localhost:8080/"
        },
        "id": "YlPsNZmPJm8A",
        "outputId": "d2b5e711-ff09-4225-e0f6-c666ba6d1de6"
      },
      "execution_count": null,
      "outputs": [
        {
          "output_type": "stream",
          "name": "stderr",
          "text": [
            "Llama.generate: prefix-match hit\n"
          ]
        },
        {
          "output_type": "stream",
          "name": "stdout",
          "text": [
            "  Sure, I'd be happy to explain the data in the knowledge graph!\n",
            "The graph contains several entities and relationships between them. Here's a breakdown of what each entity and relationship represents:\n",
            "Entities:\n",
            "* `entrance_camera_1`: This is the entrance camera, which is a sensor that makes observations.\n",
            "* `_:003`: This is an observation made by the entrance camera on a particular date and time.\n",
            "* `result`: This is the result of the observation, which is a value that represents the safety status of the workers in front of the camera.\n",
            "* `image`: This is an image associated with the observation.\n",
            "* `Safety status`: This is a property of the observation that indicates whether the workers in front of the camera are safe or not.\n",
            "Relationships:\n",
            "* `made observation`: This relationship connects the entrance camera (`entrance_camera_1`) to the observation `_:003`. It indicates that the entrance camera made the observation.\n",
            "* `has result`: This relationship connects the observation `_:003` to the result `Has confidence 99.99137115478516; Has image _:001; Number of unsafe workers 1; Number of safe workers 0; Number of workers whose safety cannot be determined 0`. It indicates that the observation has a result, which is represented by this set of values.\n",
            "* `Has confidence`: This relationship connects the result to the confidence level of the observation, which is 99.99137115478516.\n",
            "* `Has image`: This relationship connects the result to the image associated with the observation.\n",
            "* `Number of unsafe workers`: This relationship connects the result to the number of workers in front of the camera who are considered unsafe.\n",
            "* `Number of safe workers`: This relationship connects the result to the number of workers in front of the camera who are considered safe.\n",
            "* `Number of workers whose safety cannot be determined`: This relationship connects the result to the number of workers in front of the camera whose safety cannot be determined.\n",
            "In summary, this knowledge graph represents a single observation made by an entrance camera on a particular date and time, along with the results of that observation, including the confidence level, image associated with the observation, and the number of unsafe and safe workers detected by the camera.\n"
          ]
        }
      ]
    },
    {
      "cell_type": "code",
      "source": [
        "user_prompt2 = \"Summarize only the data in the following graph. \\n \\n\" + x\n",
        "system_prompt2 = \"You are a master in the field of knowledge graphs. You perfectly know turtle and you explain their contents using layman's terms.\"\n",
        "output = chat_answer(llm, system_prompt2, user_prompt2)\n",
        "print(output)"
      ],
      "metadata": {
        "colab": {
          "base_uri": "https://localhost:8080/"
        },
        "id": "WShtyoN9KOvo",
        "outputId": "7a2a9e31-1c1e-4bdd-eeb9-6d7b4138681a"
      },
      "execution_count": null,
      "outputs": [
        {
          "output_type": "stream",
          "name": "stderr",
          "text": [
            "Llama.generate: prefix-match hit\n"
          ]
        },
        {
          "output_type": "stream",
          "name": "stdout",
          "text": [
            "  Sure, I'd be happy to summarize the data in the knowledge graph for you!\n",
            "The graph contains three nodes: \"entrance_camera_1\", \"observation\", and \"image\".\n",
            "* \"entrance_camera_1\" is a sensor node, which means it represents a device that senses or observes something in the environment.\n",
            "* \"observation\" is a node that represents an observation made by the \"entrance_camera_1\" sensor. This observation has a time stamp of \"2023-07-07T14:11:08.675910\" and indicates that something (likely a person or object) was observed at the entrance of the camera's field of view.\n",
            "* \"image\" is a node that represents an image associated with the observation. The image has a Semantic Repository path of \"osh-camera/entrance_camera_1/32fec42735354991bfa27ba47b2a1758\", which means it is stored in a repository called \"osh-camera\" and has a unique identifier of \"32fec42735354991bfa27ba47b2a1758\".\n",
            "The graph also contains three edges:\n",
            "* From \"entrance_camera_1\" to \"observation\", indicating that the observation was made by the entrance camera.\n",
            "* From \"observation\" to \"result\", indicating that the observation has a result (i.e., whether something is safe or unsafe).\n",
            "* From \"result\" to \"confidence\", indicating the level of confidence in the result (in this case, 99.99137115478516).\n",
            "Overall, the graph represents a single observation made by an entrance camera at a specific time, along with the image associated with that observation and some metadata about the observation itself (such as the level of confidence in the result).\n"
          ]
        }
      ]
    },
    {
      "cell_type": "code",
      "source": [
        "user_prompt2 = \"Summarize only the data of the following graph, in sentences only. \\n \\n\" + x\n",
        "system_prompt2 = \"You are a master in the field of knowledge graphs. You perfectly know turtle and you explain their contents using layman's terms.\"\n",
        "output = chat_answer(llm, system_prompt2, user_prompt2)\n",
        "print(output)"
      ],
      "metadata": {
        "colab": {
          "base_uri": "https://localhost:8080/"
        },
        "id": "g9Yo41oaK7Pn",
        "outputId": "ef7c2e98-ac17-4e8c-ddce-fd0929ceb0a5"
      },
      "execution_count": null,
      "outputs": [
        {
          "output_type": "stream",
          "name": "stderr",
          "text": [
            "Llama.generate: prefix-match hit\n"
          ]
        },
        {
          "output_type": "stream",
          "name": "stdout",
          "text": [
            "  Sure, here is a summary of the data in the knowledge graph:\n",
            "* There is a sensor called \"entrance_camera_1\".\n",
            "* The sensor made an observation on July 7, 2023 at 2:11 PM (UTC) with result time \"2023-07-07T14:11:08.675910\"^^XMLSchema#dateTime.\n",
            "* The camera result has a confidence level of 99.99137115478516%.\n",
            "* The camera result has an image with ID \"entrance_camera_1/32fec42735354991bfa27ba47b2a1758\".\n",
            "* There are 1 unsafe worker.\n",
            "* There are 0 safe worker.\n",
            "* There are 0 worker whose safety cannot be determined.\n",
            "* The camera has a Safety status - unsafe.\n"
          ]
        }
      ]
    },
    {
      "cell_type": "markdown",
      "source": [
        "# Same but with comments?"
      ],
      "metadata": {
        "id": "RXxRCFKvLy1K"
      }
    },
    {
      "cell_type": "code",
      "source": [
        "preprocess_mapping2 = {}\n",
        "for s, _, o in ontology.triples((None, RDFS.comment, None)):\n",
        "    s = str(s)\n",
        "    if s == 'https://assist-iot.eu/ontologies/aiot_p2#':\n",
        "      continue\n",
        "    preprocess_mapping2['<'+s+'>']=o\n",
        "for s, _, o in sosa.triples((None, RDFS.comment, None)):\n",
        "    s = str(s)\n",
        "    preprocess_mapping2['<'+s+'>']=o\n",
        "\n",
        "x = data['cam']\n",
        "for key, val in preprocess_mapping2.items():\n",
        "  x = x.replace(key, val)\n",
        "x = re.sub(\"<[^ ]*\\/([^ \\/]*)>\", \"\\g<1>\", x)\n",
        "print(x)"
      ],
      "metadata": {
        "colab": {
          "base_uri": "https://localhost:8080/"
        },
        "id": "6m6cZBLFLG4E",
        "outputId": "79b833e0-cb54-4a62-8ad4-fd6aa13139af"
      },
      "execution_count": null,
      "outputs": [
        {
          "output_type": "stream",
          "name": "stdout",
          "text": [
            "\n",
            "entrance_camera_1 a Device, agent (including humans), or software (simulation) involved in, or implementing, a Procedure. Sensors respond to a stimulus, e.g., a change in the environment, or input data composed from the results of prior Observations, and generate a Result. Sensors can be hosted by Platforms.;\n",
            "  Relation between a Sensor and an Observation made by the Sensor. _:003;\n",
            "  identifier \"entrance_camera_1\" .\n",
            "\n",
            "_:003 a Act of carrying out an (Observation) Procedure to estimate or calculate a value of a property of a FeatureOfInterest. Links to a Sensor to describe what made the Observation and how; links to an ObservableProperty to describe what the result is an estimate of, and to a FeatureOfInterest to detail what that property was associated with.;\n",
            "  Relation linking an Observation or Actuation or act of Sampling and a Result or Sample. _:000;\n",
            "  The result time is the instant of time when the Observation, Actuation or Sampling activity was completed. \"2023-07-07T14:11:08.675910\"^^XMLSchema#dateTime .\n",
            "\n",
            "_:000 a Result of an observation from a camera on the construction site., The Result of an Observation, Actuation, or act of Sampling. To store an observation's simple result value one can use the hasSimpleResult property.;\n",
            "  Indicates the confidence of the method (e.g., a machine learning model) that made the decision 99.99137115478516;\n",
            "  aiot_p2#hasImage _:001;\n",
            "  aiot_p2#unsafeWorkersNum 1;\n",
            "  aiot_p2#safeWorkersNum 0;\n",
            "  aiot_p2#indeterminateWorkersNum 0;\n",
            "  aiot_p2#hasSafetyStatus At least one worker in the group is not safe. .\n",
            "\n",
            "_:001 a Image stored in the Semantic Repository. Use the hasRepoPath property to indicate where to find the image.;\n",
            "  Full path to the object in the Semantic Repository. Format should be \"namespace/model/version\". \"osh-camera/entrance_camera_1/32fec42735354991bfa27ba47b2a1758\" .\n",
            "\n"
          ]
        }
      ]
    },
    {
      "cell_type": "code",
      "source": [
        "user_prompt2 = \"Summarize only the data of the following graph, in sentences only. \\n \\n\" + x\n",
        "system_prompt2 = \"You are a master in the field of knowledge graphs. You perfectly know turtle and you explain their contents using layman's terms.\"\n",
        "output = chat_answer(llm, system_prompt2, user_prompt2)\n",
        "print(output)"
      ],
      "metadata": {
        "colab": {
          "base_uri": "https://localhost:8080/"
        },
        "id": "9dSIcoseMFCl",
        "outputId": "f257e2fc-908a-4b20-e1fd-2b98694cb046"
      },
      "execution_count": null,
      "outputs": [
        {
          "output_type": "stream",
          "name": "stderr",
          "text": [
            "Llama.generate: prefix-match hit\n"
          ]
        },
        {
          "output_type": "stream",
          "name": "stdout",
          "text": [
            "  Sure, here's a summary of the knowledge graph in simple terms:\n",
            "* The graph describes a construction site with various devices, agents (including humans), and software involved in carrying out procedures.\n",
            "* Sensors respond to stimuli and generate results, which can be estimated or calculated values of properties of features of interest.\n",
            "* Observations, actuations, or sampling activities are linked to results or samples, and the result time is the instant when the activity was completed.\n",
            "* The graph also includes information about the confidence of the methods that made decisions, as well as the number of safe, unsafe, and indeterminate workers on the construction site.\n",
            "* An image stored in the Semantic Repository is also mentioned, with a full path format of \"namespace/model/version\".\n"
          ]
        }
      ]
    },
    {
      "cell_type": "code",
      "source": [
        "user_prompt2 = \"Summarize only the data of the following graph, in sentences only. Focus on the values at the end of each line. \\n \\n\" + x\n",
        "system_prompt2 = \"You are a master in the field of knowledge graphs. You perfectly know turtle and you explain their contents using layman's terms.\"\n",
        "output = chat_answer(llm, system_prompt2, user_prompt2)\n",
        "print(output)"
      ],
      "metadata": {
        "colab": {
          "base_uri": "https://localhost:8080/"
        },
        "id": "ow4PxSn3MTvq",
        "outputId": "857d71e4-d63e-4e02-d00f-b0af2f5c4167"
      },
      "execution_count": null,
      "outputs": [
        {
          "output_type": "stream",
          "name": "stderr",
          "text": [
            "Llama.generate: prefix-match hit\n"
          ]
        },
        {
          "output_type": "stream",
          "name": "stdout",
          "text": [
            "  Sure! Here's a summary of the data in the graph:\n",
            "* The entrance camera 1 is a device, agent (including humans), or software involved in or implementing a procedure.\n",
            "* Sensors respond to stimuli and generate results, which can be hosted by platforms.\n",
            "* An observation is an act of carrying out a procedure to estimate or calculate a value of a property of a feature of interest. Observations are linked to sensors that made them and to observable properties that describe what the result is an estimate of.\n",
            "* The result time is the instant of time when the observation, actuation, or sampling activity was completed.\n",
            "* A result is a simple result value stored using the hasSimpleResult property.\n",
            "* The confidence of the method (e.g., a machine learning model) that made the decision is 99.99137115478516.\n",
            "* aiot_p2#hasImage indicates that there is an image stored in the semantic repository.\n",
            "* aiot_p2#unsafeWorkersNum, aiot_p2#safeWorkersNum, and aiot_p2#indeterminateWorkersNum indicate the number of workers in the group who are not safe, safe, or indeterminate, respectively.\n",
            "* aiot_p2#repoPath is a full path to the object in the semantic repository, format \"namespace/model/version\".\n"
          ]
        }
      ]
    },
    {
      "cell_type": "code",
      "source": [
        "user_prompt2 = \"Summarize only the data of the following graph, in sentences only. Focus as much as possible on the values at the end of each line. \\n \\n\" + x\n",
        "system_prompt2 = \"You are a master in the field of knowledge graphs. You perfectly know turtle and you explain their contents using layman's terms.\"\n",
        "output = chat_answer(llm, system_prompt2, user_prompt2)\n",
        "print(output)"
      ],
      "metadata": {
        "colab": {
          "base_uri": "https://localhost:8080/"
        },
        "id": "ICvZPAzKMvEC",
        "outputId": "1993e89d-3832-4294-f2ba-7f80a3770aff"
      },
      "execution_count": null,
      "outputs": [
        {
          "output_type": "stream",
          "name": "stderr",
          "text": [
            "Llama.generate: prefix-match hit\n"
          ]
        },
        {
          "output_type": "stream",
          "name": "stdout",
          "text": [
            "  Sure, here is a summary of the data in the graph:\n",
            "* The entrance camera 1 is a device or software involved in a procedure.\n",
            "* Sensors respond to stimuli and generate results, which can be hosted by platforms.\n",
            "* An observation is made by carrying out a procedure to estimate or calculate a value of a property of a feature of interest. Links are made to sensors, observable properties, and features of interest.\n",
            "* The result time is the instant when the observation, actuation, or sampling activity was completed (July 7, 2023, at 14:11:08 UTC).\n",
            "* The result of an observation is a value stored using the hasSimpleResult property.\n",
            "* The confidence of the method that made the decision is 99.99137115478516%.\n",
            "* The aiot_p2#hasImage property indicates that there is an image associated with this object, and the aiot_p2#unsafeWorkersNum, aiot_p2#safeWorkersNum, and aiot_p2#indeterminateWorkersNum properties indicate the number of workers in the group who are not safe.\n",
            "* The full path to the image in the Semantic Repository is \"osh-camera/entrance_camera_1/32fec42735354991bfa27ba47b2a1758\".\n"
          ]
        }
      ]
    },
    {
      "cell_type": "code",
      "source": [
        "user_prompt2 = \"Summarize only the data of the following graph, in sentences only. Focus summary as much as possible on the values at the end of each line. \\n \\n\" + x\n",
        "system_prompt2 = \"You are a master in the field of knowledge graphs. You perfectly know turtle and you explain their contents using layman's terms.\"\n",
        "output = chat_answer(llm, system_prompt2, user_prompt2, temperature=0.8)\n",
        "print(output)"
      ],
      "metadata": {
        "colab": {
          "base_uri": "https://localhost:8080/"
        },
        "id": "LZwAYWc0Qme2",
        "outputId": "757a5823-d706-42bc-efb8-38ae44061653"
      },
      "execution_count": null,
      "outputs": [
        {
          "output_type": "stream",
          "name": "stderr",
          "text": [
            "Llama.generate: prefix-match hit\n"
          ]
        },
        {
          "output_type": "stream",
          "name": "stdout",
          "text": [
            "  Sure, here is a summary of the data in the graph:\n",
            "* The entrance camera 1 is a device or software involved in a procedure.\n",
            "* Sensors respond to stimuli and generate results.\n",
            "* An observation was made by the sensor on July 7, 2023 at 14:11:08 UTC, with a result of a value associated with a feature of interest.\n",
            "* The result time is July 7, 2023 at 14:11:08 UTC.\n",
            "* The confidence of the method that made the decision is 99.99137115478516%.\n",
            "* An image associated with the observation is stored in the Semantic Repository with a full path of \"osh-camera/entrance_camera_1/32fec42735354991bfa27ba47b2a1758\".\n",
            "* The number of unsafe workers in the group is 1, and the number of safe workers is 0.\n",
            "* At least one worker in the group is not safe.\n"
          ]
        }
      ]
    },
    {
      "cell_type": "code",
      "source": [
        "user_prompt2 = \"Summarize only the data of the following graph, in sentences only. Focus summary as much as possible on the values at the end of each line. \\n \\n\" + x\n",
        "system_prompt2 = \"You are a master in the field of knowledge graphs. You perfectly know turtle and you explain their contents using layman's terms.\"\n",
        "output = chat_answer(llm, system_prompt2, user_prompt2, temperature=0.6)\n",
        "print(output)"
      ],
      "metadata": {
        "colab": {
          "base_uri": "https://localhost:8080/"
        },
        "id": "W9EQJnTrRU5g",
        "outputId": "6c897cfe-351b-464a-d24f-4a5264d02c00"
      },
      "execution_count": null,
      "outputs": [
        {
          "output_type": "stream",
          "name": "stderr",
          "text": [
            "Llama.generate: prefix-match hit\n"
          ]
        },
        {
          "output_type": "stream",
          "name": "stdout",
          "text": [
            "  Sure! Here's a summary of the data in the Knowledge Graph, focusing on the values at the end of each line:\n",
            "* `entrance_camera_1` is an agent (including humans), device, or software involved in or implementing a procedure.\n",
            "* In `entrance_camera_1`, sensors respond to stimuli and generate results.\n",
            "* The result of an observation made by `entrance_camera_1` is a value estimated or calculated for a property of a feature of interest.\n",
            "* The result time of the observation is `2023-07-07T14:11:08.675910`.\n",
            "* `aiot_p2` has a hasImage property set to `_:001`.\n",
            "* `aiot_p2` has an unsafe workers number of 1, a safe workers number of 0, and an indeterminate workers number of 0.\n",
            "* `aiot_p2` has a hasSafetyStatus property set to \"At least one worker in the group is not safe\".\n",
            "* The image stored in the Semantic Repository for `aiot_p2` can be found at `osh-camera/entrance_camera_1/32fec42735354991bfa27ba47b2a1758`.\n"
          ]
        }
      ]
    },
    {
      "cell_type": "code",
      "source": [
        "user_prompt2 = \"Summarize only the data of the following graph, in sentences only. Focus summary as much as possible on the values at the end of each line. \\n \\n\" + x\n",
        "system_prompt2 = \"You are a master in the field of knowledge graphs. You perfectly know turtle and you explain their contents using layman's terms.\"\n",
        "output = chat_answer(llm, system_prompt2, user_prompt2, temperature=1.0)\n",
        "print(output)"
      ],
      "metadata": {
        "colab": {
          "base_uri": "https://localhost:8080/"
        },
        "id": "W71_8C7KRxMx",
        "outputId": "4b0e1219-9e55-4380-ed11-b737bdc22087"
      },
      "execution_count": null,
      "outputs": [
        {
          "output_type": "stream",
          "name": "stderr",
          "text": [
            "Llama.generate: prefix-match hit\n"
          ]
        },
        {
          "output_type": "stream",
          "name": "stdout",
          "text": [
            "  Sure, here is a summary of the data in the provided Knowledge Graph:\n",
            "* There is an entrance camera called \"entrance_camera_1\" that is involved in or implementing a procedure.\n",
            "* The sensor associated with entrance camera 1 responds to stimuli and generates results.\n",
            "* An observation was made on July 7, 2023 at 14:11:08.675910 by the entrance camera, and the result is a value of 99.99137115478516 with a confidence level of 99.99137115478516.\n",
            "* The image associated with the observation is stored in the Semantic Repository under the path \"osh-camera/entrance_camera_1/32fec42735354991bfa27ba47b2a1758\".\n",
            "* There are 1 unsafe worker, 0 safe workers, and 0 indeterminate workers in the group associated with the entrance camera.\n",
            "* The hasRepoPath property is set to \"osh-camera/entrance_camera_1/32fec42735354991bfa27ba47b2a1758\" for the image associated with the observation.\n"
          ]
        }
      ]
    },
    {
      "cell_type": "markdown",
      "source": [
        "# triples"
      ],
      "metadata": {
        "id": "BW3xX0P2ODZC"
      }
    },
    {
      "cell_type": "code",
      "source": [
        "cam_3596 = Graph()\n",
        "cam_3596.parse(cam, format='ttl')\n",
        "ntriples = cam_3596.serialize(format=\"ntriples\")\n",
        "preprocess_mapping2 = {}\n",
        "\n",
        "for s, _, o in ontology.triples((None, RDFS.label, None)):\n",
        "    s = str(s)\n",
        "    if s == 'https://assist-iot.eu/ontologies/aiot_p2#':\n",
        "      continue\n",
        "    preprocess_mapping2['<'+s+'>']=o\n",
        "for s, _, o in sosa.triples((None, RDFS.label, None)):\n",
        "    s = str(s)\n",
        "    preprocess_mapping2['<'+s+'>']=o\n",
        "\n",
        "for key, val in preprocess_mapping2.items():\n",
        "  ntriples = ntriples.replace(key, val)\n",
        "ntriples = re.sub(\"<[^ ]*\\/([^ \\/]*)>\", \"\\g<1>\", ntriples)\n",
        "print(ntriples)"
      ],
      "metadata": {
        "colab": {
          "base_uri": "https://localhost:8080/"
        },
        "id": "N7x9haKhPBTI",
        "outputId": "2a96b33e-100f-4f96-fb57-e48697313c18"
      },
      "execution_count": null,
      "outputs": [
        {
          "output_type": "stream",
          "name": "stdout",
          "text": [
            "_:n476e8a83c5e949e7913aa9b8eef5b307b1 has result _:n476e8a83c5e949e7913aa9b8eef5b307b2 .\n",
            "_:n476e8a83c5e949e7913aa9b8eef5b307b2 22-rdf-syntax-ns#type Camera result .\n",
            "_:n476e8a83c5e949e7913aa9b8eef5b307b2 Has image _:n476e8a83c5e949e7913aa9b8eef5b307b3 .\n",
            "_:n476e8a83c5e949e7913aa9b8eef5b307b2 Has confidence \"99.99137115478516\"^^XMLSchema#decimal .\n",
            "_:n476e8a83c5e949e7913aa9b8eef5b307b1 22-rdf-syntax-ns#type Observation .\n",
            "_:n476e8a83c5e949e7913aa9b8eef5b307b3 22-rdf-syntax-ns#type Image .\n",
            "_:n476e8a83c5e949e7913aa9b8eef5b307b1 result time \"2023-07-07T14:11:08.675910\"^^XMLSchema#dateTime .\n",
            "entrance_camera_1 22-rdf-syntax-ns#type Sensor .\n",
            "_:n476e8a83c5e949e7913aa9b8eef5b307b2 Number of safe workers \"0\"^^XMLSchema#integer .\n",
            "entrance_camera_1 identifier \"entrance_camera_1\" .\n",
            "entrance_camera_1 made observation _:n476e8a83c5e949e7913aa9b8eef5b307b1 .\n",
            "_:n476e8a83c5e949e7913aa9b8eef5b307b3 Has Semantic Repository path \"osh-camera/entrance_camera_1/32fec42735354991bfa27ba47b2a1758\" .\n",
            "_:n476e8a83c5e949e7913aa9b8eef5b307b2 22-rdf-syntax-ns#type Result .\n",
            "_:n476e8a83c5e949e7913aa9b8eef5b307b2 Number of unsafe workers \"1\"^^XMLSchema#integer .\n",
            "_:n476e8a83c5e949e7913aa9b8eef5b307b2 aiot_p2#hasSafetyStatus Safety status – unsafe .\n",
            "_:n476e8a83c5e949e7913aa9b8eef5b307b2 Number of workers whose safety cannot be determined \"0\"^^XMLSchema#integer .\n",
            "\n"
          ]
        }
      ]
    },
    {
      "cell_type": "code",
      "source": [
        "user_prompt2 = \"Summarize only the data of the following graph, in sentences only. Focus summary as much as possible on the values at the end of each line. \\n \\n\" + ntriples\n",
        "system_prompt2 = \"You are a master in the field of knowledge graphs. You perfectly know turtle and you explain their contents using layman's terms.\"\n",
        "output = chat_answer(llm, system_prompt2, user_prompt2)\n",
        "print(output)"
      ],
      "metadata": {
        "colab": {
          "base_uri": "https://localhost:8080/"
        },
        "id": "evvhUhreQrAP",
        "outputId": "a39a27b6-761c-44e7-8826-33ac5c6ee539"
      },
      "execution_count": null,
      "outputs": [
        {
          "output_type": "stream",
          "name": "stderr",
          "text": [
            "Llama.generate: prefix-match hit\n"
          ]
        },
        {
          "output_type": "stream",
          "name": "stdout",
          "text": [
            "  Sure, here is a summary of the data in the graph:\n",
            "* _:n476e8a83c5e949e7913aa9b8eef5b307b1 has result _:n476e8a83c5e949e7913aa9b8eef5b307b2.\n",
            "* _:n476e8a83c5e949e7913aa9b8eef5b307b2 is a Camera with result type \"Result\".\n",
            "* _:n476e8a83c5e949e7913aa9b8eef5b307b3 is an Image with result type \"Image\".\n",
            "* _:n476e8a83c5e949e7913aa9b8eef5b307b1 has a time stamp of \"2023-07-07T14:11:08.675910\" and confidence level of \"99.99137115478516\".\n",
            "* Entrance camera 1 is a Sensor with no unsafe workers, made an observation of _:n476e8a83c5e949e7913aa9b8eef5b307b1.\n",
            "* _:n476e8a83c5e949e7913aa9b8eef5b307b2 has a Semantic Repository path of \"osh-camera/entrance_camera_1/32fec42735354991bfa27ba47b2a1758\".\n",
            "* _:n476e8a83c5e949e7913aa9b8eef5b307b2 has a number of unsafe workers of \"1\" and a number of workers whose safety cannot be determined of \"0\".\n"
          ]
        }
      ]
    },
    {
      "cell_type": "markdown",
      "source": [
        "# Better attempts"
      ],
      "metadata": {
        "id": "eNwhgBLHQEX4"
      }
    },
    {
      "cell_type": "markdown",
      "source": [
        "https://archivo.dbpedia.org/info?o=http://www.w3.org/2000/01/rdf-schema#"
      ],
      "metadata": {
        "id": "A3cXYzxf27eU"
      }
    },
    {
      "cell_type": "code",
      "source": [
        "from copy import deepcopy\n",
        "from collections import defaultdict\n",
        "from itertools import product"
      ],
      "metadata": {
        "id": "ALZpMrNcvwrC"
      },
      "execution_count": 27,
      "outputs": []
    },
    {
      "cell_type": "code",
      "source": [
        "cam_graph2 = Graph().parse(cam, format='ttl')\n",
        "cam_required_data = list()\n",
        "for s, p, o in cam_graph2.triples((None, None, None)):\n",
        "    for element in [s,p,o]:\n",
        "      if 'http' in str(element):\n",
        "        cam_required_data.append(element)\n",
        "cam_required_data = list(set(cam_required_data))"
      ],
      "metadata": {
        "id": "nwIhNmhUonvh"
      },
      "execution_count": 51,
      "outputs": []
    },
    {
      "cell_type": "code",
      "source": [
        "pilot2 = Graph().parse('pilot2.ttl', format='ttl')\n",
        "sosa = Graph().parse('sosa.ttl', format='ttl')\n",
        "rdfs = Graph().parse('rdfs.ttl', format='ttl')\n",
        "rdf = Graph().parse('rdf.ttl', format='ttl')\n",
        "owl = Graph().parse('owl.ttl', format='ttl')\n",
        "#schema = Graph().parse('schemaorg-current-https.ttl', format='ttl')"
      ],
      "metadata": {
        "id": "oeHF2I313fp2"
      },
      "execution_count": 52,
      "outputs": []
    },
    {
      "cell_type": "code",
      "source": [
        "get_uri = lambda x: '/'.join(x.split('/')[:-1])\n",
        "\n",
        "ontologies_dict = defaultdict(lambda: pilot2)\n",
        "ontologies_dict['https://assist-iot.eu/ontologies']=pilot2\n",
        "\n",
        "ontologies_dict['http://www.w3.org/ns/sosa']=sosa\n",
        "ontologies_dict['http://www.w3.org/1999/02/22-rdf-syntax-ns#']=rdf\n",
        "ontologies_dict['http://www.w3.org/2000/01/rdf-schema#']=rdfs\n",
        "ontologies_dict['http://www.w3.org/2002/07/owl#']=owl\n",
        "#ontologies_dict['http://schema.org']=schema\n",
        "ontologies_graph = Graph()\n",
        "\n",
        "for data_required in cam_required_data:\n",
        "  relevant_ontology = ontologies_dict[get_uri(data_required)]\n",
        "  for s, p, o in relevant_ontology.triples((data_required, None, None)):\n",
        "    ontologies_graph.add((s,p,o))\n",
        "for s, p, o in relevant_ontology.triples((None, SKOS.definition, None)):\n",
        "  ontologies_graph.remove((s,p,o))"
      ],
      "metadata": {
        "id": "ZS_74zBjt_X8"
      },
      "execution_count": 53,
      "outputs": []
    },
    {
      "cell_type": "code",
      "source": [
        "x=ontologies_graph.serialize()\n",
        "x=re.sub(\"<[^ ]*\\/([^ \\/]*)>\", \"\\g<1>\", x)\n",
        "ontology_text = x\n",
        "ontology_text='\\n'.join(ontology_text.split('\\n')[7:])\n",
        "input_text = cam_graph2.serialize()\n",
        "input_text=re.sub(\"<[^ ]*\\/([^ \\/]*)>\", \"\\g<1>\", input_text)\n",
        "input_text='\\n'.join(input_text.split('\\n')[5:])\n",
        "print(ontology_text)"
      ],
      "metadata": {
        "colab": {
          "base_uri": "https://localhost:8080/"
        },
        "id": "a1Z7wb5V1uG3",
        "outputId": "a612f498-6f25-49a3-c38f-93b5d1f47bba"
      },
      "execution_count": 70,
      "outputs": [
        {
          "output_type": "stream",
          "name": "stdout",
          "text": [
            "sosa:Observation a rdfs:Class,\n",
            "        owl:Class ;\n",
            "    rdfs:label \"Observation\"@en ;\n",
            "    rdfs:comment \"Act of carrying out an (Observation) Procedure to estimate or calculate a value of a property of a FeatureOfInterest. Links to a Sensor to describe what made the Observation and how; links to an ObservableProperty to describe what the result is an estimate of, and to a FeatureOfInterest to detail what that property was associated with.\"@en ;\n",
            "    rdfs:isDefinedBy sosa: ;\n",
            "    skos:definition \"Act of carrying out an (Observation) Procedure to estimate or calculate a value of a property of a FeatureOfInterest. Links to a Sensor to describe what made the Observation and how; links to an ObservableProperty to describe what the result is an estimate of, and to a FeatureOfInterest to detail what that property was associated with.\"@en ;\n",
            "    skos:example \"The activity of estimating the intensity of an Earthquake using the Mercalli intensity scale is an Observation as is measuring the moment magnitude, i.e., the energy released by said earthquake.\"@en .\n",
            "\n",
            "sosa:Result a rdfs:Class,\n",
            "        owl:Class ;\n",
            "    rdfs:label \"Result\"@en ;\n",
            "    rdfs:comment \"The Result of an Observation, Actuation, or act of Sampling. To store an observation's simple result value one can use the hasSimpleResult property.\"@en ;\n",
            "    rdfs:isDefinedBy sosa: ;\n",
            "    skos:definition \"The Result of an Observation, Actuation, or act of Sampling. To store an observation's simple result value one can use the hasSimpleResult property.\"@en ;\n",
            "    skos:example \"The value 20 as the height of a certain tree together with the unit, e.g., Meter.\"@en .\n",
            "\n",
            "sosa:Sensor a rdfs:Class,\n",
            "        owl:Class ;\n",
            "    rdfs:label \"Sensor\"@en ;\n",
            "    rdfs:comment \"Device, agent (including humans), or software (simulation) involved in, or implementing, a Procedure. Sensors respond to a stimulus, e.g., a change in the environment, or input data composed from the results of prior Observations, and generate a Result. Sensors can be hosted by Platforms.\"@en ;\n",
            "    rdfs:isDefinedBy sosa: ;\n",
            "    skos:definition \"Device, agent (including humans), or software (simulation) involved in, or implementing, a Procedure. Sensors respond to a stimulus, e.g., a change in the environment, or input data composed from the results of prior Observations, and generate a Result. Sensors can be hosted by Platforms.\"@en ;\n",
            "    skos:example \"Accelerometers, gyroscopes, barometers, magnetometers, and so forth are Sensors that are typically mounted on a modern smart phone (which acts as Platform). Other examples of sensors include the human eyes.\"@en .\n",
            "\n",
            "sosa:hasResult a owl:ObjectProperty ;\n",
            "    rdfs:label \"has result\"@en ;\n",
            "    ns1:domainIncludes sosa:Actuation,\n",
            "        sosa:Observation,\n",
            "        sosa:Sampling ;\n",
            "    ns1:rangeIncludes sosa:Result,\n",
            "        sosa:Sample ;\n",
            "    rdfs:comment \"Relation linking an Observation or Actuation or act of Sampling and a Result or Sample.\"@en ;\n",
            "    rdfs:isDefinedBy sosa: ;\n",
            "    owl:inverseOf sosa:isResultOf ;\n",
            "    skos:definition \"Relation linking an Observation or Actuation or act of Sampling and a Result or Sample.\"@en .\n",
            "\n",
            "sosa:madeObservation a owl:ObjectProperty ;\n",
            "    rdfs:label \"made observation\"@en ;\n",
            "    ns1:domainIncludes sosa:Sensor ;\n",
            "    ns1:rangeIncludes sosa:Observation ;\n",
            "    rdfs:comment \"Relation between a Sensor and an Observation made by the Sensor.\"@en ;\n",
            "    rdfs:isDefinedBy sosa: ;\n",
            "    owl:inverseOf sosa:madeBySensor ;\n",
            "    skos:definition \"Relation between a Sensor and an Observation made by the Sensor.\"@en .\n",
            "\n",
            "sosa:resultTime a owl:DatatypeProperty ;\n",
            "    rdfs:label \"result time\"@en ;\n",
            "    ns1:domainIncludes sosa:Actuation,\n",
            "        sosa:Observation,\n",
            "        sosa:Sampling ;\n",
            "    rdfs:comment \"The result time is the instant of time when the Observation, Actuation or Sampling activity was completed.\"@en ;\n",
            "    rdfs:isDefinedBy sosa: ;\n",
            "    rdfs:range xsd:dateTime ;\n",
            "    skos:definition \"The result time is the instant of time when the Observation, Actuation or Sampling activity was completed.\"@en .\n",
            "\n",
            "aiot_p2#CameraResult a owl:Class ;\n",
            "    rdfs:label \"Camera result\"@en ;\n",
            "    rdfs:comment \"Result of an observation from a camera on the construction site.\"@en ;\n",
            "    rdfs:subClassOf sosa:Result .\n",
            "\n",
            "aiot_p2#hasConfidence a owl:DatatypeProperty ;\n",
            "    rdfs:label \"Has confidence\"@en ;\n",
            "    rdfs:comment \"Indicates the confidence of the method (e.g., a machine learning model) that made the decision\"@en ;\n",
            "    rdfs:range xsd:decimal .\n",
            "\n",
            "aiot_p2#hasImage a owl:ObjectProperty ;\n",
            "    rdfs:label \"Has image\"@en ;\n",
            "    rdfs:range aiot_p2#Image .\n",
            "\n",
            "aiot_p2#hasRepoPath a owl:DatatypeProperty ;\n",
            "    rdfs:label \"Has Semantic Repository path\"@en ;\n",
            "    rdfs:comment \"Full path to the object in the Semantic Repository. Format should be \\\"namespace/model/version\\\".\"@en ;\n",
            "    rdfs:range xsd:string .\n",
            "\n",
            "aiot_p2#hasSafetyStatus a owl:ObjectProperty ;\n",
            "    rdfs:range aiot_p2#SafetyStatus .\n",
            "\n",
            "aiot_p2#indeterminateWorkersNum a owl:DatatypeProperty ;\n",
            "    rdfs:label \"Number of workers whose safety cannot be determined\"@en ;\n",
            "    rdfs:range xsd:integer ;\n",
            "    rdfs:subPropertyOf aiot_p2#workersNum .\n",
            "\n",
            "aiot_p2#safeWorkersNum a owl:DatatypeProperty ;\n",
            "    rdfs:label \"Number of safe workers\"@en ;\n",
            "    rdfs:range xsd:integer ;\n",
            "    rdfs:subPropertyOf aiot_p2#workersNum .\n",
            "\n",
            "aiot_p2#status_unsafe a owl:NamedIndividual,\n",
            "        aiot_p2#SafetyStatus ;\n",
            "    rdfs:label \"Safety status – unsafe\"@en ;\n",
            "    rdfs:comment \"At least one worker in the group is not safe.\"@en .\n",
            "\n",
            "aiot_p2#unsafeWorkersNum a owl:DatatypeProperty ;\n",
            "    rdfs:label \"Number of unsafe workers\"@en ;\n",
            "    rdfs:range xsd:integer ;\n",
            "    rdfs:subPropertyOf aiot_p2#workersNum .\n",
            "\n",
            "aiot_p2#Image a owl:Class ;\n",
            "    rdfs:label \"Image\"@en ;\n",
            "    rdfs:comment \"Image stored in the Semantic Repository. Use the hasRepoPath property to indicate where to find the image.\"@en .\n",
            "\n",
            "\n"
          ]
        }
      ]
    },
    {
      "cell_type": "code",
      "source": [
        "SP1= \"You are a master in the field of knowledge graphs. You perfectly know turtle and you know how to explain what is written in turtle format.\"\n",
        "SP2= \"You are a master in the field of knowledge graphs. You perfectly know turtle and you explain their contents without knowledge graph specific linguistics. Use the following ontology to understand the data.\"\n",
        "SP3= \"You are a master in the field of knowledge graphs. You perfectly know turtle and you explain their contents using layman's terms. Use the following ontology to understand the data.\"\n",
        "IP1= \"Explain this graph to me.\\n\\n\"\n",
        "IP2= \"Explain only the data in the following graph.\\n\\n\"\n",
        "IP3= \"Summarize only the data in the following graph.\\n\\n\"\n",
        "IP4= \"Summarize only the data of the following graph, in sentences only.\\n\\n\"\n",
        "IP5= \"Summarize only the data of the following graph, in sentences only. Focus on the values at the end of each line.\\n\\n\"\n",
        "IP6= \"Summarize only the data of the following graph, in sentences only. Focus as much as possible on the values at the end of each line.\\n\\n\"\n",
        "IP7= \"Summarize only the data of the following graph, in sentences only. Focus summary as much as possible on the values at the end of each line.\\n\\n\"\n",
        "System_prompts = [SP1, SP2, SP3]\n",
        "User_prompts = [IP1, IP2, IP3, IP4, IP5, IP6, IP7]"
      ],
      "metadata": {
        "id": "BN8IF8wDGNNr"
      },
      "execution_count": 71,
      "outputs": []
    },
    {
      "cell_type": "code",
      "source": [
        "output = chat_answer(llm, SP1+ontology_text, IP1+input_text)\n",
        "print(output)"
      ],
      "metadata": {
        "colab": {
          "base_uri": "https://localhost:8080/"
        },
        "id": "J6ITOzVuI5OR",
        "outputId": "02776948-906f-4ea5-ad60-72bea6e87f25"
      },
      "execution_count": 74,
      "outputs": [
        {
          "output_type": "stream",
          "name": "stdout",
          "text": [
            "  This graph represents a knowledge graph that describes various concepts related to construction site safety. Here's an explanation of each class and property in the graph:\n",
            "* `entrance_camera_1`: A sensor that made an observation (represented by the `sosa:madeObservation` property) at a specific time (`sosa:resultTime`). The observation has a result (represented by the `sosa:hasResult` property), which is a `sosa:Result` object. The result has a confidence level (`ns1:hasConfidence`) and an image (`ns1:hasImage`) stored in a semantic repository (`ns1:hasRepoPath`). The observation also has safety status information (`ns1:hasSafetyStatus`) and the number of workers whose safety cannot be determined (`aiot_p2#indeterminateWorkersNum`).\n",
            "* `sosa:Sensor`: A class that represents a device, agent (including humans), or software (simulation) involved in, or implementing, a procedure. Sensors respond to a stimulus and generate a result.\n",
            "* `sosa:Observation`: A class that represents an act of carrying out a procedure to estimate or calculate a value of a property of a feature of interest. Observations are made by sensors and have a result.\n",
            "* `sosa:Result`: A class that represents the simple result value of an observation. Results can be stored using the `hasSimpleResult` property.\n",
            "* `ns1:Image`: A class that represents an image stored in a semantic repository. Images have a path to their location in the repository (`ns1:hasRepoPath`).\n",
            "* `ns1:CameraResult`: A subclass of `sosa:Result` that represents the result of an observation from a camera on a construction site. Camera results have a confidence level and an image.\n",
            "* `ns1:status_unsafe`: A subclass of `ns1:SafetyStatus` that indicates at least one worker in the group is not safe.\n",
            "* `aiot_p2#Image`: An object property that represents the image stored in the semantic repository.\n",
            "* `aiot_p2#hasConfidence`: An object property that represents the confidence level of the method (e.g., a machine learning model) that made the decision.\n",
            "* `aiot_p2#hasRepoPath`: An object property that represents the full path to the object in the semantic repository. The format of the path should be \"namespace/model/version\".\n",
            "* `aiot_p2#hasSafetyStatus`: An object property that represents the safety status of the workers.\n",
            "* `aiot_p2#indeterminateWorkersNum`: An object property that represents the number of workers whose safety cannot be determined.\n",
            "* `aiot_p2#safeWorkersNum`: An object property that represents the number of safe workers.\n",
            "In summary, this graph represents a construction site with a camera (represented by `entrance_camera_1`) that made an observation at a specific time (`sosa:resultTime`). The observation has a result (represented by `sosa:hasResult`) and is linked to a semantic repository (`ns1:hasRepoPath`) where the image can be found. The observation also has safety status information (`ns1:hasSafetyStatus`) and the number of workers whose safety cannot be determined (`aiot_p2#indeterminateWorkersNum`). Additionally, the graph includes classes and properties for representing the confidence level of the method that made the decision (`aiot_p2#hasConfidence`) and the safety status of the workers (`ns1:status_unsafe`).\n"
          ]
        }
      ]
    },
    {
      "cell_type": "code",
      "source": [
        "for sp, up in product(System_prompts, User_prompts):\n",
        "  output = chat_answer(llm, sp+ontology_text, up+input_text)\n",
        "  print(output)\n",
        "  print()\n",
        "  print()"
      ],
      "metadata": {
        "colab": {
          "base_uri": "https://localhost:8080/"
        },
        "id": "_i4nJLzSQFqv",
        "outputId": "389ce517-1b23-488c-8cd3-da4cd0866a58"
      },
      "execution_count": 75,
      "outputs": [
        {
          "output_type": "stream",
          "name": "stderr",
          "text": [
            "Llama.generate: prefix-match hit\n"
          ]
        },
        {
          "output_type": "stream",
          "name": "stdout",
          "text": [
            "  This graph represents a knowledge graph that describes various concepts related to construction site safety. Here's an explanation of each class and property in the graph:\n",
            "* `entrance_camera_1`: This is a sensor that made an observation at a specific time (`2023-07-07T14:11:08.675910`). The observation has a result, which is a `CameraResult`. The `CameraResult` has a confidence value of 99.99137115478516 and an image stored in the Semantic Repository with the path `\"osh-camera/entrance_camera_1/32fec42735354991bfa27ba47b2a1758\"`. The `CameraResult` also has a safety status of `status_unsafe`, indicating that at least one worker in the group is not safe.\n",
            "* `sosa`: This is a class representing the Observation class. It has properties for the time of the observation (`resultTime`), the sensor that made the observation (`madeBySensor`), and the result of the observation (`hasResult`).\n",
            "* `sos`: This is a class representing the Result class. It has properties for the confidence value (`hasConfidence`) and the image associated with the result (`hasImage`). The `hasImage` property links to an `Image` class, which represents the actual image stored in the Semantic Repository.\n",
            "* `ns1`: This is a namespace prefix used to identify classes and properties related to sensors, observations, and results.\n",
            "* `xsd`: This is a namespace prefix used to represent XML Schema data types, such as `dateTime` for the time of the observation.\n",
            "In summary, this graph represents a construction site with a single entrance camera that made an observation at a specific time, resulting in a `CameraResult` with a confidence value and an image stored in the Semantic Repository. The safety status of the workers is also indicated, with at least one worker considered unsafe.\n",
            "\n",
            "\n"
          ]
        },
        {
          "output_type": "stream",
          "name": "stderr",
          "text": [
            "Llama.generate: prefix-match hit\n"
          ]
        },
        {
          "output_type": "stream",
          "name": "stdout",
          "text": [
            "  This graph represents a set of classes and properties in the domain of construction site safety monitoring. Here is an explanation of each class and property:\n",
            "* `sosa:Sensor`: Represents a device or software that measures or senses something in the construction site environment, such as temperature, humidity, or motion.\n",
            "* `ns2:identifier`: A unique identifier for each sensor, used to distinguish it from other sensors.\n",
            "* `sosa:madeObservation`: The act of observing or measuring something using a sensor. This property links a sensor to an observation.\n",
            "* `sosa:hasResult`: The result of an observation made by a sensor. This property links an observation to a result.\n",
            "* `ns1:CameraResult`: A result that is related to an image captured by a camera on the construction site.\n",
            "* `ns1:hasConfidence`: Indicates the confidence level of the method (e.g., a machine learning model) that made the decision.\n",
            "* `ns1:hasImage`: The image associated with the observation.\n",
            "* `ns1:hasRepoPath`: The full path to the object in the Semantic Repository, where the image is stored.\n",
            "* `ns1:hasSafetyStatus`: The safety status of the workers in the area monitored by the sensor.\n",
            "* `ns1:indeterminateWorkersNum`: The number of workers whose safety cannot be determined.\n",
            "* `ns1:safeWorkersNum`: The number of safe workers in the area monitored by the sensor.\n",
            "* `ns1:unsafeWorkersNum`: The number of unsafe workers in the area monitored by the sensor.\n",
            "* `sosa:resultTime`: The time at which the observation was made.\n",
            "\n",
            "The graph shows one sensor (`entrance_camera_1`) with one observation (`2023-07-07T14:11:08.675910`), which has a result of `ns1:CameraResult`, and is associated with an image stored in the Semantic Repository with the path `\"osh-camera/entrance_camera_1/32fec42735354991bfa27ba47b2a1758\"`. The observation has a safety status of `ns1:status_unsafe`, and the number of unsafe workers in the area is 1.\n",
            "\n",
            "\n"
          ]
        },
        {
          "output_type": "stream",
          "name": "stderr",
          "text": [
            "Llama.generate: prefix-match hit\n"
          ]
        },
        {
          "output_type": "stream",
          "name": "stdout",
          "text": [
            "  Here is a summary of the data in the graph:\n",
            "* There are three classes: `sosa:Sensor`, `sosa:Observation`, and `sosa:Result`.\n",
            "* The `entrance_camera_1` sensor made an observation on July 7, 2023 at 2:11:08 PM with a result that has confidence of 99.99137115478516%.\n",
            "* The observation was made using a camera, and the image is stored in the Semantic Repository with the path \"osh-camera/entrance_camera_1/32fec42735354991bfa27ba47b2a1758\".\n",
            "* The observation has an unsafe safety status, and there are 1 indeterminate worker and 0 safe workers in the group.\n",
            "* The result time is July 7, 2023 at 2:11:08 PM according to the xsd:dateTime data type.\n",
            "\n",
            "\n"
          ]
        },
        {
          "output_type": "stream",
          "name": "stderr",
          "text": [
            "Llama.generate: prefix-match hit\n"
          ]
        },
        {
          "output_type": "stream",
          "name": "stdout",
          "text": [
            "  Here is a summary of the data in the graph in sentences:\n",
            "* Entrance camera 1 is a sensor with identifier \"entrance_camera_1\".\n",
            "* The sensor made an observation, which resulted in a result.\n",
            "* The result has a confidence level of 99.99137115478516%.\n",
            "* The result also has an image stored in the Semantic Repository with identifier \"osh-camera/entrance_camera_1/32fec42735354991bfa27ba47b2a1758\".\n",
            "* The sensor's safety status is unsafe, with one worker not safe.\n",
            "* The number of unsafe workers is 1.\n",
            "* The date and time when the observation was made is July 7, 2023, at 2:11:08 PM.\n",
            "\n",
            "\n"
          ]
        },
        {
          "output_type": "stream",
          "name": "stderr",
          "text": [
            "Llama.generate: prefix-match hit\n"
          ]
        },
        {
          "output_type": "stream",
          "name": "stdout",
          "text": [
            "  Sure! Here is a summary of the data in the graph, focusing on the values at the end of each line:\n",
            "* entrance_camera_1 is a sensor with identifier \"entrance_camera_1\".\n",
            "* The sensor made an observation, which resulted in a result with label \"Camera result\" and confidence level of 99.99137115478516%.\n",
            "* The result has an image with path \"osh-camera/entrance_camera_1/32fec42735354991bfa27ba47b2a1758\".\n",
            "* The sensor's safety status is unsafe, with 1 worker whose safety cannot be determined.\n",
            "* The number of safe workers is 0, and the number of unsafe workers is 1.\n",
            "* The observation was made on July 7, 2023 at 2:11:08 PM (UTC) with a result time of \"2023-07-07T14:11:08.675910\"^^xsd:dateTime.\n",
            "\n",
            "\n"
          ]
        },
        {
          "output_type": "stream",
          "name": "stderr",
          "text": [
            "Llama.generate: prefix-match hit\n"
          ]
        },
        {
          "output_type": "stream",
          "name": "stdout",
          "text": [
            "  Sure, here is a summary of the data in the graph:\n",
            "* entrance_camera_1 is a sensor with identifier \"entrance_camera_1\".\n",
            "* The sensor made an observation, which resulted in a result.\n",
            "* The result has a confidence level of 99.99137115478516%.\n",
            "* The result also has an image associated with it, which can be found in the Semantic Repository with the path \"osh-camera/entrance_camera_1/32fec42735354991bfa27ba47b2a1758\".\n",
            "* The sensor's safety status is unsafe, with 1 worker whose safety cannot be determined.\n",
            "* The number of safe workers is 0, and the number of unsafe workers is 1.\n",
            "* The observation was made on July 7, 2023 at 2:11:08 PM (UTC) with a timestamp of \"2023-07-07T14:11:08.675910\"^^xsd:dateTime.\n",
            "\n",
            "\n"
          ]
        },
        {
          "output_type": "stream",
          "name": "stderr",
          "text": [
            "Llama.generate: prefix-match hit\n"
          ]
        },
        {
          "output_type": "stream",
          "name": "stdout",
          "text": [
            "  Here is a summary of the data in the graph, focusing on the values at the end of each line:\n",
            "* entrance_camera_1 is a sensor with identifier \"entrance_camera_1\".\n",
            "* The sensor made an observation, which resulted in a result with label \"Camera result\" and confidence of 99.99137115478516%.\n",
            "* The result has an image with path \"osh-camera/entrance_camera_1/32fec42735354991bfa27ba47b2a1758\".\n",
            "* The sensor's safety status is \" unsafe\", with 1 worker whose safety cannot be determined.\n",
            "* The number of safe workers is 0, and the number of unsafe workers is 1.\n",
            "* The observation was made on July 7, 2023 at 2:11:08 PM with a timestamp of \"2023-07-07T14:11:08.675910\"^^xsd:dateTime.\n",
            "\n",
            "\n"
          ]
        },
        {
          "output_type": "stream",
          "name": "stderr",
          "text": [
            "Llama.generate: prefix-match hit\n"
          ]
        },
        {
          "output_type": "stream",
          "name": "stdout",
          "text": [
            "  This graph represents a knowledge graph that describes various entities and their relationships in the context of construction site safety monitoring. Here's an explanation of each entity and their properties:\n",
            "1. entrance_camera_1: This is a sensor entity, represented by the class sosa:Sensor, which is involved in making observations. It has an identifier \"entrance_camera_1\" and is associated with various properties.\n",
            "2. Observation: The observation entity is represented by the class sosa:Observation, which is the result of a sensor's activity. Each observation has a unique identifier, a result (which can be a simple value or a complex object), and a time stamp indicating when the observation was made.\n",
            "3. Result: The result entity is represented by the class sosa:Result, which is the outcome of an observation. A result can be a simple value or a complex object, and it may have confidence information associated with it.\n",
            "4. CameraResult: This is a sub-class of sosa:Result, which represents the result of an observation from a camera on the construction site. It has a unique identifier and a label \"Camera result\".\n",
            "5. Has Confidence: The hasConfidence property is a datatype property that indicates the confidence level associated with a method (e.g., a machine learning model) that made a decision. It has a range of xsd:decimal values.\n",
            "6. Has Image: The hasImage property is an object property that links an observation to an image stored in the Semantic Repository. It has a range of aiot_p2#Image.\n",
            "7. Has RepofPath: The hasRepoPath property is a datatype property that specifies the full path to the object in the Semantic Repository. It has a range of xsd:string values.\n",
            "8. Safe Workers Num: The safeWorkersNum property is a datatype property that represents the number of safe workers on the construction site. It is a sub-property of sosa:workersNum.\n",
            "9. Unsafe Workers Num: The unsafeWorkersNum property is a datatype property that represents the number of unsafe workers on the construction site. It is a sub-property of sosa:workersNum.\n",
            "10. Image: The image entity is represented by the class aiot_p2#Image, which is stored in the Semantic Repository. It has a unique identifier and may have confidence information associated with it.\n",
            "11. status_unsafe: The status_unsafe property is an instance of ns1:SafetyStatus, which indicates that at least one worker in the group is not safe.\n",
            "In summary, this graph represents various entities involved in construction site safety monitoring, including sensors, observations, results, and images. It also defines properties such as confidence levels, image paths, and worker safety statuses.\n",
            "\n",
            "\n"
          ]
        },
        {
          "output_type": "stream",
          "name": "stderr",
          "text": [
            "Llama.generate: prefix-match hit\n"
          ]
        },
        {
          "output_type": "stream",
          "name": "stdout",
          "text": [
            "  This knowledge graph describes a set of entities and their relationships in the context of construction site safety monitoring. The graph includes the following classes and properties:\n",
            "* sosa:Sensor - represents a device or software that collects data on the construction site.\n",
            "* sosa:Observation - represents an act of collecting data using a sensor.\n",
            "* sosa:Result - represents the outcome of an observation, such as a measurement or calculation.\n",
            "* sosa:hasResult - links an observation to its corresponding result.\n",
            "* sosa:madeObservation - links a sensor to an observation made by that sensor.\n",
            "* sosa:resultTime - represents the time at which an observation was made.\n",
            "* aiot_p2#CameraResult - represents the result of an observation from a camera on the construction site.\n",
            "* aiot_p2#hasConfidence - indicates the confidence level of a machine learning model that made a decision.\n",
            "* aiot_p2#hasImage - links an observation to its corresponding image.\n",
            "* aiot_p2#hasRepoPath - represents the full path to an object in the Semantic Repository.\n",
            "* aiot_p2#hasSafetyStatus - links an observation to its safety status.\n",
            "* aiot_p2#indeterminateWorkersNum - represents the number of workers whose safety cannot be determined.\n",
            "* aiot_p2#safeWorkersNum - represents the number of safe workers on the construction site.\n",
            "* aiot_p2#unsafeWorkersNum - represents the number of unsafe workers on the construction site.\n",
            "The graph contains five observations, each made by a different sensor: entrance_camera_1, entrance_camera_2, entrance_camera_3, exit_camera_1, and exit_camera_2. Each observation has a result, which is represented as a value or measurement, and a result time. The graph also includes information on the confidence level of a machine learning model that made a decision, as well as the number of safe and unsafe workers on the construction site.\n",
            "In summary, this knowledge graph provides a structured representation of data related to construction site safety monitoring, including the sensors used to collect data, the observations made by those sensors, and the results of those observations. It also includes information on the confidence level of machine learning models and the number of safe and unsafe workers on the construction site.\n",
            "\n",
            "\n"
          ]
        },
        {
          "output_type": "stream",
          "name": "stderr",
          "text": [
            "Llama.generate: prefix-match hit\n"
          ]
        },
        {
          "output_type": "stream",
          "name": "stdout",
          "text": [
            "  Here is a summary of the data in the graph, using the knowledge graph vocabulary:\n",
            "* There are three classes: `sosa:Sensor`, `sosa:Observation`, and `sosa:Result`.\n",
            "* The `sosa:Sensor` class has one instance, `entrance_camera_1`, with a unique identifier (`ns2:identifier`) and a set of observations (`sosa:madeObservation`).\n",
            "* Each observation is associated with a result (`sosa:hasResult`), which in turn has a confidence value (`ns1:hasConfidence`) and an image (`ns1:hasImage`). The image is stored in the Semantic Repository with a path (`ns1:hasRepoPath`).\n",
            "* The `sosa:Observation` class has two instances, each associated with a sensor (`sosa:madeBySensor`) and a result (`sosa:hasResult`).\n",
            "* The `sosa:Result` class has three instances, each with a unique identifier (`ns1:identifier`) and a confidence value (`ns1:hasConfidence`). Two of the results have an image associated with them (`ns1:hasImage`).\n",
            "* The `ns1:hasRepoPath` property is used to indicate the location of the image in the Semantic Repository.\n",
            "* The `sosa:resultTime` property indicates the time when the observation was completed (`xsd:dateTime`).\n",
            "* The `ns1:indeterminateWorkersNum`, `ns1:safeWorkersNum`, and `ns1:unsafeWorkersNum` properties are used to track the number of workers whose safety status is unknown, safe, or unsafe, respectively.\n",
            "\n",
            "\n"
          ]
        },
        {
          "output_type": "stream",
          "name": "stderr",
          "text": [
            "Llama.generate: prefix-match hit\n"
          ]
        },
        {
          "output_type": "stream",
          "name": "stdout",
          "text": [
            "  Here is a summary of the data in the graph, in sentences:\n",
            "* Entrance camera 1 is a sensor with identifier \"entrance_camera_1\".\n",
            "* The sensor made an observation on July 7, 2023 at 2:11:08 PM, which resulted in a result.\n",
            "* The result has a confidence level of 99.99137115478516%.\n",
            "* The result also has an image associated with it, which can be found in the Semantic Repository with the path \"osh-camera/entrance_camera_1/32fec42735354991bfa27ba47b2a1758\".\n",
            "* The sensor's safety status is unsafe, as at least one worker in the group is not safe.\n",
            "* The number of unsafe workers is 1.\n",
            "* The observation was made on July 7, 2023 at 2:11:08 PM, according to the result time.\n",
            "\n",
            "\n"
          ]
        },
        {
          "output_type": "stream",
          "name": "stderr",
          "text": [
            "Llama.generate: prefix-match hit\n"
          ]
        },
        {
          "output_type": "stream",
          "name": "stdout",
          "text": [
            "  Here is a summary of the data in the graph, focusing on the values at the end of each line:\n",
            "* \"entrance_camera_1\" is a sensor with an identifier \"entrance_camera_1\".\n",
            "* The sensor made an observation with a result that has a confidence level of 99.99137115478516%.\n",
            "* The observation has an image with a repository path of \"osh-camera/entrance_camera_1/32fec42735354991bfa27ba47b2a1758\".\n",
            "* The sensor's safety status is \"ns1:status_unsafe\".\n",
            "* The number of workers whose safety cannot be determined is 0.\n",
            "* The number of safe workers is also 0.\n",
            "* The number of unsafe workers is 1.\n",
            "* The observation was made on July 7, 2023 at 2:11:08 PM with a result time of \"2023-07-07T14:11:08.675910\"^^xsd:dateTime.\n",
            "\n",
            "\n"
          ]
        },
        {
          "output_type": "stream",
          "name": "stderr",
          "text": [
            "Llama.generate: prefix-match hit\n"
          ]
        },
        {
          "output_type": "stream",
          "name": "stdout",
          "text": [
            "  Here is a summary of the data in the graph, focusing on the values at the end of each line:\n",
            "* \"entrance_camera_1\" is a sensor with an identifier \"entrance_camera_1\".\n",
            "* The sensor made an observation, which resulted in a result with a label \"Camera Result\".\n",
            "* The confidence of the method that made the decision is 99.99137115478516.\n",
            "* The image associated with the observation is stored in the Semantic Repository with a path \"osh-camera/entrance_camera_1/32fec42735354991bfa27ba47b2a1758\".\n",
            "* The safety status of the workers is \"unsafe\", with 1 worker whose safety cannot be determined.\n",
            "* The number of safe workers is 0, and the number of unsafe workers is 1.\n",
            "* The result time of the observation is \"2023-07-07T14:11:08.675910\" (July 7, 2023, at 2:11:08 PM).\n",
            "\n",
            "\n"
          ]
        },
        {
          "output_type": "stream",
          "name": "stderr",
          "text": [
            "Llama.generate: prefix-match hit\n"
          ]
        },
        {
          "output_type": "stream",
          "name": "stdout",
          "text": [
            "  Here is a summary of the data in the graph, focusing on the values at the end of each line:\n",
            "* \"entrance_camera_1\" is a sensor with an identifier \"entrance_camera_1\".\n",
            "* The sensor made an observation with a result that has a confidence level of 99.99137115478516%.\n",
            "* The observation has an image with a repository path of \"osh-camera/entrance_camera_1/32fec42735354991bfa27ba47b2a1758\".\n",
            "* The sensor's safety status is \"ns1:status_unsafe\".\n",
            "* The number of workers whose safety cannot be determined is 0.\n",
            "* The number of safe workers is also 0.\n",
            "* The number of unsafe workers is 1.\n",
            "* The observation's result time is \"2023-07-07T14:11:08.675910\"^^xsd:dateTime.\n",
            "\n",
            "\n"
          ]
        },
        {
          "output_type": "stream",
          "name": "stderr",
          "text": [
            "Llama.generate: prefix-match hit\n"
          ]
        },
        {
          "output_type": "stream",
          "name": "stdout",
          "text": [
            "  This graph represents a knowledge graph that describes various entities and their relationships in the context of a construction site. Here's an explanation of each entity and their properties:\n",
            "1. entrance_camera_1: This is a sensor entity that is responsible for making observations at the entrance of a construction site. It has an identifier \"entrance_camera_1\" and is connected to other entities through the madeObservation property.\n",
            "2. Observation: This is a class that represents an observation made by a sensor entity. An observation can have a result, which is represented by the Result class, and can also have a time stamp represented by the resultTime property.\n",
            "3. Result: This is a class that represents the result of an observation. A result can be simple or complex, depending on the type of observation. The hasConfidence property indicates the confidence level of the method used to make the decision, while the hasImage property links to an image stored in the Semantic Repository.\n",
            "4. SafetyStatus: This is a class that represents the safety status of a worker or group of workers. It can have different values such as \"safe\" or \"unsafe\", and can also indicate the number of unsafe workers.\n",
            "5. Image: This is a class that represents an image stored in the Semantic Repository. It has a hasRepoPath property that links to the location of the image in the repository.\n",
            "6. WorkersNum: This is a class that represents the total number of workers on the construction site, including both safe and unsafe workers. It can have different sub-properties such as indeterminateWorkersNum, safeWorkersNum, and unsafeWorkersNum.\n",
            "7. IndeterminateWorkersNum: This is a property that represents the number of workers whose safety cannot be determined.\n",
            "8. SafeWorkersNum: This is a property that represents the number of safe workers on the construction site.\n",
            "9. UnsafeWorkersNum: This is a property that represents the number of unsafe workers on the construction site.\n",
            "10. status_unsafe: This is a class that represents the safety status of a worker or group of workers, with the value \"unsafe\".\n",
            "In summary, this graph represents a construction site where various sensors are used to make observations, which can result in estimates or calculations of properties of features of interest. The graph also includes information about the safety status of workers and images stored in the Semantic Repository.\n",
            "\n",
            "\n"
          ]
        },
        {
          "output_type": "stream",
          "name": "stderr",
          "text": [
            "Llama.generate: prefix-match hit\n"
          ]
        },
        {
          "output_type": "stream",
          "name": "stdout",
          "text": [
            "  This graph represents a set of classes and properties in the domain of construction site safety monitoring. The graph defines classes for different types of sensors, observations, results, and other entities related to the monitoring process. Here is an explanation of each class and property in the graph:\n",
            "1. `sosa:Sensor`: This class represents a sensor that is used to collect data on the construction site. It has an identifier and can make observations, actuations, or samplings.\n",
            "2. `ns2:identifier`: This property represents a unique identifier for each sensor.\n",
            "3. `sosa:madeObservation`: This object property links a sensor to an observation made by that sensor. The observation may have a result, which is represented by the `sosa:hasResult` property.\n",
            "4. `ns1:domainIncludes`: This property defines the domain of the `sosa:madeObservation` property, which includes sensors and observations.\n",
            "5. `ns1:rangeIncludes`: This property defines the range of the `sosa:hasResult` property, which includes results and samples.\n",
            "6. `rdfs:label`: This property provides a human-readable label for each class or property in the graph.\n",
            "7. `rdfs:comment`: This property provides a brief description of each class or property in the graph.\n",
            "8. `sosa:resultTime`: This datatype property represents the time at which an observation, actuation, or sampling activity was completed.\n",
            "9. `ns1:hasConfidence`: This property indicates the confidence level of a machine learning model that made a decision.\n",
            "10. `ns1:hasImage`: This object property links an image to an observation.\n",
            "11. `ns1:hasRepoPath`: This property represents the full path to an object in the Semantic Repository, which is used to store and manage data related to construction site safety monitoring.\n",
            "12. `ns1:indeterminateWorkersNum`: This property represents the number of workers whose safety cannot be determined.\n",
            "13. `ns1:safeWorkersNum`: This property represents the number of safe workers on the construction site.\n",
            "14. `ns1:unsafeWorkersNum`: This property represents the number of unsafe workers on the construction site.\n",
            "15. `aiot_p2#CameraResult`: This class represents the result of an observation from a camera on the construction site.\n",
            "16. `aiot_p2#hasConfidence`: This property indicates the confidence level of the method that made the decision.\n",
            "17. `aiot_p2#hasImage`: This object property links an image to an observation.\n",
            "18. `aiot_p2#hasRepoPath`: This property represents the full path to an object in the Semantic Repository, which is used to store and manage data related to construction site safety monitoring.\n",
            "19. `aiot_p2#status_unsafe`: This class represents the safety status of a worker or group of workers, indicating that at least one worker is not safe.\n",
            "20. `aiot_p2#unsafeWorkersNum`: This property represents the number of unsafe workers on the construction site.\n",
            "In summary, this graph defines classes and properties for representing various aspects of construction site safety monitoring, including sensors, observations, results, and worker safety status. The graph provides a structured framework for organizing and analyzing data related to construction site safety, which can help improve workplace safety and reduce the risk of accidents.\n",
            "\n",
            "\n"
          ]
        },
        {
          "output_type": "stream",
          "name": "stderr",
          "text": [
            "Llama.generate: prefix-match hit\n"
          ]
        },
        {
          "output_type": "stream",
          "name": "stdout",
          "text": [
            "  Here is a summary of the data in the graph:\n",
            "* There are three classes: `sosa:Sensor`, `sosa:Observation`, and `aiot_p2#CameraResult`.\n",
            "* The `sosa:Sensor` class has an rdf:type of `owl:Class` and a label of \"Sensor\". It has a property called `madeObservation` which is an owl:ObjectProperty and has a range of `sosa:Observation`.\n",
            "* The `sosa:Observation` class has an rdf:type of `owl:Class` and a label of \"Observation\". It has properties called `hasResult`, `madeBySensor`, `resultTime`, and `hasImage`. The `hasResult` property is an owl:ObjectProperty and has a range of `sosa:Result`. The `madeBySensor` property is also an owl:ObjectProperty and has a range of `sosa:Sensor`. The `resultTime` property is an rdf:DatatypeProperty and has a range of `xsd:dateTime`. The `hasImage` property is an owl:ObjectProperty and has a range of `aiot_p2#Image`.\n",
            "* The `aiot_p2#CameraResult` class has an rdf:type of `owl:Class` and a label of \"Camera result\". It has properties called `hasConfidence`, `hasImage`, `hasRepoPath`, and `hasSafetyStatus`. The `hasConfidence` property is an owl:DatatypeProperty and has a range of `xsd:decimal`. The `hasImage` property is an owl:ObjectProperty and has a range of `aiot_p2#Image`. The `hasRepoPath` property is an owl:DatatypeProperty and has a range of `xsd:string`. The `hasSafetyStatus` property is an owl:ObjectProperty and has a range of `aiot_p2#SafetyStatus`.\n",
            "* The graph contains 3 observations, each made by a different sensor. Each observation has a result, which is a camera result. Each camera result has a confidence value and an image. One of the observations has an unsafe worker, while the other two do not.\n",
            "\n",
            "\n"
          ]
        },
        {
          "output_type": "stream",
          "name": "stderr",
          "text": [
            "Llama.generate: prefix-match hit\n"
          ]
        },
        {
          "output_type": "stream",
          "name": "stdout",
          "text": [
            "  Sure! Here is a summary of the data in the graph you provided:\n",
            "* There are several sensors, including \"entrance_camera_1\", which is a Sensor with an identifier of \"entrance_camera_1\".\n",
            "* The sensor made an Observation, which resulted in a Result.\n",
            "* The Result has a confidence level of 99.99137115478516%.\n",
            "* The Result also has an image associated with it, which can be found in the Semantic Repository with the path \"osh-camera/entrance_camera_1/32fec42735354991bfa27ba47b2a1758\".\n",
            "* The sensor's safety status is unsafe, with one worker in the group not considered safe.\n",
            "* The number of unsafe workers is 1.\n",
            "* The date and time when the Observation was made is July 7, 2023, at 2:11:08 PM.\n",
            "\n",
            "\n"
          ]
        },
        {
          "output_type": "stream",
          "name": "stderr",
          "text": [
            "Llama.generate: prefix-match hit\n"
          ]
        },
        {
          "output_type": "stream",
          "name": "stdout",
          "text": [
            "  Here is a summary of the data in the graph, with the values at the end of each line:\n",
            "* Entrance camera 1 is a sensor with identifier \"entrance_camera_1\".\n",
            "* The sensor made an observation, which resulted in a result with label \"Camera result\" and confidence level of 99.99137115478516%.\n",
            "* The result has an image with path \"osh-camera/entrance_camera_1/32fec42735354991bfa27ba47b2a1758\".\n",
            "* The sensor's safety status is unsafe, with 1 worker whose safety cannot be determined.\n",
            "* The number of safe workers is 0, and the number of unsafe workers is 1.\n",
            "* The observation was made on July 7, 2023 at 2:11:08 PM with a timestamp of \"2023-07-07T14:11:08.675910\"^^xsd:dateTime.\n",
            "\n",
            "\n"
          ]
        },
        {
          "output_type": "stream",
          "name": "stderr",
          "text": [
            "Llama.generate: prefix-match hit\n"
          ]
        },
        {
          "output_type": "stream",
          "name": "stdout",
          "text": [
            "  Sure! Here is a summary of the data in the graph, using layman's terms and focusing on the values at the end of each line:\n",
            "* \"entrance_camera_1\" is a sensor that made an observation.\n",
            "* The result of the observation is a \"Camera result\".\n",
            "* The confidence of the method that made the decision is 99.99137115478516 (a very high level of confidence).\n",
            "* The image associated with this observation is stored in the Semantic Repository with the path \"osh-camera/entrance_camera_1/32fec42735354991bfa27ba47b2a1758\".\n",
            "* The safety status of the workers is \"unsafe\", as there is at least one worker in the group who is not safe.\n",
            "* The number of unsafe workers is 1.\n",
            "* The observation was made on July 7, 2023 at 2:11 PM (according to the ISO 8601 date format).\n",
            "\n",
            "\n"
          ]
        },
        {
          "output_type": "stream",
          "name": "stderr",
          "text": [
            "Llama.generate: prefix-match hit\n"
          ]
        },
        {
          "output_type": "stream",
          "name": "stdout",
          "text": [
            "  Here is a summary of the data in the graph, with a focus on the values at the end of each line:\n",
            "* \"entrance_camera_1\" is a sensor with an identifier \"entrance_camera_1\".\n",
            "* The sensor made an observation, which resulted in a result with a label \"Camera Result\".\n",
            "* The confidence of the method that made the decision is 99.99137115478516%.\n",
            "* The image associated with the observation is stored in the Semantic Repository with a path \"osh-camera/entrance_camera_1/32fec42735354991bfa27ba47b2a1758\".\n",
            "* The safety status of the workers is \"unsafe\", with 1 worker not safe.\n",
            "* The number of unsafe workers is 0, and the number of safe workers is also 0.\n",
            "* The result time of the observation is \"2023-07-07T14:11:08.675910\" (July 7, 2023, at 2:11:08 PM).\n",
            "\n",
            "\n"
          ]
        }
      ]
    },
    {
      "cell_type": "code",
      "source": [],
      "metadata": {
        "id": "LeWLnS7_IgUZ"
      },
      "execution_count": null,
      "outputs": []
    }
  ]
}