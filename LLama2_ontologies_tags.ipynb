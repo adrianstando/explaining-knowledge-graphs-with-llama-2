{
  "nbformat": 4,
  "nbformat_minor": 0,
  "metadata": {
    "colab": {
      "provenance": [],
      "gpuType": "T4"
    },
    "kernelspec": {
      "name": "python3",
      "display_name": "Python 3"
    },
    "language_info": {
      "name": "python"
    },
    "accelerator": "GPU"
  },
  "cells": [
    {
      "cell_type": "markdown",
      "source": [
        "# Explaining Knowledge Graphs with LLM"
      ],
      "metadata": {
        "id": "E_zU7VJJqiU7"
      }
    },
    {
      "cell_type": "code",
      "execution_count": 1,
      "metadata": {
        "id": "0f5dCd2jxakz"
      },
      "outputs": [],
      "source": [
        "%%capture\n",
        "\n",
        "! CMAKE_ARGS=\"-DLLAMA_CUBLAS=on\" FORCE_CMAKE=1 pip install llama-cpp-python==0.2.26\n",
        "! wget https://huggingface.co/TheBloke/Llama-2-7B-Chat-GGUF/resolve/main/llama-2-7b-chat.Q4_K_M.gguf?download=true\n",
        "! mv llama-2-7b-chat.Q4_K_M.gguf?download=true ./llama-2-7b-chat.Q4_K_M.gguf\n",
        "! pip install rdflib==7.0.0"
      ]
    },
    {
      "cell_type": "markdown",
      "source": [
        "## Main class for running LLama"
      ],
      "metadata": {
        "id": "A3cXYzxf27eU"
      }
    },
    {
      "cell_type": "code",
      "source": [
        "from llama_cpp import Llama\n",
        "import os\n",
        "import re\n",
        "from rdflib import Graph, Namespace, URIRef, Literal, BNode\n",
        "from rdflib.namespace import RDFS, RDF, OWL, XSD, SOSA, SKOS\n",
        "from copy import deepcopy\n",
        "from collections import defaultdict\n",
        "from itertools import product"
      ],
      "metadata": {
        "id": "Ze2GZJr4Qfg4"
      },
      "execution_count": 2,
      "outputs": []
    },
    {
      "cell_type": "code",
      "source": [
        "model_path_middle = \"./llama-2-7b-chat.Q4_K_M.gguf\"\n",
        "DEFAULT_ONTOLOGIES = ['sosa.ttl', 'rdfs.ttl', 'rdf.ttl', 'owl.ttl']\n",
        "DEFAULT_IRIS = ['http://www.w3.org/ns/sosa', 'http://www.w3.org/2000/01/rdf-schema#', 'http://www.w3.org/1999/02/22-rdf-syntax-ns#', 'http://www.w3.org/2002/07/owl#']\n",
        "get_iri = lambda x: '/'.join(x.split('/')[:-1])\n",
        "\n",
        "def get_graph_data(graph):\n",
        "  graph_data = graph.serialize()\n",
        "  graph_data = re.sub(\"<[^ ]*\\/([^ \\/]*)>\", \"\\g<1>\", graph_data)\n",
        "  graph_data = '\\n'.join([x for x in graph_data.split('\\n') if x[:7] != '@prefix' and x != ''])\n",
        "  return graph_data\n",
        "\n",
        "class GraphExplainer:\n",
        "  def __init__(self, model_path=model_path_middle, n_ctx=4096, n_batch=2048):\n",
        "    self.model_path = model_path\n",
        "    self.n_threads = os.cpu_count()\n",
        "    self.n_gpu = -1\n",
        "    self.n_ctx = n_ctx\n",
        "    self.n_batch = n_batch\n",
        "    self.llm = self.load_model(n_ctx=self.n_ctx, n_batch=self.n_batch)\n",
        "\n",
        "  def load_model(self, *args, **kwargs):\n",
        "    return Llama(model_path=self.model_path, n_gpu_layers=self.n_gpu, n_threads=self.n_threads, *args, **kwargs)\n",
        "\n",
        "  def explain_graph(self, system_prompt, user_prompt, *args, **kwargs):\n",
        "    out = self.llm.create_chat_completion(\n",
        "      messages = [\n",
        "          {\"role\": \"system\", \"content\": system_prompt},\n",
        "          {\"role\": \"user\", \"content\": user_prompt}\n",
        "      ],\n",
        "      *args, **kwargs\n",
        "    )\n",
        "    return out['choices'][0]['message']['content']\n",
        "\n",
        "  def set_ontologies_lookup(self, ontologies_paths, ontologies_iris):\n",
        "    if type(ontologies_paths) == str:\n",
        "      ontologies_paths = [ontologies_paths]\n",
        "    if type(ontologies_iris) == str:\n",
        "      ontologies_iris = [ontologies_iris]\n",
        "    all_ontologies = deepcopy(DEFAULT_ONTOLOGIES)\n",
        "    all_ontologies.extend(ontologies_paths)\n",
        "    all_iris = deepcopy(DEFAULT_IRIS)\n",
        "    all_iris.extend(ontologies_iris)\n",
        "\n",
        "    self.ontologies_dict = {}\n",
        "    for ont, iri in zip(all_ontologies, all_iris):\n",
        "      ont_graph = Graph().parse(ont, format='ttl')\n",
        "      self.ontologies_dict[iri]=ont_graph\n",
        "    return\n",
        "\n",
        "  def process_graph(self, file_path):\n",
        "    processed_graph = Graph().parse(file_path, format='ttl')\n",
        "    required_ontologies = []\n",
        "    for s, p, o in processed_graph.triples((None, None, None)):\n",
        "        for element in [s,p,o]:\n",
        "          if 'http' in str(element):\n",
        "            required_ontologies.append(element)\n",
        "    required_ontologies = list(set(required_ontologies))\n",
        "\n",
        "    ontologies_graph = Graph()\n",
        "    for data_required in required_ontologies:\n",
        "      temp_iri = get_iri(data_required)\n",
        "      if temp_iri in self.ontologies_dict.keys():\n",
        "        relevant_ontology = self.ontologies_dict[temp_iri]\n",
        "        for s, p, o in relevant_ontology.triples((data_required, None, None)):\n",
        "          ontologies_graph.add((s,p,o))\n",
        "    ontology_text = get_graph_data(ontologies_graph)\n",
        "    input_text = get_graph_data(processed_graph)\n",
        "    return input_text, ontology_text"
      ],
      "metadata": {
        "id": "6sLKQajJbgYP"
      },
      "execution_count": 3,
      "outputs": []
    },
    {
      "cell_type": "markdown",
      "source": [
        "## Running the code"
      ],
      "metadata": {
        "id": "ltORFc0yr7m1"
      }
    },
    {
      "cell_type": "code",
      "source": [
        "explainer = GraphExplainer()\n",
        "explainer.set_ontologies_lookup(['./content/pilot2.ttl'], ['https://assist-iot.eu/ontologies'])"
      ],
      "metadata": {
        "colab": {
          "base_uri": "https://localhost:8080/"
        },
        "id": "2B3aRxwSeKLt",
        "outputId": "0f918fd4-149e-4bc6-d8b9-0a85d20cc703"
      },
      "execution_count": 4,
      "outputs": [
        {
          "output_type": "stream",
          "name": "stderr",
          "text": [
            "AVX = 1 | AVX2 = 1 | AVX512 = 1 | AVX512_VBMI = 0 | AVX512_VNNI = 0 | FMA = 1 | NEON = 0 | ARM_FMA = 0 | F16C = 1 | FP16_VA = 0 | WASM_SIMD = 0 | BLAS = 1 | SSE3 = 1 | SSSE3 = 1 | VSX = 0 | \n"
          ]
        }
      ]
    },
    {
      "cell_type": "code",
      "source": [
        "tags = ['tags_0000003596.ttl', 'tags_0000005028.ttl', 'tags_0000014000.ttl', 'tags_0000014017.ttl', 'tags_0000014019.ttl', 'tags_0000014025.ttl', 'tags_0000014026.ttl', 'tags_0000014036.ttl']"
      ],
      "metadata": {
        "id": "2okpuvxaHU1l"
      },
      "execution_count": 8,
      "outputs": []
    },
    {
      "cell_type": "markdown",
      "source": [
        "# Results for tags"
      ],
      "metadata": {
        "id": "f5oMdXOJzKFK"
      }
    },
    {
      "cell_type": "code",
      "source": [
        "system_prompt_1 = lambda x: \"\"\"\n",
        "You are a master in the field of knowledge graphs. You perfectly know turtle and you explain their contents using layman's terms. Use the following ontology to understand the data.\n",
        "\"\"\" + x\n",
        "input_prompt_1 = lambda x: \"Summarize only the data of the following graph, in sentences only. Focus on the values at the end of each line.\\n\\n\" + x"
      ],
      "metadata": {
        "id": "RoKZEmtA-Cwb"
      },
      "execution_count": 6,
      "outputs": []
    },
    {
      "cell_type": "code",
      "source": [
        "for tag in tags:\n",
        "  print(tag)\n",
        "  input_text, ontology_text = explainer.process_graph(tag)\n",
        "  print(explainer.explain_graph(system_prompt_1(ontology_text), input_prompt_1(input_text)))\n",
        "  print()"
      ],
      "metadata": {
        "colab": {
          "base_uri": "https://localhost:8080/"
        },
        "id": "Dd0ig4upSWyQ",
        "outputId": "183ba29a-24c1-4397-df23-d6bf82f2b4fb"
      },
      "execution_count": 9,
      "outputs": [
        {
          "output_type": "stream",
          "name": "stdout",
          "text": [
            "tags_0000003596.ttl\n",
            "  Here are the values from the given graph:\n",
            "* 33298 is a Platform that hosts a Sensor.\n",
            "* The Sensor made an Observation with a result of -4 for X, -3 for Y, and 256 for Z, measured at time \"2023-07-03T10:43:28.428205\"^^xsd:dateTime.\n",
            "* The same Sensor made another Observation with a result of -4 for X, -8 for Y, and 257 for Z, measured at time \"2023-07-03T10:43:29.428205\"^^xsd:dateTime.\n",
            "* The Platform has an Acceleration result with acceleration window number 2, which has X value -4, Y value -3, and Z value 256.\n",
            "* The Platform has a Tag metadata result with alarm false, watch battery level 90, and watch connected true.\n",
            "* The BIM location result has accuracy value 100, location measurement type measurementNone, X value 0, Y value 0, and Z value 0, measured at time \"2023-07-03T10:43:28.428205\"^^xsd:dateTime.\n",
            "\n",
            "tags_0000005028.ttl\n"
          ]
        },
        {
          "output_type": "stream",
          "name": "stderr",
          "text": [
            "Llama.generate: prefix-match hit\n"
          ]
        },
        {
          "output_type": "stream",
          "name": "stdout",
          "text": [
            "  * The platform 33298 hosts the sensor with ID 33298.\n",
            "* The sensor made an observation with a result of acceleration (Measure) with acceleration window number 2 and X value -2, Y value -7, and Z value 259.\n",
            "* The sensor made another observation with a result of acceleration (Measure) with acceleration window number 1 and X value -3, Y value -7, and Z value 257.\n",
            "* The Tag metadata result has an alarm set to false, watch battery level of 90, and watch connected status of true.\n",
            "* The BIM location result has an accuracy value of 1 millimetre, location measurement type of none, X value of 0, Y value of 0, and Z value of 0.\n",
            "* The observation result has a result time of \"2023-07-03T11:09:12.681948\"^^xsd:dateTime.\n",
            "\n",
            "tags_0000014000.ttl\n"
          ]
        },
        {
          "output_type": "stream",
          "name": "stderr",
          "text": [
            "Llama.generate: prefix-match hit\n"
          ]
        },
        {
          "output_type": "stream",
          "name": "stdout",
          "text": [
            "  The data in the graph represents a set of observations, sensors, and results related to a BIM model. The observations are made by sensors, which host the platforms, and the results are stored in the hasResult property. The observations are linked to a result using the hasResult property, and the result is hosted by the platform. The data includes acceleration measurements with different windows (1 or 2), X, Y, and Z values, and the watch battery level and connection status of the sensor. Additionally, there are location measurements with an accuracy value and a measurement type. The data is stored in a ontology-based data model (OBDM) and uses RDF terms to define the relationships between the entities.\n",
            "\n",
            "tags_0000014017.ttl\n"
          ]
        },
        {
          "output_type": "stream",
          "name": "stderr",
          "text": [
            "Llama.generate: prefix-match hit\n"
          ]
        },
        {
          "output_type": "stream",
          "name": "stdout",
          "text": [
            "  * The graph contains 4 nodes and 6 edges.\n",
            "* Node 1 (21139) is a Platform, an IoT device, and hosts another Sensor (21139).\n",
            "* Node 2 (21139) is a Sensor, made an Observation with result value -253 in acceleration window 2.\n",
            "* Node 3 (21139) is a Result, an Acceleration result, with acceleration window number 2 and X value -253.\n",
            "* Node 4 (21139) is a Result, an Acceleration result, with acceleration window number 1 and Y value 7.\n",
            "* Node 5 (21139) is a Result, a TagMetadataResult, with alarm false, watch battery level 93, and watch connected true.\n",
            "* Node 6 (21139) is a Location result, a BIMLocation, with accuracy value 5868, location measurement type approximate, X value 1090, Y value -26724, and Z value 7110.\n",
            "\n",
            "tags_0000014019.ttl\n"
          ]
        },
        {
          "output_type": "stream",
          "name": "stderr",
          "text": [
            "Llama.generate: prefix-match hit\n"
          ]
        },
        {
          "output_type": "stream",
          "name": "stdout",
          "text": [
            "  * The ontology defines a set of classes and properties for representing various aspects of sensor data, including Observations, Results, Sensors, Actuators, Samplers, Platforms, and Locations.\n",
            "* An Observation is an instance of a measurement or calculation performed by a Sensor, Actuator, or Sampler.\n",
            "* A Result is the outcome of an Observation, representing the value or estimate of a property of interest.\n",
            "* Sensors are devices that respond to a stimulus and generate a Result. They can be mounted on a Platform or hosted by a Platform.\n",
            "* Actuators are agents (including humans) that perform an action in response to a Stimulus.\n",
            "* Samplers are platforms, software, or human entities that collect data or samples from the environment or other sources.\n",
            "* A Platform is an entity that hosts other entities, such as Sensors, Actuators, or Samplers.\n",
            "* Locations are points in space with a specific position and orientation, often used to represent the location of a Sensor or Actuator.\n",
            "* The hasResult property links an Observation or Actuation to its corresponding Result.\n",
            "* The hosts property links a Sensor to a Platform that hosts it.\n",
            "* The madeObservation property links a Sensor to an Observation made by the Sensor.\n",
            "* The resultTime property represents the instant of time when an Observation, Actuation, or Sampling activity was completed.\n",
            "* The hasAccuracyValue property indicates whether a TagMetadataResult has an alarm.\n",
            "* The hasWatchBatteryLevel and hasWatchConnected properties represent the battery level and connectivity of a Watch.\n",
            "* The hasLocationMeasurementType property indicates the method used to measure the location of a BIM Location.\n",
            "* The hasXValue, hasYValue, and hasZValue properties represent the measurements of a BIM Location.\n",
            "* The measurementApproximate property represents an approximate location measurement.\n",
            "\n",
            "tags_0000014025.ttl\n"
          ]
        },
        {
          "output_type": "stream",
          "name": "stderr",
          "text": [
            "Llama.generate: prefix-match hit\n"
          ]
        },
        {
          "output_type": "stream",
          "name": "stdout",
          "text": [
            "  * The graph contains 1 Platform, 1 Sensor, and 3 Results.\n",
            "* The Platform is hosted by the Sensor (7449).\n",
            "* The Sensor made an Observation with a result of -252 for acceleration in the x-axis, 2 for acceleration in the y-axis, and -44 for acceleration in the z-axis.\n",
            "* The first Result is an AccelerationResult with an acceleration window of 2 and a value of -253 for the x-axis, 8 for the y-axis, and -53 for the z-axis.\n",
            "* The second Result is also an AccelerationResult with an acceleration window of 1 and a value of -253 for the x-axis, 8 for the y-axis, and -53 for the z-axis.\n",
            "* The third Result is a TagMetadataResult with an alarm set to false, a watch battery level of 97, and a watch connected status of true.\n",
            "* The LocationResult has a BIM location, an accuracy value of 0.01666668 for the x-axis, 0.038304687 for the y-axis, and a location measurement type of measurement2D. The x-value is 4204, the y-value is -17579, and the z-value is 344.\n",
            "* The Observation time is July 4, 2023, at 8:57:35.328400 UTC.\n",
            "\n",
            "tags_0000014026.ttl\n"
          ]
        },
        {
          "output_type": "stream",
          "name": "stderr",
          "text": [
            "Llama.generate: prefix-match hit\n"
          ]
        },
        {
          "output_type": "stream",
          "name": "stdout",
          "text": [
            "  * The graph contains 7449 Platforms, each with a sensor and multiple observations.\n",
            "* Each observation has a result, which is an acceleration measurement in the tag acceleration unit (ns2:tagAccelerationUnit).\n",
            "* The accelerations range from -251 to 8 G, with some values having a specific timestamp.\n",
            "* Some observations have a result time, indicating when the observation was made.\n",
            "* The graph also contains location measurements, which are classified as BIM locations (ns2:BIMLocation) and have an accuracy value in millimeters.\n",
            "* The location measurements have a X, Y, and Z value, also in millimeters.\n",
            "* Some observations have a watch battery level and watch connected status.\n",
            "* The graph does not contain any alarm or watch battery level values.\n",
            "\n",
            "tags_0000014036.ttl\n"
          ]
        },
        {
          "output_type": "stream",
          "name": "stderr",
          "text": [
            "Llama.generate: prefix-match hit\n"
          ]
        },
        {
          "output_type": "stream",
          "name": "stdout",
          "text": [
            "  * The graph represents a set of observations, sensors, and results related to the measurement of acceleration in a BIM model.\n",
            "* The observations are made by sensors (e.g., 7449) and result in a set of measurements (e.g., acceleration values) for different axes (x, y, and z).\n",
            "* Each observation has a unique identifier (e.g., \"tag-7449\") and is associated with a sensor that made the observation.\n",
            "* The sensors are hosted by a platform (e.g., 7449), which provides the necessary infrastructure for the sensors to operate.\n",
            "* Each result is associated with an observation and represents the outcome of the measurement process. The results include acceleration values for different axes (x, y, and z) and are represented as numerical values.\n",
            "* The acceleration values are measured in units of millimeters per second squared (e.g., -333, -51, -82).\n",
            "* Some of the results also include additional metadata, such as the alarm status (false), watch battery level (97), and watch connection status (true).\n",
            "* The graph also includes a TagMetadataResult, which represents the result of a measurement of a location tag's meta properties. This result includes the acceleration value in millimeters per second squared for the x, y, and z axes.\n",
            "\n"
          ]
        }
      ]
    },
    {
      "cell_type": "code",
      "source": [
        "system_prompt_2 = lambda x: f\"\"\"\n",
        "You are an expert in knowledge graphs. Use the following ontology to understand the data.\n",
        "\n",
        "{x}\n",
        "\n",
        "You are the assistant who, given a graph, can extract the most important information from it. Focus on the values at the end of each line.\n",
        "Your answers should be clear, coherent and describe the most important facts recorded in the graph.\n",
        "Please return full sentences, bullet points and focus on creating a human-readible text, and do not include class and property labels and names.\n",
        "In summary, you should put focus on anomalies and potentially dangerous measurements and clearly inform the user about them.\n",
        "\"\"\"\n",
        "input_prompt_2 = lambda x: \"Summarise the data in the following graph.\\n\\n\" + x"
      ],
      "metadata": {
        "id": "oaKry2O_zjSk"
      },
      "execution_count": 16,
      "outputs": []
    },
    {
      "cell_type": "code",
      "source": [
        "for tag in tags:\n",
        "  print(tag)\n",
        "  input_text, ontology_text = explainer.process_graph(tag)\n",
        "  print(explainer.explain_graph(system_prompt_2(ontology_text), input_prompt_2(input_text)))\n",
        "  print()"
      ],
      "metadata": {
        "id": "Vm3vI9IKv8TQ",
        "colab": {
          "base_uri": "https://localhost:8080/"
        },
        "outputId": "5b341a66-eb58-4952-b9da-1494975cfa02"
      },
      "execution_count": 13,
      "outputs": [
        {
          "output_type": "stream",
          "name": "stdout",
          "text": [
            "tags_0000003596.ttl\n"
          ]
        },
        {
          "output_type": "stream",
          "name": "stderr",
          "text": [
            "Llama.generate: prefix-match hit\n"
          ]
        },
        {
          "output_type": "stream",
          "name": "stdout",
          "text": [
            "  The graph represents a set of observations, sensors, and results related to the measurement of acceleration, location, and battery level of a device. Here are the most important facts extracted from the graph:\n",
            "* There are three observations (33298, 33299, and 33300) made by different sensors (sensor 1, sensor 2, and sensor 3).\n",
            "* The observations were made at different times (July 3rd, 2023 at 10:43:28.428205 UTC) and have corresponding results.\n",
            "* The results include acceleration measurements in three axes (x, y, and z) with different window numbers (2 and 1).\n",
            "* The acceleration values range from -4 to 257 for window 2, and from -8 to 257 for window 1.\n",
            "* The location of the device is measured using a BIM location sensor, which provides an accuracy value of 90 millimeters.\n",
            "* The battery level of the device is 90%.\n",
            "* There are no alarm or watch connected to the device.\n",
            "* The device is hosted by platform 33298.\n",
            "\n",
            "In summary, the graph shows that there are multiple observations and results related to the measurement of acceleration, location, and battery level of a device over time. The acceleration values vary between -4 and 257, with different window numbers, and the location of the device is measured with an accuracy of 90 millimeters. Additionally, the device's battery level is 90%, and there are no alarms or watches connected to it.\n",
            "\n",
            "tags_0000005028.ttl\n"
          ]
        },
        {
          "output_type": "stream",
          "name": "stderr",
          "text": [
            "Llama.generate: prefix-match hit\n"
          ]
        },
        {
          "output_type": "stream",
          "name": "stdout",
          "text": [
            "  The graph represents a set of observations, sensors, and results related to the measurement of acceleration, location, and battery level of a device. Here are the most important facts extracted from the graph:\n",
            "* There are three observations (33298, 33299, and 33300) made by different sensors (Sensor 1, Sensor 2, and Sensor 3).\n",
            "* The observations were made at different times (July 3rd, 2023 at 11:09:12.681948 UTC) and have corresponding results.\n",
            "* The results include acceleration measurements in three axes (x, y, and z) and location information within a BIM model.\n",
            "* The acceleration measurements show anomalies and potentially dangerous values, such as -3 g in the x axis for observation 33298 at time 1, and -7 g in the y axis for observation 33299 at time 2. These values are marked with a comment \"Anomaly!\".\n",
            "* The location measurements show that the device is located within a BIM model with an accuracy of 1 millimetre.\n",
            "* The battery level of the device is 90% at time 1 for observation 33298 and 100% at time 2 for observation 33299.\n",
            "* There are no location measurements for observation 33300.\n",
            "Overall, the graph shows that there are some anomalies in the acceleration measurements, which may indicate a problem with the device or its surroundings. The battery level and location information are within normal ranges, but the lack of location measurements for observation 33300 is a concern.\n",
            "\n",
            "tags_0000014000.ttl\n"
          ]
        },
        {
          "output_type": "stream",
          "name": "stderr",
          "text": [
            "Llama.generate: prefix-match hit\n"
          ]
        },
        {
          "output_type": "stream",
          "name": "stdout",
          "text": [
            "  The graph represents a set of observations, sensors, and results related to the measurement of acceleration in a BIM model. Here are the most important facts recorded in the graph:\n",
            "* There are 7449 observations made by a sensor over a period of time.\n",
            "* The observations are grouped into two acceleration windows (1 and 2) with different numerical values.\n",
            "* The observations show a significant deviation from the expected value in window 2, which may indicate an anomaly or potential danger.\n",
            "* The X, Y, and Z values for each observation in window 2 are provided, along with their numerical values.\n",
            "* The watch battery level is 97, and the watch is connected.\n",
            "* There is no alarm detected.\n",
            "In summary, the graph shows a series of observations related to acceleration measurements in a BIM model, with some anomalies detected in one of the acceleration windows. The X, Y, and Z values for each observation are provided, along with their numerical values. Additionally, the watch battery level and connectivity are reported as normal.\n",
            "\n",
            "tags_0000014017.ttl\n"
          ]
        },
        {
          "output_type": "stream",
          "name": "stderr",
          "text": [
            "Llama.generate: prefix-match hit\n"
          ]
        },
        {
          "output_type": "stream",
          "name": "stdout",
          "text": [
            "  The graph provided contains information about a set of sensors, their hosts, and the results of observations made by these sensors. Here are some key points from the graph:\n",
            "* There are two sensors (21139 and 21140) that are hosted by a platform (21139).\n",
            "* Sensor 21139 has made an observation with a result that includes acceleration data in three dimensions (X, Y, and Z) at different time intervals. The acceleration values range from -253 to 7, with some measurements having a high degree of accuracy (e.g., X value: -253 with an accuracy of 0.01666668).\n",
            "* Sensor 21140 has also made an observation with a result that includes location data (accuracy: 0.038304687) and watch battery level data (93%).\n",
            "* There is one tag metadata result, which indicates that the watch connected to sensor 21139 is not alarming and has a battery level of 93%.\n",
            "* The location measurement type for sensor 21139 is approximate.\n",
            "* The acceleration unit for sensor 21139 is neways tag acceleration unit, with a unit of measurement in meters per second squared (m/s^2).\n",
            "* The X, Y, and Z values for the acceleration observation are measured in millimeters (mm).\n",
            "* The observation time for the acceleration observation is July 4, 2023, at 8:57:29.950709 UTC.\n",
            "Overall, the graph suggests that there are two sensors collecting data on different aspects of a system\n",
            "\n",
            "tags_0000014019.ttl\n"
          ]
        },
        {
          "output_type": "stream",
          "name": "stderr",
          "text": [
            "Llama.generate: prefix-match hit\n"
          ]
        },
        {
          "output_type": "stream",
          "name": "stdout",
          "text": [
            "  The graph provided contains information about a set of sensors and their observations, as well as the results of those observations. Here are the most important facts recorded in the graph:\n",
            "* There are two sensors: \"tag-21139\" and \"tag-21140\".\n",
            "* Sensor \"tag-21139\" is hosted by Platform \"Platform 21139\", which is an IoT device.\n",
            "* Sensor \"tag-21139\" has made several observations, including one with a result of -254 for acceleration in the x-axis, 0 for acceleration in the y-axis, and -27 for acceleration in the z-axis. The observation was made at an unknown time.\n",
            "* Sensor \"tag-21140\" has also made several observations, including one with a result of -252 for acceleration in the x-axis, -1 for acceleration in the y-axis, and -31 for acceleration in the z-axis. The observation was made at an unknown time.\n",
            "* There is one result for each sensor, with the exception of \"tag-21140\", which has two results.\n",
            "* The results are all measured in units of acceleration (in millimeters per second squared).\n",
            "* The observations were made at different times, but the exact times are not provided.\n",
            "* There is a potential issue with the data from sensor \"tag-21139\", as the result for the x-axis is significantly negative (-254) and may indicate an error or malfunction.\n",
            "\n",
            "In summary, the graph shows information about two sensors and their observations, including the results of those observations. However, there is a potential issue with the data from one of\n",
            "\n",
            "tags_0000014025.ttl\n"
          ]
        },
        {
          "output_type": "stream",
          "name": "stderr",
          "text": [
            "Llama.generate: prefix-match hit\n"
          ]
        },
        {
          "output_type": "stream",
          "name": "stdout",
          "text": [
            "  The graph represents a set of observations, sensors, and results related to the measurement of acceleration in a BIM model. Here are the most important facts extracted from the graph:\n",
            "* There are two observations with different acceleration windows (2 and 1) and numerical values for each window.\n",
            "* The observation with acceleration window 2 has a negative value of -252 for the X axis, a positive value of 2 for the Y axis, and a negative value of -44 for the Z axis.\n",
            "* The observation with acceleration window 1 has a negative value of -253 for the X axis, a positive value of 8 for the Y axis, and a negative value of -53 for the Z axis.\n",
            "* There is one result that is a TagMetadataResult, which indicates that the measurement was made by a tag device. The result has an alarm status of false, a watch battery level of 97, and a watch connected status of true.\n",
            "* There are two location measurements with different accuracy values (4204 millimeters for the X axis and -17579 millimeters for the Y axis) and location measurement types (2D for both). The locations have X and Y values in millimeters, and a Z value of 344.\n",
            "* The result time is specified as \"2023-07-04T08:57:35.328400\"^^xsd:dateTime.\n",
            "Based on these observations, it appears that there may be an issue with the accuracy of the acceleration measurement in one of the observations, as the X value is significantly different from the other values. Additionally, the Z value is negative for both observations, which could indicate a problem with the sensor or the measurement process. Further investigation is needed to determine the cause of these discrepancies and ensure that the measurements are accurate and reliable.\n",
            "\n",
            "tags_0000014026.ttl\n"
          ]
        },
        {
          "output_type": "stream",
          "name": "stderr",
          "text": [
            "Llama.generate: prefix-match hit\n"
          ]
        },
        {
          "output_type": "stream",
          "name": "stdout",
          "text": [
            "  The graph represents a set of observations, sensors, and results related to the acceleration of a tag within a BIM model. Here are some key points about the data:\n",
            "* There are two observations with different acceleration windows (2 and 1) for the same tag.\n",
            "* The observation with acceleration window 2 has an X value of -251, Y value of 8, and Z value of -51.\n",
            "* The observation with acceleration window 1 has an X value of -251, Y value of 8, and Z value of -49.\n",
            "* There is one result for each acceleration window, indicating the average acceleration over that time period.\n",
            "* The results show a significant difference in acceleration between the two windows, with the second window showing a higher acceleration value.\n",
            "* The tag's battery level is 97, and it is connected to the BIM model.\n",
            "* There is no alarm detected.\n",
            "Based on this data, it appears that there may be an issue with the tag's accuracy or calibration, as the acceleration values differ significantly between the two windows. Additionally, the tag's battery level is relatively low, which could potentially impact its performance. Further investigation is needed to determine the cause of these issues and ensure the tag is functioning properly.\n",
            "\n",
            "tags_0000014036.ttl\n"
          ]
        },
        {
          "output_type": "stream",
          "name": "stderr",
          "text": [
            "Llama.generate: prefix-match hit\n"
          ]
        },
        {
          "output_type": "stream",
          "name": "stdout",
          "text": [
            "  Based on the provided graph, here are some key observations and potential issues:\n",
            "1. Sensor 7449 is hosting another sensor (7449) and has made an observation with a result that includes acceleration data.\n",
            "2. The acceleration data shows a significant deviation from the expected value in one of the windows (acceleration window number 2), which could indicate a potential issue or anomaly.\n",
            "3. The observation also includes a result for the BIM location, which indicates the device's position within a BIM model.\n",
            "4. The TagMetadataResult shows that the watch battery level is at 97% and the watch is connected.\n",
            "5. There are two results for the measurement2D property, one with an X value of 4401 and one with an Y value of -17909. These values could indicate a potential issue or anomaly in the device's positioning.\n",
            "6. The hasAlarm property is set to false, which could indicate that there are no alarm conditions detected.\n",
            "7. The hasWatchBatteryLevel and hasWatchConnected properties show that the device's battery level is at 97% and it is connected, respectively.\n",
            "8. The location measurement type is set to 2D.\n",
            "\n",
            "Based on these observations, it appears that there may be an issue with the acceleration data in one of the windows, and the device's positioning could be affected. It is also good to see that the device's battery level and connectivity are within normal ranges. Further investigation is needed to determine the cause of the acceleration anomaly and to ensure that the device is functioning properly.\n",
            "\n"
          ]
        }
      ]
    },
    {
      "cell_type": "code",
      "source": [
        "input_prompt_2_professor = lambda x: \"I am a professor who specializes in knowledge graphs. Summarise the following graph focusing on its structure.\\n\\n\" + x\n",
        "for tag in tags:\n",
        "  print(tag)\n",
        "  input_text, ontology_text = explainer.process_graph(tag)\n",
        "  print(explainer.explain_graph(system_prompt_2(ontology_text), input_prompt_2_professor(input_text)))\n",
        "  print()"
      ],
      "metadata": {
        "colab": {
          "base_uri": "https://localhost:8080/"
        },
        "id": "Yi6ge3Uv_Mpk",
        "outputId": "4cd1c4e6-b4ba-44a1-a829-68dad6f6af58"
      },
      "execution_count": 14,
      "outputs": [
        {
          "output_type": "stream",
          "name": "stdout",
          "text": [
            "tags_0000003596.ttl\n"
          ]
        },
        {
          "output_type": "stream",
          "name": "stderr",
          "text": [
            "Llama.generate: prefix-match hit\n"
          ]
        },
        {
          "output_type": "stream",
          "name": "stdout",
          "text": [
            "  The graph provided contains the following information:\n",
            "* A Platform (33298) that hosts a Sensor and makes Observations.\n",
            "* A Sensor (33298) that makes Observations and has a result.\n",
            "* An Observation with a result of -4 for X, -3 for Y, and 256 for Z, made by the Sensor at a specific time (\"2023-07-03T10:43:28.428205\"^^xsd:dateTime).\n",
            "* Another Observation with a result of -4 for X, -8 for Y, and 257 for Z, made by the Sensor at a different time.\n",
            "* A TagMetadataResult with an alarm set to false, watch battery level of 90, and watch connected status of true.\n",
            "* A BIMLocation result with accuracy value measured in millimeters, location measurement type of \"no location measurement\", X value measured in millimeters, Y value measured in millimeters, and Z value measured in millimeters.\n",
            "The graph shows that there are two Observations made by the Sensor at different times, one with a positive acceleration value and the other with a negative acceleration value. The TagMetadataResult indicates that the watch is connected and has a battery level of 90, but does not have an alarm set. The BIMLocation result shows that the location was measured with an accuracy of 1 millimeter in all directions.\n",
            "\n",
            "tags_0000005028.ttl\n"
          ]
        },
        {
          "output_type": "stream",
          "name": "stderr",
          "text": [
            "Llama.generate: prefix-match hit\n"
          ]
        },
        {
          "output_type": "stream",
          "name": "stdout",
          "text": [
            "  The graph provided contains the following classes and properties:\n",
            "* sosa:Platform (with identifier \"tag-33298\")\n",
            "\t+ hosts 33298 (a Sensor)\n",
            "* sosa:Sensor (with identifier \"33298\")\n",
            "\t+ madeObservation (an Observation with numerical value 0)\n",
            "\t+ hasResult (an Acceleration Result with acceleration window \"2\" and acceleration values -2 for X, -7 for Y, and 259 for Z)\n",
            "\t+ hasYValue (a Measure with unit ns1:tagAccelerationUnit and numerical value -7)\n",
            "\t+ hasZValue (a Measure with unit ns1:tagAccelerationUnit and numerical value 259)\n",
            "* sosa:Result (with identifier \"33298\")\n",
            "\t+ AccelerationResult (with acceleration window \"1\" and acceleration values -3 for X, -7 for Y, and 257 for Z)\n",
            "\t+ TagMetadataResult (with alarm false, watch battery level 90, and watch connected true)\n",
            "* aiot#LocationResult (with identifier \"tag-33298\")\n",
            "\t+ BIMLocation (with accuracy value [a Measure with unit ns2:millimetre and numerical value 0.038304687], location measurement type measurementNone, X value [a Measure with unit ns2:millimetre and numerical value -10], Y value [a Measure with unit ns2:millimetre and numerical value -7], and Z value [a Measure with unit ns2:millimetre and numerical value 259])\n",
            "* sosa:Observation (with identifier \"33298\")\n",
            "\t+ hasResult (an Acceleration Result with acceleration window \"2\" and acceleration values -2 for X, -7 for Y, and 259 for Z)\n",
            "\t+ madeBySensor (a Sensor)\n",
            "* sosa:hasResult (\n",
            "\n",
            "tags_0000014000.ttl\n"
          ]
        },
        {
          "output_type": "stream",
          "name": "stderr",
          "text": [
            "Llama.generate: prefix-match hit\n"
          ]
        },
        {
          "output_type": "stream",
          "name": "stdout",
          "text": [
            "  The graph provided represents a knowledge graph with the following structure:\n",
            "* A Platform (7449) hosts a Sensor, which has made an Observation with a Result.\n",
            "* The Observation has a result value of -252 for the acceleration in the x-axis, 4 for the acceleration in the y-axis, and -47 for the acceleration in the z-axis.\n",
            "* The Result is an AccelerationResult with two acceleration windows: one with a window number of 2 and another with a window number of 1.\n",
            "* For the acceleration window with window number 2, the result value for the x-axis is -252, for the y-axis it is 9, and for the z-axis it is -45.\n",
            "* For the acceleration window with window number 1, the result value for the x-axis is -252, for the y-axis it is -47, and for the z-axis it is -45.\n",
            "* The Result also has a TagMetadataResult with an alarm of false, a watch battery level of 97, and a watch connected status of true.\n",
            "* The graph also includes a LocationResult with a BIM location, which has an accuracy value of 1 millimetre, a location measurement type of 2D, and X and Y values of 4109 and -17609, respectively.\n",
            "* The result time for the Observation is \"2023-07-04T08:57:20.302830\"^^xsd:dateTime.\n",
            "\n",
            "tags_0000014017.ttl\n"
          ]
        },
        {
          "output_type": "stream",
          "name": "stderr",
          "text": [
            "Llama.generate: prefix-match hit\n"
          ]
        },
        {
          "output_type": "stream",
          "name": "stdout",
          "text": [
            "  The graph provided represents a knowledge graph with the following structure:\n",
            "* A Platform (21139) hosts a Sensor (21139).\n",
            "* The Sensor made an Observation, which resulted in two Results.\n",
            "* The first Result is an AccelerationResult, with acceleration windows 1 and 2. For window 1, the X value is -253, Y value is 4, and Z value is -27. For window 2, the X value is -253, Y value is 7, and Z value is -33.\n",
            "* The second Result is also an AccelerationResult, with acceleration window 1. The X value is -253, Y value is 7, and Z value is -33.\n",
            "* Additionally, there are two TagMetadataResults: one with alarm = false, watch battery level = 93, and watch connected = true, and the other with accuracy value = 5868, location measurement type = approximation, X value = 1090, Y value = -26724, and Z value = 7110.\n",
            "* The Observation was made on 2023-07-04T08:57:29.950709^^xsd:dateTime.\n",
            "\n",
            "tags_0000014019.ttl\n"
          ]
        },
        {
          "output_type": "stream",
          "name": "stderr",
          "text": [
            "Llama.generate: prefix-match hit\n"
          ]
        },
        {
          "output_type": "stream",
          "name": "stdout",
          "text": [
            "  The graph provided contains the following entities and relationships:\n",
            "* Platforms: 21139 (a IoT device) hosts 21139 (a sensor).\n",
            "* Sensors: 21139 (a sensor) has made an observation with a result.\n",
            "* Observations: The observation has a result, which is measured in millimeters (ns2:Unit ns2:millimetre). The observation has a timestamp (sosa:resultTime) and is associated with a platform (sosa:hosts).\n",
            "* Results: The result of the observation is an acceleration measurement (ns1:AccelerationResult), which has an accuracy value (ns1:hasAccuracyValue) and is associated with a location measurement type (ns1:hasLocationMeasurementType). The result also has X, Y, and Z values (ns2:Unit ns2:Measure) and is associated with a timestamp (sosa:resultTime).\n",
            "* Locations: There are two location measurements (ns1:BIMLocation) associated with the observation, each with an accuracy value (ns1:hasAccuracyValue) and a timestamp (sosa:resultTime).\n",
            "* Measurements: The observation has two acceleration measurements (ns1:AccelerationResult), each with a numerical value (ns2:hasNumericalValue) and associated with a timestamp (sosa:resultTime).\n",
            "* Timestamps: The observation has a timestamp (sosa:resultTime) associated with it.\n",
            "The graph shows that the sensor 21139 has made an observation with a result, which is an acceleration measurement. The observation is associated with a platform and has a timestamp. Additionally, there\n",
            "\n",
            "tags_0000014025.ttl\n"
          ]
        },
        {
          "output_type": "stream",
          "name": "stderr",
          "text": [
            "Llama.generate: prefix-match hit\n"
          ]
        },
        {
          "output_type": "stream",
          "name": "stdout",
          "text": [
            "  The graph provided is a knowledge graph, which represents entities and their relationships in a structured manner. Here's a summary of the structure of the graph:\n",
            "* Platform (7449):\n",
            "\t+ Hosts 7449 (a Sensor)\n",
            "\t+ Made observation (2 observations)\n",
            "\t+ Result (3 results, including 1 TagMetadataResult and 2 LocationResults)\n",
            "\t+ AccelerationWindow (2 acceleration windows)\n",
            "* Sensor (7449):\n",
            "\t+ Hosts 7449 (a Platform)\n",
            "\t+ Made observation (1 observation)\n",
            "\t+ Result (1 result, including 1 TagMetadataResult and 1 LocationResult)\n",
            "\t+ AccelerationWindow (1 acceleration window)\n",
            "* Observation:\n",
            "\t+ Has result (2 results, including 1 TagMetadataResult and 1 LocationResult)\n",
            "\t+ Made by Sensor (1 sensor)\n",
            "\t+ Result time (1 date-time value)\n",
            "* TagMetadataResult:\n",
            "\t+ Has alarm (false)\n",
            "\t+ Has watch battery level (97)\n",
            "\t+ Has watch connected (true)\n",
            "* LocationResult:\n",
            "\t+ Has accuracy value (1 measurement)\n",
            "\t+ Has location measurement type (2D)\n",
            "\t+ Has X value (1 measure)\n",
            "\t+ Has Y value (1 measure)\n",
            "\t+ Has Z value (1 measure)\n",
            "* Measurement:\n",
            "\t+ Has numerical value (3 values)\n",
            "\t+ Has unit (3 units, including 1 millimetre and 2 tag acceleration unit)\n",
            "\n",
            "The graph shows a Platform (7449) that hosts a Sensor (7449), which makes observations using a Result (1 TagMetadataResult and 1 LocationResult). The Observation has a result time (1 date-time value),\n",
            "\n",
            "tags_0000014026.ttl\n"
          ]
        },
        {
          "output_type": "stream",
          "name": "stderr",
          "text": [
            "Llama.generate: prefix-match hit\n"
          ]
        },
        {
          "output_type": "stream",
          "name": "stdout",
          "text": [
            "  The graph provided contains the following information:\n",
            "* A Platform (7449) that hosts a Sensor and an Observation.\n",
            "* The Sensor (7449) has made two Observations, one with a result of -251 for X, 8 for Y, and -49 for Z, and another with a result of -251 for X, 8 for Y, and -51 for Z.\n",
            "* The Observation (7449) has a result of 78 for the Acceleration measurement, with an acceleration window number of 2.\n",
            "* The Platform (7449) has a Watch connected and the battery level is 97.\n",
            "* The Observation (7449) has an Alarm set to false.\n",
            "* The Location (7449) has a measurement type of 2D, with an accuracy value of 4164 for X, -17597 for Y, and 296 for Z.\n",
            "The graph shows that there are two Observations made by the Sensor (7449), one with a positive result and another with a negative result. The Observation with the positive result has an acceleration value of 78, while the Observation with the negative result has an acceleration value of -251. The graph also shows that the Platform (7449) is connected to a Watch and has a battery level of 97. Additionally, the Observation (7449) has an Alarm set to false. Finally, the Location (7449) has a measurement type of 2D, with an accuracy value of 4164 for X, -17597 for Y, and 296 for Z.\n",
            "In summary, the graph shows that there are two Observ\n",
            "\n",
            "tags_0000014036.ttl\n"
          ]
        },
        {
          "output_type": "stream",
          "name": "stderr",
          "text": [
            "Llama.generate: prefix-match hit\n"
          ]
        },
        {
          "output_type": "stream",
          "name": "stdout",
          "text": [
            "  The graph provided is a knowledge graph that represents a set of interconnected objects and their properties. Here are the key takeaways from the structure of the graph:\n",
            "1. Platforms: There are two platforms (7449 and 7450) in the graph, which are connected to each other through the \"hosts\" relationship.\n",
            "2. Sensors: There are three sensors (7449, 7450, and 7451) in the graph, which are connected to their respective platforms through the \"hosts\" relationship.\n",
            "3. Observations: There are two observations (7449-observed and 7450-observed) in the graph, which are linked to their respective sensors through the \"madeObservation\" relationship.\n",
            "4. Results: There are three results (7449-result, 7450-result, and 7451-result) in the graph, which are linked to their respective observations through the \"hasResult\" relationship.\n",
            "5. Acceleration windows: There are two acceleration windows (window 2 and window 1) in the graph, which are linked to their respective results (7449-result and 7450-result) through the \"accelerationWindow\" relationship.\n",
            "6. Measurements: There are three measurements (x, y, and z) in the graph, which are linked to their respective results (7449-result and 7450-result) through the \"hasXValue\", \"hasYValue\", and \"hasZValue\" relationships, respectively.\n",
            "7. Locations: There is one location (7450-location) in the graph, which is linked to its respective result (7450-result) through\n",
            "\n"
          ]
        }
      ]
    },
    {
      "cell_type": "code",
      "source": [
        "input_prompt_2_supervisor = lambda x: \"I am a supervisor at the contruction site. Report me about important incidents.\\n\\n\" + input_text\n",
        "for tag in tags:\n",
        "  print(tag)\n",
        "  input_text, ontology_text = explainer.process_graph(tag)\n",
        "  print(explainer.explain_graph(system_prompt_2(ontology_text), input_prompt_2_supervisor(input_text)))\n",
        "  print()"
      ],
      "metadata": {
        "colab": {
          "base_uri": "https://localhost:8080/"
        },
        "id": "mg81-Hhd_W5v",
        "outputId": "50563f55-0c74-4734-e5d1-c4cf57744f21"
      },
      "execution_count": 15,
      "outputs": [
        {
          "output_type": "stream",
          "name": "stdout",
          "text": [
            "tags_0000003596.ttl\n"
          ]
        },
        {
          "output_type": "stream",
          "name": "stderr",
          "text": [
            "Llama.generate: prefix-match hit\n"
          ]
        },
        {
          "output_type": "stream",
          "name": "stdout",
          "text": [
            "  Based on the provided ontology, here are some important incidents and measurements extracted from the graph:\n",
            "* The sensor \"33298\" is hosting a platform, which could indicate a potential safety hazard as it may be a device that is capable of emitting harmful radiation or other hazardous substances.\n",
            "* The sensor \"33298\" has made an observation with an acceleration value of -4 in the x-axis, -3 in the y-axis, and 256 in the z-axis for acceleration window number 2. This could indicate a potential structural issue or instability in the construction site, as high accelerations can lead to damage to buildings or other structures.\n",
            "* The sensor \"33298\" has made an observation with an acceleration value of -4 in the x-axis, -8 in the y-axis, and 257 in the z-axis for acceleration window number 1. This could indicate a potential safety hazard or structural issue similar to the one mentioned above.\n",
            "* The result \"33298\" has a tag metadata result with an alarm set to false, watch battery level of 90, and watch connected set to true. This could indicate that the device is functioning properly but may require maintenance or replacement soon.\n",
            "* The location result \"33298\" has a measurement of 0 millimetres in all axes, which could indicate that the device is not able to provide accurate location data.\n",
            "* The location result \"33298\" has a location measurement type of \"measurementNone\", which could indicate that the device is not capable of providing location data or that there is an issue with the device's location capabilities.\n",
            "In summary, there are potential safety hazards and issues with the accuracy of the sensor readings in the construction site. It is important to address these incidents promptly to ensure the safety of the workers and the structural integrity of the buildings.\n",
            "\n",
            "tags_0000005028.ttl\n"
          ]
        },
        {
          "output_type": "stream",
          "name": "stderr",
          "text": [
            "Llama.generate: prefix-match hit\n"
          ]
        },
        {
          "output_type": "stream",
          "name": "stdout",
          "text": [
            "  Based on the provided ontology, here are some important incidents and measurements extracted from the graph:\n",
            "1. Anomalous acceleration measurement: The sensor 33298 has made an observation with an accelerometer reading of -7 for the x-axis, -3 for the y-axis, and 259 for the z-axis. This is an anomaly compared to the normal range of values for these axes.\n",
            "2. Watch battery level: The tag 33298 has a watch battery level of 90, which is above the minimum threshold of 70. This suggests that the tag may not be functioning properly.\n",
            "3. Watch connected: The tag 33298 is connected to a device, indicating that it is transmitting data.\n",
            "4. Location measurement type: The location measurement type for the tag 33298 is \"measurementNone\", which means that no location measurement was performed.\n",
            "5. Acceleration unit: The acceleration unit for the tag 33298 is \"tagAccelerationUnit\", which has a numerical value of -2 for the x-axis, -7 for the y-axis, and 259 for the z-axis.\n",
            "6. X, Y, and Z values: The tag 33298 has measured acceleration values for the x, y, and z axes, which are -2, -3, and 259, respectively. These values are significantly different from the normal range of values for these axes.\n",
            "7. Time stamp: The observation was made on July 3, 2023 at 11:09:12.681948 UTC.\n",
            "Based on these measurements and incidents, it is important to investigate the cause of the anomalous acceleration measurement and ensure that the tag 33298 is functioning properly. Additionally, it may be necessary to replace the watch battery in the tag to ensure proper functioning.\n",
            "\n",
            "tags_0000014000.ttl\n"
          ]
        },
        {
          "output_type": "stream",
          "name": "stderr",
          "text": [
            "Llama.generate: prefix-match hit\n"
          ]
        },
        {
          "output_type": "stream",
          "name": "stdout",
          "text": [
            "  Based on the provided graph, here are some important incidents and potential safety hazards that have been detected:\n",
            "1. Acceleration anomaly: The observation 7449 has an acceleration value of -252 in window 2, which is significantly lower than the expected value of 0. This could indicate a problem with the sensor or the measurement process.\n",
            "2. Location measurement issue: The location result for tag 7449 has an accuracy value of 4109 millimeters in window 2, which is much higher than the expected accuracy of 1 millimeter. This could indicate a problem with the location measurement process.\n",
            "3. Watch battery level warning: The watch battery level for tag 7449 is at 97%, which is below the recommended level of 100%. This could indicate that the tag may need to be replaced or recharged soon.\n",
            "4. Watch connected issue: The tag 7449 is connected to a watch, but the connection status is unknown. This could indicate a problem with the communication between the tag and the watch.\n",
            "5. Measurement 2D issue: The location result for tag 7449 has a measurement type of 2D, which could indicate that the location measurement was not accurate or reliable.\n",
            "6. High acceleration value: The observation 7449 has an acceleration value of -47 in window 1, which is much higher than the expected value of 0. This could indicate a problem with the sensor or the measurement process.\n",
            "7. Low acceleration value: The observation 7449 has an acceleration value of 4 in window 2, which is much lower than the expected value of 0. This could indicate a problem with the sensor or the measurement process.\n",
            "8. Unknown alarm status: The alarm status for tag 7449 is\n",
            "\n",
            "tags_0000014017.ttl\n"
          ]
        },
        {
          "output_type": "stream",
          "name": "stderr",
          "text": [
            "Llama.generate: prefix-match hit\n"
          ]
        },
        {
          "output_type": "stream",
          "name": "stdout",
          "text": [
            "  Based on the provided graph, here are some important incidents and potential dangerous measurements:\n",
            "1. High acceleration measurement: The sensor 21139 measured an acceleration of -253 in the x-axis and 4 in the y-axis during a 3-axis acceleration measurement. This is a potentially dangerous measurement as it indicates a high level of vibration or movement, which could be indicative of structural damage or instability.\n",
            "2. Low battery level: The tag 21139 has a watch battery level of 93, which is relatively low and may indicate that the device needs to be replaced or recharged soon.\n",
            "3. Unusual location measurement: The BIM location measurement for tag 21139 indicates an approximate location within a BIM model with an accuracy of approximately 5868 millimeters. This is an unusual measurement as it suggests that the device is located at a distance of over 5 meters from its expected position, which may indicate a problem with the device's placement or calibration.\n",
            "4. High deviation in acceleration: The tag 21139 measured an acceleration of -27 in the z-axis during a 3-axis acceleration measurement. This is a potentially dangerous measurement as it indicates a high level of vibration or movement, which could be indicative of structural damage or instability.\n",
            "5. Unusual location metadata: The tag 21139 has a watch connected status of true and an alarm status of false. However, the device's location metadata indicates that it is not connected to any BIM model, which may indicate a problem with the device's placement or calibration.\n",
            "Based on these incidents, it is recommended\n",
            "\n",
            "tags_0000014019.ttl\n"
          ]
        },
        {
          "output_type": "stream",
          "name": "stderr",
          "text": [
            "Llama.generate: prefix-match hit\n"
          ]
        },
        {
          "output_type": "stream",
          "name": "stdout",
          "text": [
            "  Based on the provided graph, here are some important incidents and potential dangerous measurements:\n",
            "1. Sensor 21139 has made an observation with a result of -254 for acceleration in window 2, which is significantly lower than the expected value of 0. This may indicate a problem with the sensor or the measurement process.\n",
            "2. Sensor 21139 has also made an observation with a result of -27 for acceleration in window 1, which is also lower than the expected value of 0. This could be a similar issue to the previous one.\n",
            "3. The TagMetadataResult for sensor 21139 shows that the watch battery level is at 93%, which is below the expected level of 100%. This may indicate that the device is running low on power and may need to be replaced or recharged.\n",
            "4. The TagMetadataResult for sensor 21139 also shows that the watch is connected, but the alarm is set to false. This could be a potential safety issue, as it suggests that the device may not be functioning properly.\n",
            "5. Location result 1 has an accuracy value of 5868 millimeters, which is significantly higher than the expected value of 1000. This may indicate that the location measurement was not accurate and could potentially be a safety issue.\n",
            "6. Location result 2 has an X value of -26724 millimeters, which is significantly lower than the expected value of 0. This could indicate a problem with the location measurement process or the device itself.\n",
            "7. Location result 2 also has a Y value of -26724 millimeters, which is significantly lower than the expected\n",
            "\n",
            "tags_0000014025.ttl\n"
          ]
        },
        {
          "output_type": "stream",
          "name": "stderr",
          "text": [
            "Llama.generate: prefix-match hit\n"
          ]
        },
        {
          "output_type": "stream",
          "name": "stdout",
          "text": [
            "  Based on the provided graph, here are some important incidents and potential safety concerns:\n",
            "1. High acceleration reading: The result of Observation 1 has an accelerometer value of -252 for window 2, which is a high acceleration reading. This may indicate a potential safety concern, such as a structural failure or a sudden impact.\n",
            "2. Low battery level: Tag 7449 has a watch battery level of 97, which is relatively low. This may indicate that the device needs to be replaced or recharged.\n",
            "3. Watch connected: Tag 7449 is connected to a watch, which may indicate that the device is functioning properly and transmitting data correctly.\n",
            "4. Location measurement type: The location measurement type for Tag 7449 is set to \"2D\", indicating that the device is capable of providing two-dimensional location measurements.\n",
            "5. Acceleration unit: The acceleration unit for Tag 7449 is set to \"tagAccelerationUnit\", which may indicate a potential safety concern if the device is not functioning properly.\n",
            "6. Anomalous readings: Observation 1 has an accelerometer value of -253 for window 1, which is significantly different from the expected value of 0. This may indicate a potential safety concern or a malfunction in the device.\n",
            "7. Lack of data: There are no observations or results listed for Tag 7449 after July 4, 2023. This may indicate a potential safety concern if the device is not functioning properly or if it has been damaged or lost.\n",
            "In summary, there are several potential safety concerns and incidents recorded in the graph, including high acceleration readings, low battery levels, and anomalous readings. It is important to investigate these incidents and address any potential safety concerns to ensure the safety of\n",
            "\n",
            "tags_0000014026.ttl\n"
          ]
        },
        {
          "output_type": "stream",
          "name": "stderr",
          "text": [
            "Llama.generate: prefix-match hit\n"
          ]
        },
        {
          "output_type": "stream",
          "name": "stdout",
          "text": [
            "  Based on the provided graph, here are some important incidents that have occurred or potential issues that may arise:\n",
            "* Anomaly in acceleration measurement: There is an unusual acceleration reading of -251 for observation ID 7449 in the second acceleration window. This could indicate a problem with the sensor or the measurement process.\n",
            "* Dangerous battery level: The watch battery level for observation ID 7449 is at 97, which is relatively low and may require attention to ensure continued proper functioning of the device.\n",
            "* Watch connected issue: The watch is connected for observation ID 7449, which could indicate a potential problem with the device or the measurement process.\n",
            "* Location measurement issues: There are anomalies in the location measurements for observation ID 7449, particularly in the X and Z axes. This could indicate a problem with the location sensor or the measurement process.\n",
            "* High acceleration reading: There is an unusual high acceleration reading of 8 for observation ID 7449 in the second acceleration window. This could indicate a problem with the sensor or the measurement process.\n",
            "* Low accuracy value: The accuracy value for observation ID 7449 is low, which could indicate a problem with the device or the measurement process.\n",
            "Overall, these incidents and potential issues should be investigated further to determine the root cause and take appropriate action to prevent any potential problems or accidents.\n",
            "\n",
            "tags_0000014036.ttl\n"
          ]
        },
        {
          "output_type": "stream",
          "name": "stderr",
          "text": [
            "Llama.generate: prefix-match hit\n"
          ]
        },
        {
          "output_type": "stream",
          "name": "stdout",
          "text": [
            "  Based on the provided graph, here are some important incidents and potential safety hazards that have been detected:\n",
            "1. High acceleration reading: The observation 7449 has an accelerometer reading of -333 for the acceleration window \"2\". This is a potentially dangerous reading as it indicates a high level of vibration or movement, which could be indicative of structural damage or instability.\n",
            "2. Low battery level: The tag 7449 has a watch battery level of 97, which is relatively low. This may indicate that the device is not functioning properly and may need to be replaced or recharged.\n",
            "3. Discrepancy in location measurements: The location measurement for the tag 7449 indicates a discrepancy between the X, Y, and Z values. This could be indicative of a problem with the device's location sensors or a misalignment issue.\n",
            "4. Alarm not triggered: The observation 7449 does not have an alarm triggered, which may indicate that the device is not functioning properly or that there is a problem with the sensor.\n",
            "5. Unusual acceleration reading: The observation 7449 has an accelerometer reading of -82 for the acceleration window \"1\". This is an unusual reading and may indicate a problem with the device or its surroundings.\n",
            "To address these incidents, the following actions can be taken:\n",
            "1. Inspect the structure for any signs of damage or instability.\n",
            "2. Replace or recharge the battery of the tag 7449 to ensure proper functioning.\n",
            "3. Check the location sensors and alignment of the device to address the discrepancy in measurements.\n",
            "4. Trigger an alarm on the observation 7449 to indicate a potential problem with the device or sensor.\n",
            "5.\n",
            "\n"
          ]
        }
      ]
    }
  ]
}